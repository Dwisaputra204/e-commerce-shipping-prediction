{
 "cells": [
  {
   "cell_type": "markdown",
   "id": "a8ff7cbf",
   "metadata": {},
   "source": [
    "# Import & Read"
   ]
  },
  {
   "cell_type": "code",
   "execution_count": 1,
   "id": "a2cf5ec6",
   "metadata": {},
   "outputs": [],
   "source": [
    "# import package & library\n",
    "import pandas as pd\n",
    "import numpy as np\n",
    "import matplotlib.pyplot as plt\n",
    "import seaborn as sns\n",
    "import warnings\n",
    "\n",
    "warnings.filterwarnings('ignore')\n",
    "plt.style.use('seaborn')"
   ]
  },
  {
   "cell_type": "code",
   "execution_count": 2,
   "id": "5cab0f5e",
   "metadata": {},
   "outputs": [],
   "source": [
    "# load data set\n",
    "data = pd.read_csv('Train.csv')"
   ]
  },
  {
   "cell_type": "code",
   "execution_count": 3,
   "id": "93e11c0a",
   "metadata": {
    "scrolled": true
   },
   "outputs": [
    {
     "data": {
      "text/html": [
       "<div>\n",
       "<style scoped>\n",
       "    .dataframe tbody tr th:only-of-type {\n",
       "        vertical-align: middle;\n",
       "    }\n",
       "\n",
       "    .dataframe tbody tr th {\n",
       "        vertical-align: top;\n",
       "    }\n",
       "\n",
       "    .dataframe thead th {\n",
       "        text-align: right;\n",
       "    }\n",
       "</style>\n",
       "<table border=\"1\" class=\"dataframe\">\n",
       "  <thead>\n",
       "    <tr style=\"text-align: right;\">\n",
       "      <th></th>\n",
       "      <th>ID</th>\n",
       "      <th>Warehouse_block</th>\n",
       "      <th>Mode_of_Shipment</th>\n",
       "      <th>Customer_care_calls</th>\n",
       "      <th>Customer_rating</th>\n",
       "      <th>Cost_of_the_Product</th>\n",
       "      <th>Prior_purchases</th>\n",
       "      <th>Product_importance</th>\n",
       "      <th>Gender</th>\n",
       "      <th>Discount_offered</th>\n",
       "      <th>Weight_in_gms</th>\n",
       "      <th>Reached.on.Time_Y.N</th>\n",
       "    </tr>\n",
       "  </thead>\n",
       "  <tbody>\n",
       "    <tr>\n",
       "      <th>0</th>\n",
       "      <td>1</td>\n",
       "      <td>D</td>\n",
       "      <td>Flight</td>\n",
       "      <td>4</td>\n",
       "      <td>2</td>\n",
       "      <td>177</td>\n",
       "      <td>3</td>\n",
       "      <td>low</td>\n",
       "      <td>F</td>\n",
       "      <td>44</td>\n",
       "      <td>1233</td>\n",
       "      <td>1</td>\n",
       "    </tr>\n",
       "    <tr>\n",
       "      <th>1</th>\n",
       "      <td>2</td>\n",
       "      <td>F</td>\n",
       "      <td>Flight</td>\n",
       "      <td>4</td>\n",
       "      <td>5</td>\n",
       "      <td>216</td>\n",
       "      <td>2</td>\n",
       "      <td>low</td>\n",
       "      <td>M</td>\n",
       "      <td>59</td>\n",
       "      <td>3088</td>\n",
       "      <td>1</td>\n",
       "    </tr>\n",
       "    <tr>\n",
       "      <th>2</th>\n",
       "      <td>3</td>\n",
       "      <td>A</td>\n",
       "      <td>Flight</td>\n",
       "      <td>2</td>\n",
       "      <td>2</td>\n",
       "      <td>183</td>\n",
       "      <td>4</td>\n",
       "      <td>low</td>\n",
       "      <td>M</td>\n",
       "      <td>48</td>\n",
       "      <td>3374</td>\n",
       "      <td>1</td>\n",
       "    </tr>\n",
       "    <tr>\n",
       "      <th>3</th>\n",
       "      <td>4</td>\n",
       "      <td>B</td>\n",
       "      <td>Flight</td>\n",
       "      <td>3</td>\n",
       "      <td>3</td>\n",
       "      <td>176</td>\n",
       "      <td>4</td>\n",
       "      <td>medium</td>\n",
       "      <td>M</td>\n",
       "      <td>10</td>\n",
       "      <td>1177</td>\n",
       "      <td>1</td>\n",
       "    </tr>\n",
       "    <tr>\n",
       "      <th>4</th>\n",
       "      <td>5</td>\n",
       "      <td>C</td>\n",
       "      <td>Flight</td>\n",
       "      <td>2</td>\n",
       "      <td>2</td>\n",
       "      <td>184</td>\n",
       "      <td>3</td>\n",
       "      <td>medium</td>\n",
       "      <td>F</td>\n",
       "      <td>46</td>\n",
       "      <td>2484</td>\n",
       "      <td>1</td>\n",
       "    </tr>\n",
       "  </tbody>\n",
       "</table>\n",
       "</div>"
      ],
      "text/plain": [
       "   ID Warehouse_block Mode_of_Shipment  Customer_care_calls  Customer_rating  \\\n",
       "0   1               D           Flight                    4                2   \n",
       "1   2               F           Flight                    4                5   \n",
       "2   3               A           Flight                    2                2   \n",
       "3   4               B           Flight                    3                3   \n",
       "4   5               C           Flight                    2                2   \n",
       "\n",
       "   Cost_of_the_Product  Prior_purchases Product_importance Gender  \\\n",
       "0                  177                3                low      F   \n",
       "1                  216                2                low      M   \n",
       "2                  183                4                low      M   \n",
       "3                  176                4             medium      M   \n",
       "4                  184                3             medium      F   \n",
       "\n",
       "   Discount_offered  Weight_in_gms  Reached.on.Time_Y.N  \n",
       "0                44           1233                    1  \n",
       "1                59           3088                    1  \n",
       "2                48           3374                    1  \n",
       "3                10           1177                    1  \n",
       "4                46           2484                    1  "
      ]
     },
     "execution_count": 3,
     "metadata": {},
     "output_type": "execute_result"
    }
   ],
   "source": [
    "data.head()"
   ]
  },
  {
   "cell_type": "markdown",
   "id": "8a223add",
   "metadata": {},
   "source": [
    "1 = late; 0 = on time"
   ]
  },
  {
   "cell_type": "markdown",
   "id": "2ebf6376",
   "metadata": {},
   "source": [
    "# Data Cleaning & Preprocessing"
   ]
  },
  {
   "cell_type": "code",
   "execution_count": 4,
   "id": "f94c25c2",
   "metadata": {},
   "outputs": [],
   "source": [
    "data.rename(columns={'Reached.on.Time_Y.N':'Reached_on_time'}, inplace=True)"
   ]
  },
  {
   "cell_type": "code",
   "execution_count": 5,
   "id": "14636931",
   "metadata": {
    "scrolled": true
   },
   "outputs": [
    {
     "data": {
      "text/html": [
       "<div>\n",
       "<style scoped>\n",
       "    .dataframe tbody tr th:only-of-type {\n",
       "        vertical-align: middle;\n",
       "    }\n",
       "\n",
       "    .dataframe tbody tr th {\n",
       "        vertical-align: top;\n",
       "    }\n",
       "\n",
       "    .dataframe thead th {\n",
       "        text-align: right;\n",
       "    }\n",
       "</style>\n",
       "<table border=\"1\" class=\"dataframe\">\n",
       "  <thead>\n",
       "    <tr style=\"text-align: right;\">\n",
       "      <th></th>\n",
       "      <th>ID</th>\n",
       "      <th>Warehouse_block</th>\n",
       "      <th>Mode_of_Shipment</th>\n",
       "      <th>Customer_care_calls</th>\n",
       "      <th>Customer_rating</th>\n",
       "      <th>Cost_of_the_Product</th>\n",
       "      <th>Prior_purchases</th>\n",
       "      <th>Product_importance</th>\n",
       "      <th>Gender</th>\n",
       "      <th>Discount_offered</th>\n",
       "      <th>Weight_in_gms</th>\n",
       "      <th>Reached_on_time</th>\n",
       "    </tr>\n",
       "  </thead>\n",
       "  <tbody>\n",
       "    <tr>\n",
       "      <th>0</th>\n",
       "      <td>1</td>\n",
       "      <td>D</td>\n",
       "      <td>Flight</td>\n",
       "      <td>4</td>\n",
       "      <td>2</td>\n",
       "      <td>177</td>\n",
       "      <td>3</td>\n",
       "      <td>low</td>\n",
       "      <td>F</td>\n",
       "      <td>44</td>\n",
       "      <td>1233</td>\n",
       "      <td>1</td>\n",
       "    </tr>\n",
       "    <tr>\n",
       "      <th>1</th>\n",
       "      <td>2</td>\n",
       "      <td>F</td>\n",
       "      <td>Flight</td>\n",
       "      <td>4</td>\n",
       "      <td>5</td>\n",
       "      <td>216</td>\n",
       "      <td>2</td>\n",
       "      <td>low</td>\n",
       "      <td>M</td>\n",
       "      <td>59</td>\n",
       "      <td>3088</td>\n",
       "      <td>1</td>\n",
       "    </tr>\n",
       "    <tr>\n",
       "      <th>2</th>\n",
       "      <td>3</td>\n",
       "      <td>A</td>\n",
       "      <td>Flight</td>\n",
       "      <td>2</td>\n",
       "      <td>2</td>\n",
       "      <td>183</td>\n",
       "      <td>4</td>\n",
       "      <td>low</td>\n",
       "      <td>M</td>\n",
       "      <td>48</td>\n",
       "      <td>3374</td>\n",
       "      <td>1</td>\n",
       "    </tr>\n",
       "    <tr>\n",
       "      <th>3</th>\n",
       "      <td>4</td>\n",
       "      <td>B</td>\n",
       "      <td>Flight</td>\n",
       "      <td>3</td>\n",
       "      <td>3</td>\n",
       "      <td>176</td>\n",
       "      <td>4</td>\n",
       "      <td>medium</td>\n",
       "      <td>M</td>\n",
       "      <td>10</td>\n",
       "      <td>1177</td>\n",
       "      <td>1</td>\n",
       "    </tr>\n",
       "    <tr>\n",
       "      <th>4</th>\n",
       "      <td>5</td>\n",
       "      <td>C</td>\n",
       "      <td>Flight</td>\n",
       "      <td>2</td>\n",
       "      <td>2</td>\n",
       "      <td>184</td>\n",
       "      <td>3</td>\n",
       "      <td>medium</td>\n",
       "      <td>F</td>\n",
       "      <td>46</td>\n",
       "      <td>2484</td>\n",
       "      <td>1</td>\n",
       "    </tr>\n",
       "  </tbody>\n",
       "</table>\n",
       "</div>"
      ],
      "text/plain": [
       "   ID Warehouse_block Mode_of_Shipment  Customer_care_calls  Customer_rating  \\\n",
       "0   1               D           Flight                    4                2   \n",
       "1   2               F           Flight                    4                5   \n",
       "2   3               A           Flight                    2                2   \n",
       "3   4               B           Flight                    3                3   \n",
       "4   5               C           Flight                    2                2   \n",
       "\n",
       "   Cost_of_the_Product  Prior_purchases Product_importance Gender  \\\n",
       "0                  177                3                low      F   \n",
       "1                  216                2                low      M   \n",
       "2                  183                4                low      M   \n",
       "3                  176                4             medium      M   \n",
       "4                  184                3             medium      F   \n",
       "\n",
       "   Discount_offered  Weight_in_gms  Reached_on_time  \n",
       "0                44           1233                1  \n",
       "1                59           3088                1  \n",
       "2                48           3374                1  \n",
       "3                10           1177                1  \n",
       "4                46           2484                1  "
      ]
     },
     "execution_count": 5,
     "metadata": {},
     "output_type": "execute_result"
    }
   ],
   "source": [
    "data.head()"
   ]
  },
  {
   "cell_type": "markdown",
   "id": "e5d20a4b",
   "metadata": {},
   "source": [
    "### Detecting & Handling Missing Values"
   ]
  },
  {
   "cell_type": "code",
   "execution_count": 6,
   "id": "7fa490b8",
   "metadata": {
    "scrolled": true
   },
   "outputs": [
    {
     "data": {
      "text/plain": [
       "ID                     0\n",
       "Warehouse_block        0\n",
       "Mode_of_Shipment       0\n",
       "Customer_care_calls    0\n",
       "Customer_rating        0\n",
       "Cost_of_the_Product    0\n",
       "Prior_purchases        0\n",
       "Product_importance     0\n",
       "Gender                 0\n",
       "Discount_offered       0\n",
       "Weight_in_gms          0\n",
       "Reached_on_time        0\n",
       "dtype: int64"
      ]
     },
     "execution_count": 6,
     "metadata": {},
     "output_type": "execute_result"
    }
   ],
   "source": [
    "data.isnull().sum()"
   ]
  },
  {
   "cell_type": "code",
   "execution_count": 7,
   "id": "cb5b6c00",
   "metadata": {
    "scrolled": false
   },
   "outputs": [
    {
     "data": {
      "text/plain": [
       "ID                     0\n",
       "Warehouse_block        0\n",
       "Mode_of_Shipment       0\n",
       "Customer_care_calls    0\n",
       "Customer_rating        0\n",
       "Cost_of_the_Product    0\n",
       "Prior_purchases        0\n",
       "Product_importance     0\n",
       "Gender                 0\n",
       "Discount_offered       0\n",
       "Weight_in_gms          0\n",
       "Reached_on_time        0\n",
       "dtype: int64"
      ]
     },
     "execution_count": 7,
     "metadata": {},
     "output_type": "execute_result"
    }
   ],
   "source": [
    "data.isna().sum()"
   ]
  },
  {
   "cell_type": "markdown",
   "id": "ac8a4488",
   "metadata": {},
   "source": [
    "### Detecting & Handling Outliers"
   ]
  },
  {
   "cell_type": "code",
   "execution_count": 8,
   "id": "cfa6f76e",
   "metadata": {
    "scrolled": true
   },
   "outputs": [
    {
     "data": {
      "text/plain": [
       "Index(['ID', 'Customer_care_calls', 'Customer_rating', 'Cost_of_the_Product',\n",
       "       'Prior_purchases', 'Discount_offered', 'Weight_in_gms',\n",
       "       'Reached_on_time'],\n",
       "      dtype='object')"
      ]
     },
     "execution_count": 8,
     "metadata": {},
     "output_type": "execute_result"
    }
   ],
   "source": [
    "check_outlier = data.select_dtypes('int64')\n",
    "check_outlier.columns"
   ]
  },
  {
   "cell_type": "code",
   "execution_count": 9,
   "id": "3cd6799f",
   "metadata": {},
   "outputs": [],
   "source": [
    "# Make function to detect outlier using upper bound and lower bound\n",
    "def outlier(sample):\n",
    "    Q1=sample.quantile(0.25)\n",
    "    Q3=sample.quantile(0.75)\n",
    "    IQR=Q3-Q1\n",
    "    lower_range = Q1 -(1.5 * IQR)\n",
    "    upper_range = Q3 +(1.5 * IQR)\n",
    "    \n",
    "    number_outlier=len(sample[sample>upper_range])+len(sample[sample<lower_range])\n",
    "    print(\"- Number of Outlier From Variable {} : {}\".format(sample.name, number_outlier))\n",
    "    \n",
    "#     if number_outlier>0:\n",
    "#         print(\"  Outlier observation row:\")\n",
    "#     else:\n",
    "#         pass\n",
    "#     out_list = []\n",
    "    \n",
    "#     for i in range(len(sample)):\n",
    "#         if sample[i]<lower_range: \n",
    "#             out_list.append(i)\n",
    "#         elif sample[i]>upper_range:\n",
    "#             out_list.append(i) \n",
    "#         else:\n",
    "#             pass\n",
    "#     if out_list != []:\n",
    "#         print(' ', out_list)"
   ]
  },
  {
   "cell_type": "code",
   "execution_count": 10,
   "id": "23b50ee6",
   "metadata": {},
   "outputs": [
    {
     "name": "stdout",
     "output_type": "stream",
     "text": [
      "- Number of Outlier From Variable ID : 0\n",
      "- Number of Outlier From Variable Customer_care_calls : 0\n",
      "- Number of Outlier From Variable Customer_rating : 0\n",
      "- Number of Outlier From Variable Cost_of_the_Product : 0\n",
      "- Number of Outlier From Variable Prior_purchases : 1003\n",
      "- Number of Outlier From Variable Discount_offered : 2209\n",
      "- Number of Outlier From Variable Weight_in_gms : 0\n",
      "- Number of Outlier From Variable Reached_on_time : 0\n"
     ]
    }
   ],
   "source": [
    "for column in check_outlier.columns:\n",
    "    outlier(data[column])"
   ]
  },
  {
   "cell_type": "code",
   "execution_count": 11,
   "id": "2aace478",
   "metadata": {},
   "outputs": [
    {
     "data": {
      "text/plain": [
       "<AxesSubplot:xlabel='Discount_offered'>"
      ]
     },
     "execution_count": 11,
     "metadata": {},
     "output_type": "execute_result"
    },
    {
     "data": {
      "image/png": "[encoded data removed]",
      "text/plain": [
       "<Figure size 576x396 with 1 Axes>"
      ]
     },
     "metadata": {},
     "output_type": "display_data"
    }
   ],
   "source": [
    "sns.boxplot(data['Discount_offered'])"
   ]
  },
  {
   "cell_type": "code",
   "execution_count": 12,
   "id": "211deec2",
   "metadata": {},
   "outputs": [
    {
     "data": {
      "text/plain": [
       "65"
      ]
     },
     "execution_count": 12,
     "metadata": {},
     "output_type": "execute_result"
    }
   ],
   "source": [
    "data['Discount_offered'].nunique()"
   ]
  },
  {
   "cell_type": "code",
   "execution_count": 13,
   "id": "6b833ebf",
   "metadata": {
    "scrolled": false
   },
   "outputs": [
    {
     "data": {
      "text/plain": [
       "<AxesSubplot:xlabel='Prior_purchases'>"
      ]
     },
     "execution_count": 13,
     "metadata": {},
     "output_type": "execute_result"
    },
    {
     "data": {
      "image/png": "[encoded data removed]",
      "text/plain": [
       "<Figure size 576x396 with 1 Axes>"
      ]
     },
     "metadata": {},
     "output_type": "display_data"
    }
   ],
   "source": [
    "sns.boxplot(data['Prior_purchases'])"
   ]
  },
  {
   "cell_type": "code",
   "execution_count": 14,
   "id": "a63009da",
   "metadata": {},
   "outputs": [
    {
     "data": {
      "text/plain": [
       "8"
      ]
     },
     "execution_count": 14,
     "metadata": {},
     "output_type": "execute_result"
    }
   ],
   "source": [
    "data['Prior_purchases'].nunique()"
   ]
  },
  {
   "cell_type": "markdown",
   "id": "97ac50d2",
   "metadata": {},
   "source": [
    "### Detecting & Handling Duplicates Values"
   ]
  },
  {
   "cell_type": "code",
   "execution_count": 15,
   "id": "58780d3f",
   "metadata": {
    "scrolled": false
   },
   "outputs": [
    {
     "data": {
      "text/plain": [
       "False"
      ]
     },
     "execution_count": 15,
     "metadata": {},
     "output_type": "execute_result"
    }
   ],
   "source": [
    "data.duplicated().any()"
   ]
  },
  {
   "cell_type": "markdown",
   "id": "66006ad6",
   "metadata": {},
   "source": [
    "## Exploratory Data Analysis (EDA)"
   ]
  },
  {
   "cell_type": "code",
   "execution_count": 16,
   "id": "cc57b31e",
   "metadata": {
    "scrolled": false
   },
   "outputs": [
    {
     "name": "stdout",
     "output_type": "stream",
     "text": [
      "<class 'pandas.core.frame.DataFrame'>\n",
      "RangeIndex: 10999 entries, 0 to 10998\n",
      "Data columns (total 12 columns):\n",
      " #   Column               Non-Null Count  Dtype \n",
      "---  ------               --------------  ----- \n",
      " 0   ID                   10999 non-null  int64 \n",
      " 1   Warehouse_block      10999 non-null  object\n",
      " 2   Mode_of_Shipment     10999 non-null  object\n",
      " 3   Customer_care_calls  10999 non-null  int64 \n",
      " 4   Customer_rating      10999 non-null  int64 \n",
      " 5   Cost_of_the_Product  10999 non-null  int64 \n",
      " 6   Prior_purchases      10999 non-null  int64 \n",
      " 7   Product_importance   10999 non-null  object\n",
      " 8   Gender               10999 non-null  object\n",
      " 9   Discount_offered     10999 non-null  int64 \n",
      " 10  Weight_in_gms        10999 non-null  int64 \n",
      " 11  Reached_on_time      10999 non-null  int64 \n",
      "dtypes: int64(8), object(4)\n",
      "memory usage: 1.0+ MB\n"
     ]
    }
   ],
   "source": [
    "data.info()"
   ]
  },
  {
   "cell_type": "code",
   "execution_count": 17,
   "id": "0e511ec7",
   "metadata": {
    "scrolled": true
   },
   "outputs": [
    {
     "data": {
      "text/html": [
       "<div>\n",
       "<style scoped>\n",
       "    .dataframe tbody tr th:only-of-type {\n",
       "        vertical-align: middle;\n",
       "    }\n",
       "\n",
       "    .dataframe tbody tr th {\n",
       "        vertical-align: top;\n",
       "    }\n",
       "\n",
       "    .dataframe thead th {\n",
       "        text-align: right;\n",
       "    }\n",
       "</style>\n",
       "<table border=\"1\" class=\"dataframe\">\n",
       "  <thead>\n",
       "    <tr style=\"text-align: right;\">\n",
       "      <th></th>\n",
       "      <th>ID</th>\n",
       "      <th>Customer_care_calls</th>\n",
       "      <th>Customer_rating</th>\n",
       "      <th>Cost_of_the_Product</th>\n",
       "      <th>Prior_purchases</th>\n",
       "      <th>Discount_offered</th>\n",
       "      <th>Weight_in_gms</th>\n",
       "      <th>Reached_on_time</th>\n",
       "    </tr>\n",
       "  </thead>\n",
       "  <tbody>\n",
       "    <tr>\n",
       "      <th>count</th>\n",
       "      <td>10999.00000</td>\n",
       "      <td>10999.000000</td>\n",
       "      <td>10999.000000</td>\n",
       "      <td>10999.000000</td>\n",
       "      <td>10999.000000</td>\n",
       "      <td>10999.000000</td>\n",
       "      <td>10999.000000</td>\n",
       "      <td>10999.000000</td>\n",
       "    </tr>\n",
       "    <tr>\n",
       "      <th>mean</th>\n",
       "      <td>5500.00000</td>\n",
       "      <td>4.054459</td>\n",
       "      <td>2.990545</td>\n",
       "      <td>210.196836</td>\n",
       "      <td>3.567597</td>\n",
       "      <td>13.373216</td>\n",
       "      <td>3634.016729</td>\n",
       "      <td>0.596691</td>\n",
       "    </tr>\n",
       "    <tr>\n",
       "      <th>std</th>\n",
       "      <td>3175.28214</td>\n",
       "      <td>1.141490</td>\n",
       "      <td>1.413603</td>\n",
       "      <td>48.063272</td>\n",
       "      <td>1.522860</td>\n",
       "      <td>16.205527</td>\n",
       "      <td>1635.377251</td>\n",
       "      <td>0.490584</td>\n",
       "    </tr>\n",
       "    <tr>\n",
       "      <th>min</th>\n",
       "      <td>1.00000</td>\n",
       "      <td>2.000000</td>\n",
       "      <td>1.000000</td>\n",
       "      <td>96.000000</td>\n",
       "      <td>2.000000</td>\n",
       "      <td>1.000000</td>\n",
       "      <td>1001.000000</td>\n",
       "      <td>0.000000</td>\n",
       "    </tr>\n",
       "    <tr>\n",
       "      <th>25%</th>\n",
       "      <td>2750.50000</td>\n",
       "      <td>3.000000</td>\n",
       "      <td>2.000000</td>\n",
       "      <td>169.000000</td>\n",
       "      <td>3.000000</td>\n",
       "      <td>4.000000</td>\n",
       "      <td>1839.500000</td>\n",
       "      <td>0.000000</td>\n",
       "    </tr>\n",
       "    <tr>\n",
       "      <th>50%</th>\n",
       "      <td>5500.00000</td>\n",
       "      <td>4.000000</td>\n",
       "      <td>3.000000</td>\n",
       "      <td>214.000000</td>\n",
       "      <td>3.000000</td>\n",
       "      <td>7.000000</td>\n",
       "      <td>4149.000000</td>\n",
       "      <td>1.000000</td>\n",
       "    </tr>\n",
       "    <tr>\n",
       "      <th>75%</th>\n",
       "      <td>8249.50000</td>\n",
       "      <td>5.000000</td>\n",
       "      <td>4.000000</td>\n",
       "      <td>251.000000</td>\n",
       "      <td>4.000000</td>\n",
       "      <td>10.000000</td>\n",
       "      <td>5050.000000</td>\n",
       "      <td>1.000000</td>\n",
       "    </tr>\n",
       "    <tr>\n",
       "      <th>max</th>\n",
       "      <td>10999.00000</td>\n",
       "      <td>7.000000</td>\n",
       "      <td>5.000000</td>\n",
       "      <td>310.000000</td>\n",
       "      <td>10.000000</td>\n",
       "      <td>65.000000</td>\n",
       "      <td>7846.000000</td>\n",
       "      <td>1.000000</td>\n",
       "    </tr>\n",
       "  </tbody>\n",
       "</table>\n",
       "</div>"
      ],
      "text/plain": [
       "                ID  Customer_care_calls  Customer_rating  Cost_of_the_Product  \\\n",
       "count  10999.00000         10999.000000     10999.000000         10999.000000   \n",
       "mean    5500.00000             4.054459         2.990545           210.196836   \n",
       "std     3175.28214             1.141490         1.413603            48.063272   \n",
       "min        1.00000             2.000000         1.000000            96.000000   \n",
       "25%     2750.50000             3.000000         2.000000           169.000000   \n",
       "50%     5500.00000             4.000000         3.000000           214.000000   \n",
       "75%     8249.50000             5.000000         4.000000           251.000000   \n",
       "max    10999.00000             7.000000         5.000000           310.000000   \n",
       "\n",
       "       Prior_purchases  Discount_offered  Weight_in_gms  Reached_on_time  \n",
       "count     10999.000000      10999.000000   10999.000000     10999.000000  \n",
       "mean          3.567597         13.373216    3634.016729         0.596691  \n",
       "std           1.522860         16.205527    1635.377251         0.490584  \n",
       "min           2.000000          1.000000    1001.000000         0.000000  \n",
       "25%           3.000000          4.000000    1839.500000         0.000000  \n",
       "50%           3.000000          7.000000    4149.000000         1.000000  \n",
       "75%           4.000000         10.000000    5050.000000         1.000000  \n",
       "max          10.000000         65.000000    7846.000000         1.000000  "
      ]
     },
     "execution_count": 17,
     "metadata": {},
     "output_type": "execute_result"
    }
   ],
   "source": [
    "data.describe()"
   ]
  },
  {
   "cell_type": "code",
   "execution_count": 18,
   "id": "751888fd",
   "metadata": {
    "scrolled": true
   },
   "outputs": [
    {
     "data": {
      "text/html": [
       "<div>\n",
       "<style scoped>\n",
       "    .dataframe tbody tr th:only-of-type {\n",
       "        vertical-align: middle;\n",
       "    }\n",
       "\n",
       "    .dataframe tbody tr th {\n",
       "        vertical-align: top;\n",
       "    }\n",
       "\n",
       "    .dataframe thead th {\n",
       "        text-align: right;\n",
       "    }\n",
       "</style>\n",
       "<table border=\"1\" class=\"dataframe\">\n",
       "  <thead>\n",
       "    <tr style=\"text-align: right;\">\n",
       "      <th></th>\n",
       "      <th>ID</th>\n",
       "      <th>Warehouse_block</th>\n",
       "      <th>Mode_of_Shipment</th>\n",
       "      <th>Customer_care_calls</th>\n",
       "      <th>Customer_rating</th>\n",
       "      <th>Cost_of_the_Product</th>\n",
       "      <th>Prior_purchases</th>\n",
       "      <th>Product_importance</th>\n",
       "      <th>Gender</th>\n",
       "      <th>Discount_offered</th>\n",
       "      <th>Weight_in_gms</th>\n",
       "      <th>Reached_on_time</th>\n",
       "    </tr>\n",
       "  </thead>\n",
       "  <tbody>\n",
       "    <tr>\n",
       "      <th>0</th>\n",
       "      <td>1</td>\n",
       "      <td>D</td>\n",
       "      <td>Flight</td>\n",
       "      <td>4</td>\n",
       "      <td>2</td>\n",
       "      <td>177</td>\n",
       "      <td>3</td>\n",
       "      <td>low</td>\n",
       "      <td>F</td>\n",
       "      <td>44</td>\n",
       "      <td>1233</td>\n",
       "      <td>1</td>\n",
       "    </tr>\n",
       "    <tr>\n",
       "      <th>1</th>\n",
       "      <td>2</td>\n",
       "      <td>F</td>\n",
       "      <td>Flight</td>\n",
       "      <td>4</td>\n",
       "      <td>5</td>\n",
       "      <td>216</td>\n",
       "      <td>2</td>\n",
       "      <td>low</td>\n",
       "      <td>M</td>\n",
       "      <td>59</td>\n",
       "      <td>3088</td>\n",
       "      <td>1</td>\n",
       "    </tr>\n",
       "    <tr>\n",
       "      <th>2</th>\n",
       "      <td>3</td>\n",
       "      <td>A</td>\n",
       "      <td>Flight</td>\n",
       "      <td>2</td>\n",
       "      <td>2</td>\n",
       "      <td>183</td>\n",
       "      <td>4</td>\n",
       "      <td>low</td>\n",
       "      <td>M</td>\n",
       "      <td>48</td>\n",
       "      <td>3374</td>\n",
       "      <td>1</td>\n",
       "    </tr>\n",
       "    <tr>\n",
       "      <th>3</th>\n",
       "      <td>4</td>\n",
       "      <td>B</td>\n",
       "      <td>Flight</td>\n",
       "      <td>3</td>\n",
       "      <td>3</td>\n",
       "      <td>176</td>\n",
       "      <td>4</td>\n",
       "      <td>medium</td>\n",
       "      <td>M</td>\n",
       "      <td>10</td>\n",
       "      <td>1177</td>\n",
       "      <td>1</td>\n",
       "    </tr>\n",
       "    <tr>\n",
       "      <th>4</th>\n",
       "      <td>5</td>\n",
       "      <td>C</td>\n",
       "      <td>Flight</td>\n",
       "      <td>2</td>\n",
       "      <td>2</td>\n",
       "      <td>184</td>\n",
       "      <td>3</td>\n",
       "      <td>medium</td>\n",
       "      <td>F</td>\n",
       "      <td>46</td>\n",
       "      <td>2484</td>\n",
       "      <td>1</td>\n",
       "    </tr>\n",
       "  </tbody>\n",
       "</table>\n",
       "</div>"
      ],
      "text/plain": [
       "   ID Warehouse_block Mode_of_Shipment  Customer_care_calls  Customer_rating  \\\n",
       "0   1               D           Flight                    4                2   \n",
       "1   2               F           Flight                    4                5   \n",
       "2   3               A           Flight                    2                2   \n",
       "3   4               B           Flight                    3                3   \n",
       "4   5               C           Flight                    2                2   \n",
       "\n",
       "   Cost_of_the_Product  Prior_purchases Product_importance Gender  \\\n",
       "0                  177                3                low      F   \n",
       "1                  216                2                low      M   \n",
       "2                  183                4                low      M   \n",
       "3                  176                4             medium      M   \n",
       "4                  184                3             medium      F   \n",
       "\n",
       "   Discount_offered  Weight_in_gms  Reached_on_time  \n",
       "0                44           1233                1  \n",
       "1                59           3088                1  \n",
       "2                48           3374                1  \n",
       "3                10           1177                1  \n",
       "4                46           2484                1  "
      ]
     },
     "execution_count": 18,
     "metadata": {},
     "output_type": "execute_result"
    }
   ],
   "source": [
    "data.head()"
   ]
  },
  {
   "cell_type": "code",
   "execution_count": 19,
   "id": "c76eb610",
   "metadata": {},
   "outputs": [
    {
     "data": {
      "text/plain": [
       "(10999, 12)"
      ]
     },
     "execution_count": 19,
     "metadata": {},
     "output_type": "execute_result"
    }
   ],
   "source": [
    "data.shape"
   ]
  },
  {
   "cell_type": "code",
   "execution_count": 20,
   "id": "e15b5c2a",
   "metadata": {
    "scrolled": true
   },
   "outputs": [
    {
     "data": {
      "text/plain": [
       "1    6563\n",
       "0    4436\n",
       "Name: Reached_on_time, dtype: int64"
      ]
     },
     "execution_count": 20,
     "metadata": {},
     "output_type": "execute_result"
    }
   ],
   "source": [
    "data['Reached_on_time'].value_counts()"
   ]
  },
  {
   "cell_type": "code",
   "execution_count": 21,
   "id": "9d805f3e",
   "metadata": {
    "scrolled": true
   },
   "outputs": [
    {
     "name": "stdout",
     "output_type": "stream",
     "text": [
      "Count unique data of ID : 10999\n",
      "Count unique data of Warehouse_block : 5\n",
      "Count unique data of Mode_of_Shipment : 3\n",
      "Count unique data of Customer_care_calls : 6\n",
      "Count unique data of Customer_rating : 5\n",
      "Count unique data of Cost_of_the_Product : 215\n",
      "Count unique data of Prior_purchases : 8\n",
      "Count unique data of Product_importance : 3\n",
      "Count unique data of Gender : 2\n",
      "Count unique data of Discount_offered : 65\n",
      "Count unique data of Weight_in_gms : 4034\n",
      "Count unique data of Reached_on_time : 2\n"
     ]
    }
   ],
   "source": [
    "for column in data.columns:\n",
    "    print('Count unique data of {} : {}'.format(column,data[column].nunique()))"
   ]
  },
  {
   "cell_type": "code",
   "execution_count": 22,
   "id": "bcffbed5",
   "metadata": {},
   "outputs": [
    {
     "name": "stdout",
     "output_type": "stream",
     "text": [
      "numerical :  ['ID', 'Cost_of_the_Product', 'Discount_offered', 'Weight_in_gms']\n",
      "\n",
      "categorical:  ['Warehouse_block', 'Mode_of_Shipment', 'Customer_care_calls', 'Customer_rating', 'Prior_purchases', 'Product_importance', 'Gender', 'Reached_on_time']\n"
     ]
    }
   ],
   "source": [
    "numerical = []\n",
    "categorical = []\n",
    "\n",
    "for column in data.columns:\n",
    "    if data[column].nunique() > 10:\n",
    "        numerical.append(column)\n",
    "    else:\n",
    "        categorical.append(column)\n",
    "\n",
    "print('numerical : ', numerical)\n",
    "print()\n",
    "print('categorical: ', categorical)\n"
   ]
  },
  {
   "cell_type": "code",
   "execution_count": 23,
   "id": "c194fafc",
   "metadata": {},
   "outputs": [
    {
     "data": {
      "text/plain": [
       "<matplotlib.legend.Legend at 0x13e1e7506a0>"
      ]
     },
     "execution_count": 23,
     "metadata": {},
     "output_type": "execute_result"
    },
    {
     "data": {
      "image/png": "[encoded data removed]",
      "text/plain": [
       "<Figure size 1080x504 with 1 Axes>"
      ]
     },
     "metadata": {},
     "output_type": "display_data"
    }
   ],
   "source": [
    "plt.figure(figsize=(15,7))\n",
    "sns.distplot(data.Cost_of_the_Product[data['Reached_on_time'] == 1],color='r',label='late')\n",
    "sns.distplot(data.Cost_of_the_Product[data['Reached_on_time'] == 0],color='b', label='on time')\n",
    "plt.legend()"
   ]
  },
  {
   "cell_type": "code",
   "execution_count": 24,
   "id": "ba981078",
   "metadata": {},
   "outputs": [
    {
     "data": {
      "text/plain": [
       "<matplotlib.legend.Legend at 0x13e1e64e610>"
      ]
     },
     "execution_count": 24,
     "metadata": {},
     "output_type": "execute_result"
    },
    {
     "data": {
      "image/png": "[encoded data removed]",
      "text/plain": [
       "<Figure size 1080x504 with 1 Axes>"
      ]
     },
     "metadata": {},
     "output_type": "display_data"
    }
   ],
   "source": [
    "plt.figure(figsize=(15,7))\n",
    "sns.distplot(data.Discount_offered[data['Reached_on_time'] == 1],color='r',label='late')\n",
    "sns.distplot(data.Discount_offered[data['Reached_on_time'] == 0],color='b', label='on time')\n",
    "plt.legend()"
   ]
  },
  {
   "cell_type": "code",
   "execution_count": 25,
   "id": "977c7963",
   "metadata": {
    "scrolled": false
   },
   "outputs": [
    {
     "data": {
      "text/plain": [
       "<matplotlib.legend.Legend at 0x13e1ecef550>"
      ]
     },
     "execution_count": 25,
     "metadata": {},
     "output_type": "execute_result"
    },
    {
     "data": {
      "image/png": "[encoded data removed]",
      "text/plain": [
       "<Figure size 1080x504 with 1 Axes>"
      ]
     },
     "metadata": {},
     "output_type": "display_data"
    }
   ],
   "source": [
    "plt.figure(figsize=(15,7))\n",
    "sns.distplot(data.Weight_in_gms[data['Reached_on_time'] == 1],color='r',label='late')\n",
    "sns.distplot(data.Weight_in_gms[data['Reached_on_time'] == 0],color='b', label='on time')\n",
    "plt.legend()"
   ]
  },
  {
   "cell_type": "code",
   "execution_count": 26,
   "id": "9d2e51a8",
   "metadata": {},
   "outputs": [],
   "source": [
    "# cek berat produk 2000 - 4000"
   ]
  },
  {
   "cell_type": "code",
   "execution_count": 27,
   "id": "db3dc036",
   "metadata": {
    "scrolled": false
   },
   "outputs": [
    {
     "data": {
      "image/png": "[encoded data removed]",
      "text/plain": [
       "<Figure size 1080x1800 with 9 Axes>"
      ]
     },
     "metadata": {},
     "output_type": "display_data"
    }
   ],
   "source": [
    "fig, ax = plt.subplots(3,3,figsize=(15,25))\n",
    "\n",
    "for var, ax in zip(categorical,ax.flatten()):\n",
    "    sns.countplot(var, data=data, hue='Reached_on_time', ax=ax)"
   ]
  },
  {
   "cell_type": "code",
   "execution_count": 28,
   "id": "7befa4dc",
   "metadata": {
    "scrolled": false
   },
   "outputs": [
    {
     "data": {
      "text/html": [
       "<div>\n",
       "<style scoped>\n",
       "    .dataframe tbody tr th:only-of-type {\n",
       "        vertical-align: middle;\n",
       "    }\n",
       "\n",
       "    .dataframe tbody tr th {\n",
       "        vertical-align: top;\n",
       "    }\n",
       "\n",
       "    .dataframe thead th {\n",
       "        text-align: right;\n",
       "    }\n",
       "</style>\n",
       "<table border=\"1\" class=\"dataframe\">\n",
       "  <thead>\n",
       "    <tr style=\"text-align: right;\">\n",
       "      <th></th>\n",
       "      <th>ID</th>\n",
       "      <th>Customer_care_calls</th>\n",
       "      <th>Customer_rating</th>\n",
       "      <th>Cost_of_the_Product</th>\n",
       "      <th>Prior_purchases</th>\n",
       "      <th>Discount_offered</th>\n",
       "      <th>Weight_in_gms</th>\n",
       "      <th>Reached_on_time</th>\n",
       "    </tr>\n",
       "  </thead>\n",
       "  <tbody>\n",
       "    <tr>\n",
       "      <th>ID</th>\n",
       "      <td>1.000000</td>\n",
       "      <td>0.188998</td>\n",
       "      <td>-0.005722</td>\n",
       "      <td>0.196791</td>\n",
       "      <td>0.145369</td>\n",
       "      <td>-0.598278</td>\n",
       "      <td>0.278312</td>\n",
       "      <td>-0.411822</td>\n",
       "    </tr>\n",
       "    <tr>\n",
       "      <th>Customer_care_calls</th>\n",
       "      <td>0.188998</td>\n",
       "      <td>1.000000</td>\n",
       "      <td>0.012209</td>\n",
       "      <td>0.323182</td>\n",
       "      <td>0.180771</td>\n",
       "      <td>-0.130750</td>\n",
       "      <td>-0.276615</td>\n",
       "      <td>-0.067126</td>\n",
       "    </tr>\n",
       "    <tr>\n",
       "      <th>Customer_rating</th>\n",
       "      <td>-0.005722</td>\n",
       "      <td>0.012209</td>\n",
       "      <td>1.000000</td>\n",
       "      <td>0.009270</td>\n",
       "      <td>0.013179</td>\n",
       "      <td>-0.003124</td>\n",
       "      <td>-0.001897</td>\n",
       "      <td>0.013119</td>\n",
       "    </tr>\n",
       "    <tr>\n",
       "      <th>Cost_of_the_Product</th>\n",
       "      <td>0.196791</td>\n",
       "      <td>0.323182</td>\n",
       "      <td>0.009270</td>\n",
       "      <td>1.000000</td>\n",
       "      <td>0.123676</td>\n",
       "      <td>-0.138312</td>\n",
       "      <td>-0.132604</td>\n",
       "      <td>-0.073587</td>\n",
       "    </tr>\n",
       "    <tr>\n",
       "      <th>Prior_purchases</th>\n",
       "      <td>0.145369</td>\n",
       "      <td>0.180771</td>\n",
       "      <td>0.013179</td>\n",
       "      <td>0.123676</td>\n",
       "      <td>1.000000</td>\n",
       "      <td>-0.082769</td>\n",
       "      <td>-0.168213</td>\n",
       "      <td>-0.055515</td>\n",
       "    </tr>\n",
       "    <tr>\n",
       "      <th>Discount_offered</th>\n",
       "      <td>-0.598278</td>\n",
       "      <td>-0.130750</td>\n",
       "      <td>-0.003124</td>\n",
       "      <td>-0.138312</td>\n",
       "      <td>-0.082769</td>\n",
       "      <td>1.000000</td>\n",
       "      <td>-0.376067</td>\n",
       "      <td>0.397108</td>\n",
       "    </tr>\n",
       "    <tr>\n",
       "      <th>Weight_in_gms</th>\n",
       "      <td>0.278312</td>\n",
       "      <td>-0.276615</td>\n",
       "      <td>-0.001897</td>\n",
       "      <td>-0.132604</td>\n",
       "      <td>-0.168213</td>\n",
       "      <td>-0.376067</td>\n",
       "      <td>1.000000</td>\n",
       "      <td>-0.268793</td>\n",
       "    </tr>\n",
       "    <tr>\n",
       "      <th>Reached_on_time</th>\n",
       "      <td>-0.411822</td>\n",
       "      <td>-0.067126</td>\n",
       "      <td>0.013119</td>\n",
       "      <td>-0.073587</td>\n",
       "      <td>-0.055515</td>\n",
       "      <td>0.397108</td>\n",
       "      <td>-0.268793</td>\n",
       "      <td>1.000000</td>\n",
       "    </tr>\n",
       "  </tbody>\n",
       "</table>\n",
       "</div>"
      ],
      "text/plain": [
       "                           ID  Customer_care_calls  Customer_rating  \\\n",
       "ID                   1.000000             0.188998        -0.005722   \n",
       "Customer_care_calls  0.188998             1.000000         0.012209   \n",
       "Customer_rating     -0.005722             0.012209         1.000000   \n",
       "Cost_of_the_Product  0.196791             0.323182         0.009270   \n",
       "Prior_purchases      0.145369             0.180771         0.013179   \n",
       "Discount_offered    -0.598278            -0.130750        -0.003124   \n",
       "Weight_in_gms        0.278312            -0.276615        -0.001897   \n",
       "Reached_on_time     -0.411822            -0.067126         0.013119   \n",
       "\n",
       "                     Cost_of_the_Product  Prior_purchases  Discount_offered  \\\n",
       "ID                              0.196791         0.145369         -0.598278   \n",
       "Customer_care_calls             0.323182         0.180771         -0.130750   \n",
       "Customer_rating                 0.009270         0.013179         -0.003124   \n",
       "Cost_of_the_Product             1.000000         0.123676         -0.138312   \n",
       "Prior_purchases                 0.123676         1.000000         -0.082769   \n",
       "Discount_offered               -0.138312        -0.082769          1.000000   \n",
       "Weight_in_gms                  -0.132604        -0.168213         -0.376067   \n",
       "Reached_on_time                -0.073587        -0.055515          0.397108   \n",
       "\n",
       "                     Weight_in_gms  Reached_on_time  \n",
       "ID                        0.278312        -0.411822  \n",
       "Customer_care_calls      -0.276615        -0.067126  \n",
       "Customer_rating          -0.001897         0.013119  \n",
       "Cost_of_the_Product      -0.132604        -0.073587  \n",
       "Prior_purchases          -0.168213        -0.055515  \n",
       "Discount_offered         -0.376067         0.397108  \n",
       "Weight_in_gms             1.000000        -0.268793  \n",
       "Reached_on_time          -0.268793         1.000000  "
      ]
     },
     "execution_count": 28,
     "metadata": {},
     "output_type": "execute_result"
    }
   ],
   "source": [
    "data.corr()"
   ]
  },
  {
   "cell_type": "code",
   "execution_count": 29,
   "id": "1ccc90e8",
   "metadata": {
    "scrolled": false
   },
   "outputs": [
    {
     "data": {
      "text/plain": [
       "<AxesSubplot:>"
      ]
     },
     "execution_count": 29,
     "metadata": {},
     "output_type": "execute_result"
    },
    {
     "data": {
      "image/png": "[encoded data removed]",
      "text/plain": [
       "<Figure size 288x864 with 2 Axes>"
      ]
     },
     "metadata": {},
     "output_type": "display_data"
    }
   ],
   "source": [
    "plt.figure(figsize=(4,12))\n",
    "sns.heatmap(data.corr()[['Reached_on_time']], annot=True)"
   ]
  },
  {
   "cell_type": "markdown",
   "id": "9b2d03ce",
   "metadata": {},
   "source": [
    "# Data Preparation"
   ]
  },
  {
   "cell_type": "code",
   "execution_count": 30,
   "id": "229d65a4",
   "metadata": {},
   "outputs": [],
   "source": [
    "data = data.drop(columns=['ID'])"
   ]
  },
  {
   "cell_type": "markdown",
   "id": "43e3d372",
   "metadata": {},
   "source": [
    "### Encoding"
   ]
  },
  {
   "cell_type": "code",
   "execution_count": 31,
   "id": "9d56d899",
   "metadata": {},
   "outputs": [],
   "source": [
    "encode_columns = list(data.select_dtypes('object').columns)\n",
    "encode_le = []\n",
    "encode_ohe = []"
   ]
  },
  {
   "cell_type": "code",
   "execution_count": 32,
   "id": "79b73ae7",
   "metadata": {},
   "outputs": [],
   "source": [
    "for column in encode_columns:\n",
    "    if data[column].nunique() > 2:\n",
    "        encode_ohe.append(column)\n",
    "    else:\n",
    "        encode_le.append(column)"
   ]
  },
  {
   "cell_type": "code",
   "execution_count": 33,
   "id": "897ad245",
   "metadata": {
    "scrolled": true
   },
   "outputs": [
    {
     "name": "stdout",
     "output_type": "stream",
     "text": [
      "['Gender']\n",
      "['Warehouse_block', 'Mode_of_Shipment', 'Product_importance']\n"
     ]
    }
   ],
   "source": [
    "print(encode_le)\n",
    "print(encode_ohe)"
   ]
  },
  {
   "cell_type": "code",
   "execution_count": 34,
   "id": "dac61862",
   "metadata": {},
   "outputs": [],
   "source": [
    "from sklearn.preprocessing import LabelEncoder\n",
    "\n",
    "le = LabelEncoder()\n",
    "\n",
    "for column in encode_le:\n",
    "    data[column] = le.fit_transform(data[column])"
   ]
  },
  {
   "cell_type": "code",
   "execution_count": 35,
   "id": "272532b2",
   "metadata": {},
   "outputs": [],
   "source": [
    "data = pd.get_dummies(data, columns=encode_ohe)"
   ]
  },
  {
   "cell_type": "code",
   "execution_count": 36,
   "id": "0e9766b1",
   "metadata": {},
   "outputs": [
    {
     "data": {
      "text/html": [
       "<div>\n",
       "<style scoped>\n",
       "    .dataframe tbody tr th:only-of-type {\n",
       "        vertical-align: middle;\n",
       "    }\n",
       "\n",
       "    .dataframe tbody tr th {\n",
       "        vertical-align: top;\n",
       "    }\n",
       "\n",
       "    .dataframe thead th {\n",
       "        text-align: right;\n",
       "    }\n",
       "</style>\n",
       "<table border=\"1\" class=\"dataframe\">\n",
       "  <thead>\n",
       "    <tr style=\"text-align: right;\">\n",
       "      <th></th>\n",
       "      <th>Customer_care_calls</th>\n",
       "      <th>Customer_rating</th>\n",
       "      <th>Cost_of_the_Product</th>\n",
       "      <th>Prior_purchases</th>\n",
       "      <th>Gender</th>\n",
       "      <th>Discount_offered</th>\n",
       "      <th>Weight_in_gms</th>\n",
       "      <th>Reached_on_time</th>\n",
       "      <th>Warehouse_block_A</th>\n",
       "      <th>Warehouse_block_B</th>\n",
       "      <th>Warehouse_block_C</th>\n",
       "      <th>Warehouse_block_D</th>\n",
       "      <th>Warehouse_block_F</th>\n",
       "      <th>Mode_of_Shipment_Flight</th>\n",
       "      <th>Mode_of_Shipment_Road</th>\n",
       "      <th>Mode_of_Shipment_Ship</th>\n",
       "      <th>Product_importance_high</th>\n",
       "      <th>Product_importance_low</th>\n",
       "      <th>Product_importance_medium</th>\n",
       "    </tr>\n",
       "  </thead>\n",
       "  <tbody>\n",
       "    <tr>\n",
       "      <th>0</th>\n",
       "      <td>4</td>\n",
       "      <td>2</td>\n",
       "      <td>177</td>\n",
       "      <td>3</td>\n",
       "      <td>0</td>\n",
       "      <td>44</td>\n",
       "      <td>1233</td>\n",
       "      <td>1</td>\n",
       "      <td>0</td>\n",
       "      <td>0</td>\n",
       "      <td>0</td>\n",
       "      <td>1</td>\n",
       "      <td>0</td>\n",
       "      <td>1</td>\n",
       "      <td>0</td>\n",
       "      <td>0</td>\n",
       "      <td>0</td>\n",
       "      <td>1</td>\n",
       "      <td>0</td>\n",
       "    </tr>\n",
       "    <tr>\n",
       "      <th>1</th>\n",
       "      <td>4</td>\n",
       "      <td>5</td>\n",
       "      <td>216</td>\n",
       "      <td>2</td>\n",
       "      <td>1</td>\n",
       "      <td>59</td>\n",
       "      <td>3088</td>\n",
       "      <td>1</td>\n",
       "      <td>0</td>\n",
       "      <td>0</td>\n",
       "      <td>0</td>\n",
       "      <td>0</td>\n",
       "      <td>1</td>\n",
       "      <td>1</td>\n",
       "      <td>0</td>\n",
       "      <td>0</td>\n",
       "      <td>0</td>\n",
       "      <td>1</td>\n",
       "      <td>0</td>\n",
       "    </tr>\n",
       "    <tr>\n",
       "      <th>2</th>\n",
       "      <td>2</td>\n",
       "      <td>2</td>\n",
       "      <td>183</td>\n",
       "      <td>4</td>\n",
       "      <td>1</td>\n",
       "      <td>48</td>\n",
       "      <td>3374</td>\n",
       "      <td>1</td>\n",
       "      <td>1</td>\n",
       "      <td>0</td>\n",
       "      <td>0</td>\n",
       "      <td>0</td>\n",
       "      <td>0</td>\n",
       "      <td>1</td>\n",
       "      <td>0</td>\n",
       "      <td>0</td>\n",
       "      <td>0</td>\n",
       "      <td>1</td>\n",
       "      <td>0</td>\n",
       "    </tr>\n",
       "    <tr>\n",
       "      <th>3</th>\n",
       "      <td>3</td>\n",
       "      <td>3</td>\n",
       "      <td>176</td>\n",
       "      <td>4</td>\n",
       "      <td>1</td>\n",
       "      <td>10</td>\n",
       "      <td>1177</td>\n",
       "      <td>1</td>\n",
       "      <td>0</td>\n",
       "      <td>1</td>\n",
       "      <td>0</td>\n",
       "      <td>0</td>\n",
       "      <td>0</td>\n",
       "      <td>1</td>\n",
       "      <td>0</td>\n",
       "      <td>0</td>\n",
       "      <td>0</td>\n",
       "      <td>0</td>\n",
       "      <td>1</td>\n",
       "    </tr>\n",
       "    <tr>\n",
       "      <th>4</th>\n",
       "      <td>2</td>\n",
       "      <td>2</td>\n",
       "      <td>184</td>\n",
       "      <td>3</td>\n",
       "      <td>0</td>\n",
       "      <td>46</td>\n",
       "      <td>2484</td>\n",
       "      <td>1</td>\n",
       "      <td>0</td>\n",
       "      <td>0</td>\n",
       "      <td>1</td>\n",
       "      <td>0</td>\n",
       "      <td>0</td>\n",
       "      <td>1</td>\n",
       "      <td>0</td>\n",
       "      <td>0</td>\n",
       "      <td>0</td>\n",
       "      <td>0</td>\n",
       "      <td>1</td>\n",
       "    </tr>\n",
       "  </tbody>\n",
       "</table>\n",
       "</div>"
      ],
      "text/plain": [
       "   Customer_care_calls  Customer_rating  Cost_of_the_Product  Prior_purchases  \\\n",
       "0                    4                2                  177                3   \n",
       "1                    4                5                  216                2   \n",
       "2                    2                2                  183                4   \n",
       "3                    3                3                  176                4   \n",
       "4                    2                2                  184                3   \n",
       "\n",
       "   Gender  Discount_offered  Weight_in_gms  Reached_on_time  \\\n",
       "0       0                44           1233                1   \n",
       "1       1                59           3088                1   \n",
       "2       1                48           3374                1   \n",
       "3       1                10           1177                1   \n",
       "4       0                46           2484                1   \n",
       "\n",
       "   Warehouse_block_A  Warehouse_block_B  Warehouse_block_C  Warehouse_block_D  \\\n",
       "0                  0                  0                  0                  1   \n",
       "1                  0                  0                  0                  0   \n",
       "2                  1                  0                  0                  0   \n",
       "3                  0                  1                  0                  0   \n",
       "4                  0                  0                  1                  0   \n",
       "\n",
       "   Warehouse_block_F  Mode_of_Shipment_Flight  Mode_of_Shipment_Road  \\\n",
       "0                  0                        1                      0   \n",
       "1                  1                        1                      0   \n",
       "2                  0                        1                      0   \n",
       "3                  0                        1                      0   \n",
       "4                  0                        1                      0   \n",
       "\n",
       "   Mode_of_Shipment_Ship  Product_importance_high  Product_importance_low  \\\n",
       "0                      0                        0                       1   \n",
       "1                      0                        0                       1   \n",
       "2                      0                        0                       1   \n",
       "3                      0                        0                       0   \n",
       "4                      0                        0                       0   \n",
       "\n",
       "   Product_importance_medium  \n",
       "0                          0  \n",
       "1                          0  \n",
       "2                          0  \n",
       "3                          1  \n",
       "4                          1  "
      ]
     },
     "execution_count": 36,
     "metadata": {},
     "output_type": "execute_result"
    }
   ],
   "source": [
    "data.head()"
   ]
  },
  {
   "cell_type": "markdown",
   "id": "7bb529bc",
   "metadata": {},
   "source": [
    "### Detecting & Handling Imbalance Data"
   ]
  },
  {
   "cell_type": "code",
   "execution_count": 37,
   "id": "5927bff8",
   "metadata": {
    "scrolled": true
   },
   "outputs": [
    {
     "data": {
      "text/plain": [
       "1    6563\n",
       "0    4436\n",
       "Name: Reached_on_time, dtype: int64"
      ]
     },
     "execution_count": 37,
     "metadata": {},
     "output_type": "execute_result"
    }
   ],
   "source": [
    "data['Reached_on_time'].value_counts()"
   ]
  },
  {
   "cell_type": "code",
   "execution_count": 38,
   "id": "d64f805c",
   "metadata": {
    "scrolled": false
   },
   "outputs": [
    {
     "data": {
      "text/plain": [
       "<AxesSubplot:>"
      ]
     },
     "execution_count": 38,
     "metadata": {},
     "output_type": "execute_result"
    },
    {
     "data": {
      "image/png": "[encoded data removed]",
      "text/plain": [
       "<Figure size 576x396 with 1 Axes>"
      ]
     },
     "metadata": {},
     "output_type": "display_data"
    }
   ],
   "source": [
    "data['Reached_on_time'].value_counts().plot(kind='bar')"
   ]
  },
  {
   "cell_type": "markdown",
   "id": "4fbb7d64",
   "metadata": {},
   "source": [
    "Detecting & Handling Imbalance Data - Sampling"
   ]
  },
  {
   "cell_type": "code",
   "execution_count": 39,
   "id": "9403e227",
   "metadata": {
    "scrolled": false
   },
   "outputs": [
    {
     "name": "stdout",
     "output_type": "stream",
     "text": [
      "Requirement already satisfied: imblearn in c:\\users\\mr. dwi saputra\\anaconda3\\lib\\site-packages (0.0)\n",
      "Requirement already satisfied: imbalanced-learn in c:\\users\\mr. dwi saputra\\anaconda3\\lib\\site-packages (from imblearn) (0.9.0)\n",
      "Requirement already satisfied: joblib>=0.11 in c:\\users\\mr. dwi saputra\\anaconda3\\lib\\site-packages (from imbalanced-learn->imblearn) (1.1.0)\n",
      "Requirement already satisfied: scipy>=1.1.0 in c:\\users\\mr. dwi saputra\\anaconda3\\lib\\site-packages (from imbalanced-learn->imblearn) (1.7.3)\n",
      "Requirement already satisfied: numpy>=1.14.6 in c:\\users\\mr. dwi saputra\\anaconda3\\lib\\site-packages (from imbalanced-learn->imblearn) (1.20.3)\n",
      "Requirement already satisfied: scikit-learn>=1.0.1 in c:\\users\\mr. dwi saputra\\anaconda3\\lib\\site-packages (from imbalanced-learn->imblearn) (1.0.2)\n",
      "Requirement already satisfied: threadpoolctl>=2.0.0 in c:\\users\\mr. dwi saputra\\anaconda3\\lib\\site-packages (from imbalanced-learn->imblearn) (2.2.0)\n"
     ]
    }
   ],
   "source": [
    "!pip install imblearn"
   ]
  },
  {
   "cell_type": "code",
   "execution_count": 40,
   "id": "6f9c76dd",
   "metadata": {},
   "outputs": [],
   "source": [
    "from imblearn.over_sampling import SMOTE\n",
    "from imblearn.under_sampling import RandomUnderSampler"
   ]
  },
  {
   "cell_type": "markdown",
   "id": "6e26c648",
   "metadata": {},
   "source": [
    "Detecting & Handling Imbalance Data - Variable Declaration"
   ]
  },
  {
   "cell_type": "code",
   "execution_count": 41,
   "id": "b68f5342",
   "metadata": {},
   "outputs": [],
   "source": [
    "x = data.drop(['Reached_on_time'], axis=1) # features\n",
    "y = data['Reached_on_time'] # target"
   ]
  },
  {
   "cell_type": "code",
   "execution_count": 42,
   "id": "05485798",
   "metadata": {
    "scrolled": true
   },
   "outputs": [],
   "source": [
    "from sklearn.model_selection import train_test_split\n",
    "x_train, x_test, y_train, y_test = train_test_split(x,y, test_size=0.2, random_state=42)"
   ]
  },
  {
   "cell_type": "code",
   "execution_count": 43,
   "id": "586caaae",
   "metadata": {},
   "outputs": [],
   "source": [
    "smote = SMOTE(random_state=42)\n",
    "under_sampling = RandomUnderSampler(random_state=42)"
   ]
  },
  {
   "cell_type": "code",
   "execution_count": 44,
   "id": "dc248cc3",
   "metadata": {},
   "outputs": [],
   "source": [
    "x_under, y_under = under_sampling.fit_resample(x_train, y_train)"
   ]
  },
  {
   "cell_type": "code",
   "execution_count": 45,
   "id": "3397fb49",
   "metadata": {},
   "outputs": [],
   "source": [
    "x_smote, y_smote = smote.fit_resample(x_train, y_train)"
   ]
  },
  {
   "cell_type": "code",
   "execution_count": 46,
   "id": "d04ce241",
   "metadata": {
    "scrolled": true
   },
   "outputs": [
    {
     "data": {
      "text/plain": [
       "0    3541\n",
       "1    3541\n",
       "Name: Reached_on_time, dtype: int64"
      ]
     },
     "execution_count": 46,
     "metadata": {},
     "output_type": "execute_result"
    }
   ],
   "source": [
    "y_under.value_counts()"
   ]
  },
  {
   "cell_type": "code",
   "execution_count": 47,
   "id": "f4b0be43",
   "metadata": {
    "scrolled": true
   },
   "outputs": [
    {
     "data": {
      "text/plain": [
       "0    5258\n",
       "1    5258\n",
       "Name: Reached_on_time, dtype: int64"
      ]
     },
     "execution_count": 47,
     "metadata": {},
     "output_type": "execute_result"
    }
   ],
   "source": [
    "y_smote.value_counts()"
   ]
  },
  {
   "cell_type": "markdown",
   "id": "670e7f43",
   "metadata": {},
   "source": [
    "# Model & Evaluation"
   ]
  },
  {
   "cell_type": "code",
   "execution_count": 48,
   "id": "0dfc9893",
   "metadata": {},
   "outputs": [],
   "source": [
    "x = data.drop(['Reached_on_time'], axis=1) # features\n",
    "y = data['Reached_on_time'] # target"
   ]
  },
  {
   "cell_type": "code",
   "execution_count": 49,
   "id": "4545755e",
   "metadata": {},
   "outputs": [],
   "source": [
    "from sklearn.model_selection import train_test_split\n",
    "x_train, x_test, y_train, y_test = train_test_split(x,y, test_size=0.2, random_state=42)"
   ]
  },
  {
   "cell_type": "markdown",
   "id": "919fb37e",
   "metadata": {},
   "source": [
    "Model - Decision Tree"
   ]
  },
  {
   "cell_type": "code",
   "execution_count": 50,
   "id": "d6bd54ba",
   "metadata": {},
   "outputs": [
    {
     "data": {
      "text/plain": [
       "DecisionTreeClassifier(random_state=42)"
      ]
     },
     "execution_count": 50,
     "metadata": {},
     "output_type": "execute_result"
    }
   ],
   "source": [
    "# import model Decision Tree\n",
    "from sklearn.tree import DecisionTreeClassifier\n",
    "modelDT = DecisionTreeClassifier(criterion='gini', random_state=42)\n",
    "modelDT_US = DecisionTreeClassifier(criterion='gini', random_state=42)\n",
    "modelDT_OS = DecisionTreeClassifier(criterion='gini', random_state=42)\n",
    "\n",
    "# modelling\n",
    "modelDT.fit(x_train, y_train)\n",
    "modelDT_US.fit(x_under, y_under)\n",
    "modelDT_OS.fit(x_smote, y_smote)"
   ]
  },
  {
   "cell_type": "code",
   "execution_count": 51,
   "id": "9e80f662",
   "metadata": {},
   "outputs": [],
   "source": [
    "y_pred_dt = modelDT.predict(x_test)\n",
    "y_pred_dt_us = modelDT_US.predict(x_test)\n",
    "y_pred_dt_os = modelDT_OS.predict(x_test)"
   ]
  },
  {
   "cell_type": "markdown",
   "id": "9b0028a7",
   "metadata": {},
   "source": [
    "Model - Random Forest"
   ]
  },
  {
   "cell_type": "code",
   "execution_count": 52,
   "id": "6be063e5",
   "metadata": {},
   "outputs": [],
   "source": [
    "from sklearn.ensemble import RandomForestClassifier"
   ]
  },
  {
   "cell_type": "code",
   "execution_count": 53,
   "id": "75a5a295",
   "metadata": {},
   "outputs": [
    {
     "data": {
      "text/plain": [
       "RandomForestClassifier(random_state=42)"
      ]
     },
     "execution_count": 53,
     "metadata": {},
     "output_type": "execute_result"
    }
   ],
   "source": [
    "modelRF = RandomForestClassifier(criterion='gini',random_state=42)\n",
    "modelRF_US = RandomForestClassifier(criterion='gini',random_state=42)\n",
    "modelRF_OS = RandomForestClassifier(criterion='gini',random_state=42)\n",
    "\n",
    "#modelling\n",
    "modelRF.fit(x_train,y_train)\n",
    "modelRF_US.fit(x_under,y_under)\n",
    "modelRF_OS.fit(x_smote,y_smote)"
   ]
  },
  {
   "cell_type": "code",
   "execution_count": 54,
   "id": "689de143",
   "metadata": {},
   "outputs": [],
   "source": [
    "y_pred_rf = modelRF.predict(x_test)\n",
    "y_pred_rf_us = modelRF_US.predict(x_test)\n",
    "y_pred_rf_os = modelRF_OS.predict(x_test)"
   ]
  },
  {
   "cell_type": "markdown",
   "id": "2f4ccea6",
   "metadata": {},
   "source": [
    "Model - XGBoost"
   ]
  },
  {
   "cell_type": "code",
   "execution_count": 55,
   "id": "caec102e",
   "metadata": {},
   "outputs": [],
   "source": [
    "from xgboost import XGBClassifier"
   ]
  },
  {
   "cell_type": "code",
   "execution_count": 56,
   "id": "8ad386cd",
   "metadata": {},
   "outputs": [
    {
     "name": "stdout",
     "output_type": "stream",
     "text": [
      "[19:16:10] WARNING: D:\\bld\\xgboost-split_1645118015404\\work\\src\\learner.cc:1115: Starting in XGBoost 1.3.0, the default evaluation metric used with the objective 'binary:logistic' was changed from 'error' to 'logloss'. Explicitly set eval_metric if you'd like to restore the old behavior.\n",
      "[19:16:11] WARNING: D:\\bld\\xgboost-split_1645118015404\\work\\src\\learner.cc:1115: Starting in XGBoost 1.3.0, the default evaluation metric used with the objective 'binary:logistic' was changed from 'error' to 'logloss'. Explicitly set eval_metric if you'd like to restore the old behavior.\n",
      "[19:16:11] WARNING: D:\\bld\\xgboost-split_1645118015404\\work\\src\\learner.cc:1115: Starting in XGBoost 1.3.0, the default evaluation metric used with the objective 'binary:logistic' was changed from 'error' to 'logloss'. Explicitly set eval_metric if you'd like to restore the old behavior.\n"
     ]
    },
    {
     "data": {
      "text/plain": [
       "XGBClassifier(base_score=0.5, booster='gbtree', colsample_bylevel=1,\n",
       "              colsample_bynode=1, colsample_bytree=1, enable_categorical=False,\n",
       "              gamma=0, gpu_id=-1, importance_type=None,\n",
       "              interaction_constraints='', learning_rate=0.300000012,\n",
       "              max_delta_step=0, max_depth=6, min_child_weight=1, missing=nan,\n",
       "              monotone_constraints='()', n_estimators=100, n_jobs=4,\n",
       "              num_parallel_tree=1, predictor='auto', random_state=0,\n",
       "              reg_alpha=0, reg_lambda=1, scale_pos_weight=1, subsample=1,\n",
       "              tree_method='exact', validate_parameters=1, verbosity=None)"
      ]
     },
     "execution_count": 56,
     "metadata": {},
     "output_type": "execute_result"
    }
   ],
   "source": [
    "modelXGB = XGBClassifier()\n",
    "modelXGB_US = XGBClassifier()\n",
    "modelXGB_OS = XGBClassifier()\n",
    "\n",
    "modelXGB.fit(x_train,y_train)\n",
    "modelXGB_US.fit(x_under,y_under)\n",
    "modelXGB_OS.fit(x_smote,y_smote)"
   ]
  },
  {
   "cell_type": "code",
   "execution_count": 57,
   "id": "035aefa3",
   "metadata": {},
   "outputs": [],
   "source": [
    "y_pred_xgb = modelXGB.predict(x_test)\n",
    "y_pred_xgb_us = modelXGB_US.predict(x_test)\n",
    "y_pred_xgb_os = modelXGB_OS.predict(x_test)"
   ]
  },
  {
   "cell_type": "markdown",
   "id": "a16f45c7",
   "metadata": {},
   "source": [
    "Compare"
   ]
  },
  {
   "cell_type": "code",
   "execution_count": 58,
   "id": "94c097b0",
   "metadata": {},
   "outputs": [
    {
     "data": {
      "text/html": [
       "<div>\n",
       "<style scoped>\n",
       "    .dataframe tbody tr th:only-of-type {\n",
       "        vertical-align: middle;\n",
       "    }\n",
       "\n",
       "    .dataframe tbody tr th {\n",
       "        vertical-align: top;\n",
       "    }\n",
       "\n",
       "    .dataframe thead th {\n",
       "        text-align: right;\n",
       "    }\n",
       "</style>\n",
       "<table border=\"1\" class=\"dataframe\">\n",
       "  <thead>\n",
       "    <tr style=\"text-align: right;\">\n",
       "      <th></th>\n",
       "      <th>index</th>\n",
       "      <th>Actual</th>\n",
       "      <th>Prediction DT</th>\n",
       "      <th>Prediction DT US</th>\n",
       "      <th>Prediction DT OS</th>\n",
       "      <th>Prediction RF</th>\n",
       "      <th>Prediction RF US</th>\n",
       "      <th>Prediction RF OS</th>\n",
       "      <th>Prediction XGB</th>\n",
       "      <th>Prediction XGB US</th>\n",
       "      <th>Prediction XGB OS</th>\n",
       "    </tr>\n",
       "  </thead>\n",
       "  <tbody>\n",
       "    <tr>\n",
       "      <th>0</th>\n",
       "      <td>107</td>\n",
       "      <td>1</td>\n",
       "      <td>1</td>\n",
       "      <td>1</td>\n",
       "      <td>1</td>\n",
       "      <td>1</td>\n",
       "      <td>1</td>\n",
       "      <td>1</td>\n",
       "      <td>1</td>\n",
       "      <td>1</td>\n",
       "      <td>1</td>\n",
       "    </tr>\n",
       "    <tr>\n",
       "      <th>1</th>\n",
       "      <td>5594</td>\n",
       "      <td>1</td>\n",
       "      <td>1</td>\n",
       "      <td>1</td>\n",
       "      <td>1</td>\n",
       "      <td>0</td>\n",
       "      <td>0</td>\n",
       "      <td>0</td>\n",
       "      <td>1</td>\n",
       "      <td>0</td>\n",
       "      <td>1</td>\n",
       "    </tr>\n",
       "    <tr>\n",
       "      <th>2</th>\n",
       "      <td>6997</td>\n",
       "      <td>0</td>\n",
       "      <td>1</td>\n",
       "      <td>0</td>\n",
       "      <td>1</td>\n",
       "      <td>1</td>\n",
       "      <td>0</td>\n",
       "      <td>1</td>\n",
       "      <td>1</td>\n",
       "      <td>1</td>\n",
       "      <td>1</td>\n",
       "    </tr>\n",
       "    <tr>\n",
       "      <th>3</th>\n",
       "      <td>3984</td>\n",
       "      <td>0</td>\n",
       "      <td>0</td>\n",
       "      <td>0</td>\n",
       "      <td>1</td>\n",
       "      <td>0</td>\n",
       "      <td>0</td>\n",
       "      <td>0</td>\n",
       "      <td>1</td>\n",
       "      <td>1</td>\n",
       "      <td>1</td>\n",
       "    </tr>\n",
       "    <tr>\n",
       "      <th>4</th>\n",
       "      <td>3111</td>\n",
       "      <td>1</td>\n",
       "      <td>1</td>\n",
       "      <td>1</td>\n",
       "      <td>1</td>\n",
       "      <td>1</td>\n",
       "      <td>1</td>\n",
       "      <td>1</td>\n",
       "      <td>1</td>\n",
       "      <td>1</td>\n",
       "      <td>1</td>\n",
       "    </tr>\n",
       "  </tbody>\n",
       "</table>\n",
       "</div>"
      ],
      "text/plain": [
       "   index  Actual  Prediction DT  Prediction DT US  Prediction DT OS  \\\n",
       "0    107       1              1                 1                 1   \n",
       "1   5594       1              1                 1                 1   \n",
       "2   6997       0              1                 0                 1   \n",
       "3   3984       0              0                 0                 1   \n",
       "4   3111       1              1                 1                 1   \n",
       "\n",
       "   Prediction RF  Prediction RF US  Prediction RF OS  Prediction XGB  \\\n",
       "0              1                 1                 1               1   \n",
       "1              0                 0                 0               1   \n",
       "2              1                 0                 1               1   \n",
       "3              0                 0                 0               1   \n",
       "4              1                 1                 1               1   \n",
       "\n",
       "   Prediction XGB US  Prediction XGB OS  \n",
       "0                  1                  1  \n",
       "1                  0                  1  \n",
       "2                  1                  1  \n",
       "3                  1                  1  \n",
       "4                  1                  1  "
      ]
     },
     "execution_count": 58,
     "metadata": {},
     "output_type": "execute_result"
    }
   ],
   "source": [
    "# bandingkan data actual dan prediksi\n",
    "compare = pd.DataFrame({\n",
    "    'Actual' : y_test,\n",
    "    'Prediction DT' : y_pred_dt,\n",
    "    'Prediction DT US' : y_pred_dt_us,\n",
    "    'Prediction DT OS' : y_pred_dt_os,\n",
    "    'Prediction RF' : y_pred_rf,\n",
    "    'Prediction RF US' : y_pred_rf_us,\n",
    "    'Prediction RF OS' : y_pred_rf_os,\n",
    "    'Prediction XGB' : y_pred_xgb,\n",
    "    'Prediction XGB US' : y_pred_xgb_us,\n",
    "    'Prediction XGB OS' : y_pred_xgb_os,\n",
    "}).reset_index()\n",
    "compare.head()"
   ]
  },
  {
   "cell_type": "markdown",
   "id": "e08e64ef",
   "metadata": {},
   "source": [
    "## Evaluation"
   ]
  },
  {
   "cell_type": "code",
   "execution_count": 59,
   "id": "bbeff1da",
   "metadata": {},
   "outputs": [],
   "source": [
    "from sklearn.metrics import confusion_matrix, classification_report, accuracy_score"
   ]
  },
  {
   "cell_type": "markdown",
   "id": "30cf89e5",
   "metadata": {},
   "source": [
    "Evaluation - Confussion Matrix"
   ]
  },
  {
   "cell_type": "code",
   "execution_count": 60,
   "id": "ea01ca5b",
   "metadata": {},
   "outputs": [
    {
     "name": "stdout",
     "output_type": "stream",
     "text": [
      "Decision Tree - No Sampling\n",
      "[[512 383]\n",
      " [392 913]]\n",
      "------------------------------\n",
      "Decision Tree - Undersampling\n",
      "[[585 310]\n",
      " [424 881]]\n",
      "------------------------------\n",
      "Decision Tree - Oversampling\n",
      "[[498 397]\n",
      " [391 914]]\n"
     ]
    }
   ],
   "source": [
    "# cm decision tree\n",
    "print('Decision Tree - No Sampling')\n",
    "print(confusion_matrix(y_test,y_pred_dt))\n",
    "print('-'*30)\n",
    "print('Decision Tree - Undersampling')\n",
    "print(confusion_matrix(y_test,y_pred_dt_us))\n",
    "print('-'*30)\n",
    "print('Decision Tree - Oversampling')\n",
    "print(confusion_matrix(y_test,y_pred_dt_os))"
   ]
  },
  {
   "cell_type": "code",
   "execution_count": 61,
   "id": "814f9389",
   "metadata": {},
   "outputs": [
    {
     "name": "stdout",
     "output_type": "stream",
     "text": [
      "Random Forest - No Sampling\n",
      "[[625 270]\n",
      " [459 846]]\n",
      "------------------------------\n",
      "Random Forest - Undersampling\n",
      "[[809  86]\n",
      " [589 716]]\n",
      "------------------------------\n",
      "Random Forest - Oversampling\n",
      "[[644 251]\n",
      " [488 817]]\n"
     ]
    }
   ],
   "source": [
    "# cm random forest\n",
    "print('Random Forest - No Sampling')\n",
    "print(confusion_matrix(y_test,y_pred_rf))\n",
    "print('-'*30)\n",
    "print('Random Forest - Undersampling')\n",
    "print(confusion_matrix(y_test,y_pred_rf_us))\n",
    "print('-'*30)\n",
    "print('Random Forest - Oversampling')\n",
    "print(confusion_matrix(y_test,y_pred_rf_os))"
   ]
  },
  {
   "cell_type": "code",
   "execution_count": 62,
   "id": "08d2be3e",
   "metadata": {},
   "outputs": [
    {
     "name": "stdout",
     "output_type": "stream",
     "text": [
      "XGBoost - No Sampling\n",
      "[[581 314]\n",
      " [433 872]]\n",
      "------------------------------\n",
      "XGBoost - Undersampling\n",
      "[[759 136]\n",
      " [571 734]]\n",
      "------------------------------\n",
      "XGBoost - Oversampling\n",
      "[[604 291]\n",
      " [451 854]]\n"
     ]
    }
   ],
   "source": [
    "# cm xgboost\n",
    "print('XGBoost - No Sampling')\n",
    "print(confusion_matrix(y_test,y_pred_xgb))\n",
    "print('-'*30)\n",
    "print('XGBoost - Undersampling')\n",
    "print(confusion_matrix(y_test,y_pred_xgb_us))\n",
    "print('-'*30)\n",
    "print('XGBoost - Oversampling')\n",
    "print(confusion_matrix(y_test,y_pred_xgb_os))"
   ]
  },
  {
   "cell_type": "code",
   "execution_count": 63,
   "id": "a689c557",
   "metadata": {
    "scrolled": true
   },
   "outputs": [
    {
     "data": {
      "text/plain": [
       "Text(0.5, 25.0, 'Prediction')"
      ]
     },
     "execution_count": 63,
     "metadata": {},
     "output_type": "execute_result"
    },
    {
     "data": {
      "image/png": "[encoded data removed]",
      "text/plain": [
       "<Figure size 1800x360 with 6 Axes>"
      ]
     },
     "metadata": {},
     "output_type": "display_data"
    }
   ],
   "source": [
    "# visualisasi cm decision tree\n",
    "fig, (ax1,ax2,ax3) = plt.subplots(1,3,figsize=(25,5))\n",
    "\n",
    "g1 = sns.heatmap(confusion_matrix(y_test,y_pred_dt),annot=True, fmt='.3g', ax=ax1)\n",
    "g1.set_ylabel('Actual')\n",
    "g1.set_xlabel('Prediction')\n",
    "\n",
    "g2 = sns.heatmap(confusion_matrix(y_test,y_pred_dt_us),annot=True, fmt='.3g', ax=ax2)\n",
    "g2.set_ylabel('Actual')\n",
    "g2.set_xlabel('Prediction')\n",
    "\n",
    "g3 = sns.heatmap(confusion_matrix(y_test,y_pred_dt_os),annot=True, fmt='.3g', ax=ax3)\n",
    "g3.set_ylabel('Actual')\n",
    "g3.set_xlabel('Prediction')"
   ]
  },
  {
   "cell_type": "code",
   "execution_count": 64,
   "id": "5d8e4c30",
   "metadata": {},
   "outputs": [
    {
     "data": {
      "text/plain": [
       "Text(0.5, 25.0, 'Prediction')"
      ]
     },
     "execution_count": 64,
     "metadata": {},
     "output_type": "execute_result"
    },
    {
     "data": {
      "image/png": "[encoded data removed]",
      "text/plain": [
       "<Figure size 1800x360 with 6 Axes>"
      ]
     },
     "metadata": {},
     "output_type": "display_data"
    }
   ],
   "source": [
    "# visualisasi cm random forest\n",
    "fig, (ax1,ax2,ax3) = plt.subplots(1,3,figsize=(25,5))\n",
    "\n",
    "g1 = sns.heatmap(confusion_matrix(y_test,y_pred_rf),annot=True, fmt='.3g', ax=ax1)\n",
    "g1.set_ylabel('Actual')\n",
    "g1.set_xlabel('Prediction')\n",
    "\n",
    "g2 = sns.heatmap(confusion_matrix(y_test,y_pred_rf_us),annot=True, fmt='.3g', ax=ax2)\n",
    "g2.set_ylabel('Actual')\n",
    "g2.set_xlabel('Prediction')\n",
    "\n",
    "g3 = sns.heatmap(confusion_matrix(y_test,y_pred_rf_os),annot=True, fmt='.3g', ax=ax3)\n",
    "g3.set_ylabel('Actual')\n",
    "g3.set_xlabel('Prediction')"
   ]
  },
  {
   "cell_type": "code",
   "execution_count": 65,
   "id": "7e8237ac",
   "metadata": {},
   "outputs": [
    {
     "data": {
      "text/plain": [
       "Text(0.5, 25.0, 'Prediction')"
      ]
     },
     "execution_count": 65,
     "metadata": {},
     "output_type": "execute_result"
    },
    {
     "data": {
      "image/png": "[encoded data removed]",
      "text/plain": [
       "<Figure size 1800x360 with 6 Axes>"
      ]
     },
     "metadata": {},
     "output_type": "display_data"
    }
   ],
   "source": [
    "# visualisasi cm xgboost\n",
    "fig, (ax1,ax2,ax3) = plt.subplots(1,3,figsize=(25,5))\n",
    "\n",
    "g1 = sns.heatmap(confusion_matrix(y_test,y_pred_xgb),annot=True, fmt='.3g', ax=ax1)\n",
    "g1.set_ylabel('Actual')\n",
    "g1.set_xlabel('Prediction')\n",
    "\n",
    "g2 = sns.heatmap(confusion_matrix(y_test,y_pred_xgb_us),annot=True, fmt='.3g', ax=ax2)\n",
    "g2.set_ylabel('Actual')\n",
    "g2.set_xlabel('Prediction')\n",
    "\n",
    "g3 = sns.heatmap(confusion_matrix(y_test,y_pred_xgb_os),annot=True, fmt='.3g', ax=ax3)\n",
    "g3.set_ylabel('Actual')\n",
    "g3.set_xlabel('Prediction')"
   ]
  },
  {
   "cell_type": "markdown",
   "id": "574c2c52",
   "metadata": {},
   "source": [
    "Evaluation - Classification Report"
   ]
  },
  {
   "cell_type": "code",
   "execution_count": 66,
   "id": "654f08b9",
   "metadata": {},
   "outputs": [
    {
     "name": "stdout",
     "output_type": "stream",
     "text": [
      "              precision    recall  f1-score   support\n",
      "\n",
      "           0       0.57      0.57      0.57       895\n",
      "           1       0.70      0.70      0.70      1305\n",
      "\n",
      "    accuracy                           0.65      2200\n",
      "   macro avg       0.64      0.64      0.64      2200\n",
      "weighted avg       0.65      0.65      0.65      2200\n",
      "\n",
      "-------------------------------------------------------\n",
      "              precision    recall  f1-score   support\n",
      "\n",
      "           0       0.58      0.65      0.61       895\n",
      "           1       0.74      0.68      0.71      1305\n",
      "\n",
      "    accuracy                           0.67      2200\n",
      "   macro avg       0.66      0.66      0.66      2200\n",
      "weighted avg       0.67      0.67      0.67      2200\n",
      "\n",
      "-------------------------------------------------------\n",
      "              precision    recall  f1-score   support\n",
      "\n",
      "           0       0.56      0.56      0.56       895\n",
      "           1       0.70      0.70      0.70      1305\n",
      "\n",
      "    accuracy                           0.64      2200\n",
      "   macro avg       0.63      0.63      0.63      2200\n",
      "weighted avg       0.64      0.64      0.64      2200\n",
      "\n"
     ]
    }
   ],
   "source": [
    "# cr decision tree\n",
    "print(classification_report(y_test,y_pred_dt))\n",
    "print('-'*55)\n",
    "print(classification_report(y_test,y_pred_dt_us))\n",
    "print('-'*55)\n",
    "print(classification_report(y_test,y_pred_dt_os))"
   ]
  },
  {
   "cell_type": "code",
   "execution_count": 88,
   "id": "03f1a5f2",
   "metadata": {},
   "outputs": [
    {
     "name": "stdout",
     "output_type": "stream",
     "text": [
      "              precision    recall  f1-score   support\n",
      "\n",
      "           0       0.58      0.70      0.63       895\n",
      "           1       0.76      0.65      0.70      1305\n",
      "\n",
      "    accuracy                           0.67      2200\n",
      "   macro avg       0.67      0.67      0.67      2200\n",
      "weighted avg       0.68      0.67      0.67      2200\n",
      "\n",
      "-------------------------------------------------------\n",
      "              precision    recall  f1-score   support\n",
      "\n",
      "           0       0.58      0.90      0.71       895\n",
      "           1       0.89      0.55      0.68      1305\n",
      "\n",
      "    accuracy                           0.69      2200\n",
      "   macro avg       0.74      0.73      0.69      2200\n",
      "weighted avg       0.76      0.69      0.69      2200\n",
      "\n",
      "-------------------------------------------------------\n",
      "              precision    recall  f1-score   support\n",
      "\n",
      "           0       0.57      0.72      0.64       895\n",
      "           1       0.76      0.63      0.69      1305\n",
      "\n",
      "    accuracy                           0.66      2200\n",
      "   macro avg       0.67      0.67      0.66      2200\n",
      "weighted avg       0.69      0.66      0.67      2200\n",
      "\n"
     ]
    }
   ],
   "source": [
    "# cr random forest\n",
    "print(classification_report(y_test,y_pred_rf))\n",
    "print('-'*55)\n",
    "print(classification_report(y_test,y_pred_rf_us))\n",
    "print('-'*55)\n",
    "print(classification_report(y_test,y_pred_rf_os))"
   ]
  },
  {
   "cell_type": "code",
   "execution_count": 68,
   "id": "712f0880",
   "metadata": {},
   "outputs": [
    {
     "name": "stdout",
     "output_type": "stream",
     "text": [
      "              precision    recall  f1-score   support\n",
      "\n",
      "           0       0.57      0.65      0.61       895\n",
      "           1       0.74      0.67      0.70      1305\n",
      "\n",
      "    accuracy                           0.66      2200\n",
      "   macro avg       0.65      0.66      0.65      2200\n",
      "weighted avg       0.67      0.66      0.66      2200\n",
      "\n",
      "-------------------------------------------------------\n",
      "              precision    recall  f1-score   support\n",
      "\n",
      "           0       0.57      0.85      0.68       895\n",
      "           1       0.84      0.56      0.67      1305\n",
      "\n",
      "    accuracy                           0.68      2200\n",
      "   macro avg       0.71      0.71      0.68      2200\n",
      "weighted avg       0.73      0.68      0.68      2200\n",
      "\n",
      "-------------------------------------------------------\n",
      "              precision    recall  f1-score   support\n",
      "\n",
      "           0       0.57      0.67      0.62       895\n",
      "           1       0.75      0.65      0.70      1305\n",
      "\n",
      "    accuracy                           0.66      2200\n",
      "   macro avg       0.66      0.66      0.66      2200\n",
      "weighted avg       0.68      0.66      0.67      2200\n",
      "\n"
     ]
    }
   ],
   "source": [
    "# cr xgboost\n",
    "print(classification_report(y_test,y_pred_xgb))\n",
    "print('-'*55)\n",
    "print(classification_report(y_test,y_pred_xgb_us))\n",
    "print('-'*55)\n",
    "print(classification_report(y_test,y_pred_xgb_os))"
   ]
  },
  {
   "cell_type": "markdown",
   "id": "85704974",
   "metadata": {},
   "source": [
    "Evaluation - Accuracy Score"
   ]
  },
  {
   "cell_type": "code",
   "execution_count": 69,
   "id": "ff98431f",
   "metadata": {},
   "outputs": [
    {
     "name": "stdout",
     "output_type": "stream",
     "text": [
      "Decision Tree : 64.77\n",
      "Decision Tree (undersampling) : 66.64\n",
      "Decision Tree (oversampling) : 64.18\n",
      "----------------------------------------------------------------------------------------------------\n",
      "Random Forest : 66.86\n",
      "Random Forest (undersampling) : 69.32\n",
      "Random Forest (oversampling) : 66.41\n",
      "----------------------------------------------------------------------------------------------------\n",
      "XGBoost : 66.05\n",
      "XGBoost (undersampling) : 67.86\n",
      "XGBoost (oversampling) : 66.27\n"
     ]
    }
   ],
   "source": [
    "# score decision tree\n",
    "print('Decision Tree :', \"{:.2f}\".format(accuracy_score(y_test, y_pred_dt)*100))\n",
    "print('Decision Tree (undersampling) :', \"{:.2f}\".format(accuracy_score(y_test, y_pred_dt_us)*100))\n",
    "print('Decision Tree (oversampling) :', \"{:.2f}\".format(accuracy_score(y_test, y_pred_dt_os)*100))\n",
    "print('-'*100)\n",
    "print('Random Forest :', \"{:.2f}\".format(accuracy_score(y_test, y_pred_rf)*100))\n",
    "print('Random Forest (undersampling) :', \"{:.2f}\".format(accuracy_score(y_test, y_pred_rf_us)*100))\n",
    "print('Random Forest (oversampling) :', \"{:.2f}\".format(accuracy_score(y_test, y_pred_rf_os)*100))\n",
    "print('-'*100)\n",
    "print('XGBoost :', \"{:.2f}\".format(accuracy_score(y_test, y_pred_xgb)*100))\n",
    "print('XGBoost (undersampling) :', \"{:.2f}\".format(accuracy_score(y_test, y_pred_xgb_us)*100))\n",
    "print('XGBoost (oversampling) :', \"{:.2f}\".format(accuracy_score(y_test, y_pred_xgb_os)*100))"
   ]
  },
  {
   "cell_type": "markdown",
   "id": "e095c57c",
   "metadata": {},
   "source": [
    "# Tuning"
   ]
  },
  {
   "cell_type": "markdown",
   "id": "c2099bb9",
   "metadata": {},
   "source": [
    "### Feature Selection"
   ]
  },
  {
   "cell_type": "code",
   "execution_count": 70,
   "id": "7c10e49d",
   "metadata": {},
   "outputs": [],
   "source": [
    "importance_DT = modelDT.feature_importances_\n",
    "importance_RF = modelRF.feature_importances_\n",
    "importance_XGB = modelXGB.feature_importances_"
   ]
  },
  {
   "cell_type": "code",
   "execution_count": 71,
   "id": "fffeaeb3",
   "metadata": {},
   "outputs": [],
   "source": [
    "columns = list(data.columns)\n",
    "columns.remove('Reached_on_time')"
   ]
  },
  {
   "cell_type": "code",
   "execution_count": 72,
   "id": "a3429fed",
   "metadata": {},
   "outputs": [
    {
     "data": {
      "text/html": [
       "<div>\n",
       "<style scoped>\n",
       "    .dataframe tbody tr th:only-of-type {\n",
       "        vertical-align: middle;\n",
       "    }\n",
       "\n",
       "    .dataframe tbody tr th {\n",
       "        vertical-align: top;\n",
       "    }\n",
       "\n",
       "    .dataframe thead th {\n",
       "        text-align: right;\n",
       "    }\n",
       "</style>\n",
       "<table border=\"1\" class=\"dataframe\">\n",
       "  <thead>\n",
       "    <tr style=\"text-align: right;\">\n",
       "      <th></th>\n",
       "      <th>columns</th>\n",
       "      <th>Importance DT</th>\n",
       "      <th>Importance RF</th>\n",
       "      <th>Importance XGB</th>\n",
       "    </tr>\n",
       "  </thead>\n",
       "  <tbody>\n",
       "    <tr>\n",
       "      <th>0</th>\n",
       "      <td>Customer_care_calls</td>\n",
       "      <td>0.042278</td>\n",
       "      <td>0.056038</td>\n",
       "      <td>0.039903</td>\n",
       "    </tr>\n",
       "    <tr>\n",
       "      <th>1</th>\n",
       "      <td>Customer_rating</td>\n",
       "      <td>0.049184</td>\n",
       "      <td>0.059714</td>\n",
       "      <td>0.034769</td>\n",
       "    </tr>\n",
       "    <tr>\n",
       "      <th>2</th>\n",
       "      <td>Cost_of_the_Product</td>\n",
       "      <td>0.161648</td>\n",
       "      <td>0.168694</td>\n",
       "      <td>0.037649</td>\n",
       "    </tr>\n",
       "    <tr>\n",
       "      <th>3</th>\n",
       "      <td>Prior_purchases</td>\n",
       "      <td>0.055765</td>\n",
       "      <td>0.063887</td>\n",
       "      <td>0.066442</td>\n",
       "    </tr>\n",
       "    <tr>\n",
       "      <th>4</th>\n",
       "      <td>Gender</td>\n",
       "      <td>0.016618</td>\n",
       "      <td>0.023625</td>\n",
       "      <td>0.033979</td>\n",
       "    </tr>\n",
       "    <tr>\n",
       "      <th>5</th>\n",
       "      <td>Discount_offered</td>\n",
       "      <td>0.296890</td>\n",
       "      <td>0.228606</td>\n",
       "      <td>0.336095</td>\n",
       "    </tr>\n",
       "    <tr>\n",
       "      <th>6</th>\n",
       "      <td>Weight_in_gms</td>\n",
       "      <td>0.226937</td>\n",
       "      <td>0.258414</td>\n",
       "      <td>0.047113</td>\n",
       "    </tr>\n",
       "    <tr>\n",
       "      <th>7</th>\n",
       "      <td>Warehouse_block_A</td>\n",
       "      <td>0.018612</td>\n",
       "      <td>0.012635</td>\n",
       "      <td>0.043402</td>\n",
       "    </tr>\n",
       "    <tr>\n",
       "      <th>8</th>\n",
       "      <td>Warehouse_block_B</td>\n",
       "      <td>0.013842</td>\n",
       "      <td>0.012639</td>\n",
       "      <td>0.038426</td>\n",
       "    </tr>\n",
       "    <tr>\n",
       "      <th>9</th>\n",
       "      <td>Warehouse_block_C</td>\n",
       "      <td>0.014267</td>\n",
       "      <td>0.012782</td>\n",
       "      <td>0.037242</td>\n",
       "    </tr>\n",
       "    <tr>\n",
       "      <th>10</th>\n",
       "      <td>Warehouse_block_D</td>\n",
       "      <td>0.017069</td>\n",
       "      <td>0.012779</td>\n",
       "      <td>0.042924</td>\n",
       "    </tr>\n",
       "    <tr>\n",
       "      <th>11</th>\n",
       "      <td>Warehouse_block_F</td>\n",
       "      <td>0.017968</td>\n",
       "      <td>0.015941</td>\n",
       "      <td>0.027741</td>\n",
       "    </tr>\n",
       "    <tr>\n",
       "      <th>12</th>\n",
       "      <td>Mode_of_Shipment_Flight</td>\n",
       "      <td>0.014933</td>\n",
       "      <td>0.012134</td>\n",
       "      <td>0.040571</td>\n",
       "    </tr>\n",
       "    <tr>\n",
       "      <th>13</th>\n",
       "      <td>Mode_of_Shipment_Road</td>\n",
       "      <td>0.015276</td>\n",
       "      <td>0.011491</td>\n",
       "      <td>0.038595</td>\n",
       "    </tr>\n",
       "    <tr>\n",
       "      <th>14</th>\n",
       "      <td>Mode_of_Shipment_Ship</td>\n",
       "      <td>0.013746</td>\n",
       "      <td>0.014396</td>\n",
       "      <td>0.034304</td>\n",
       "    </tr>\n",
       "    <tr>\n",
       "      <th>15</th>\n",
       "      <td>Product_importance_high</td>\n",
       "      <td>0.004252</td>\n",
       "      <td>0.007600</td>\n",
       "      <td>0.029996</td>\n",
       "    </tr>\n",
       "    <tr>\n",
       "      <th>16</th>\n",
       "      <td>Product_importance_low</td>\n",
       "      <td>0.008806</td>\n",
       "      <td>0.014416</td>\n",
       "      <td>0.034264</td>\n",
       "    </tr>\n",
       "    <tr>\n",
       "      <th>17</th>\n",
       "      <td>Product_importance_medium</td>\n",
       "      <td>0.011910</td>\n",
       "      <td>0.014209</td>\n",
       "      <td>0.036586</td>\n",
       "    </tr>\n",
       "  </tbody>\n",
       "</table>\n",
       "</div>"
      ],
      "text/plain": [
       "                      columns  Importance DT  Importance RF  Importance XGB\n",
       "0         Customer_care_calls       0.042278       0.056038        0.039903\n",
       "1             Customer_rating       0.049184       0.059714        0.034769\n",
       "2         Cost_of_the_Product       0.161648       0.168694        0.037649\n",
       "3             Prior_purchases       0.055765       0.063887        0.066442\n",
       "4                      Gender       0.016618       0.023625        0.033979\n",
       "5            Discount_offered       0.296890       0.228606        0.336095\n",
       "6               Weight_in_gms       0.226937       0.258414        0.047113\n",
       "7           Warehouse_block_A       0.018612       0.012635        0.043402\n",
       "8           Warehouse_block_B       0.013842       0.012639        0.038426\n",
       "9           Warehouse_block_C       0.014267       0.012782        0.037242\n",
       "10          Warehouse_block_D       0.017069       0.012779        0.042924\n",
       "11          Warehouse_block_F       0.017968       0.015941        0.027741\n",
       "12    Mode_of_Shipment_Flight       0.014933       0.012134        0.040571\n",
       "13      Mode_of_Shipment_Road       0.015276       0.011491        0.038595\n",
       "14      Mode_of_Shipment_Ship       0.013746       0.014396        0.034304\n",
       "15    Product_importance_high       0.004252       0.007600        0.029996\n",
       "16     Product_importance_low       0.008806       0.014416        0.034264\n",
       "17  Product_importance_medium       0.011910       0.014209        0.036586"
      ]
     },
     "execution_count": 72,
     "metadata": {},
     "output_type": "execute_result"
    }
   ],
   "source": [
    "data_imp = pd.DataFrame({'columns' : columns,\n",
    "                      'Importance DT' : importance_DT,\n",
    "                      'Importance RF' : importance_RF,\n",
    "                      'Importance XGB' : importance_XGB,\n",
    "                        })\n",
    "data_imp"
   ]
  },
  {
   "cell_type": "code",
   "execution_count": 73,
   "id": "894d95f8",
   "metadata": {
    "scrolled": false
   },
   "outputs": [
    {
     "data": {
      "text/plain": [
       "<matplotlib.legend.Legend at 0x13e29668400>"
      ]
     },
     "execution_count": 73,
     "metadata": {},
     "output_type": "execute_result"
    },
    {
     "data": {
      "image/png": "[encoded data removed]",
      "text/plain": [
       "<Figure size 576x396 with 1 Axes>"
      ]
     },
     "metadata": {},
     "output_type": "display_data"
    }
   ],
   "source": [
    "data_imp.set_index('columns').plot.bar()\n",
    "plt.legend()"
   ]
  },
  {
   "cell_type": "code",
   "execution_count": 74,
   "id": "f99712a5",
   "metadata": {},
   "outputs": [],
   "source": [
    "data_fs_dt = data_imp[['columns','Importance DT']].nlargest(5,'Importance DT')['columns']\n",
    "data_fs_rf = data_imp[['columns','Importance RF']].nlargest(5,'Importance RF')['columns']\n",
    "data_fs_xgb = data_imp[['columns','Importance XGB']].nlargest(5,'Importance XGB')['columns']"
   ]
  },
  {
   "cell_type": "code",
   "execution_count": 75,
   "id": "d43b7da4",
   "metadata": {
    "scrolled": false
   },
   "outputs": [
    {
     "name": "stdout",
     "output_type": "stream",
     "text": [
      "5       Discount_offered\n",
      "6          Weight_in_gms\n",
      "2    Cost_of_the_Product\n",
      "3        Prior_purchases\n",
      "1        Customer_rating\n",
      "Name: columns, dtype: object\n",
      "----------------------------------------------------------------------------------------------------\n",
      "6          Weight_in_gms\n",
      "5       Discount_offered\n",
      "2    Cost_of_the_Product\n",
      "3        Prior_purchases\n",
      "1        Customer_rating\n",
      "Name: columns, dtype: object\n",
      "----------------------------------------------------------------------------------------------------\n",
      "5      Discount_offered\n",
      "3       Prior_purchases\n",
      "6         Weight_in_gms\n",
      "7     Warehouse_block_A\n",
      "10    Warehouse_block_D\n",
      "Name: columns, dtype: object\n",
      "----------------------------------------------------------------------------------------------------\n"
     ]
    }
   ],
   "source": [
    "print(data_fs_dt)\n",
    "print('-'*100)\n",
    "print(data_fs_rf)\n",
    "print('-'*100)\n",
    "print(data_fs_xgb)\n",
    "print('-'*100)"
   ]
  },
  {
   "cell_type": "code",
   "execution_count": 76,
   "id": "3bdba4ef",
   "metadata": {},
   "outputs": [],
   "source": [
    "x_fs_dt = data[data_fs_dt]\n",
    "x_fs_rf = data[data_fs_rf]\n",
    "x_fs_xgb = data[data_fs_xgb]"
   ]
  },
  {
   "cell_type": "code",
   "execution_count": 77,
   "id": "e71cbcdb",
   "metadata": {},
   "outputs": [],
   "source": [
    "x_train_fs_dt, x_test_fs_dt, y_train_fs_dt, y_test_fs_dt = train_test_split(x_fs_dt,y, test_size=0.2, random_state=42)\n",
    "x_train_fs_rf, x_test_fs_rf, y_train_fs_rf, y_test_fs_rf = train_test_split(x_fs_rf,y, test_size=0.2, random_state=42)\n",
    "x_train_fs_xgb, x_test_fs_xgb, y_train_fs_xgb, y_test_fs_xgb = train_test_split(x_fs_xgb,y, test_size=0.2, random_state=42)"
   ]
  },
  {
   "cell_type": "code",
   "execution_count": 78,
   "id": "cd5e97ab",
   "metadata": {},
   "outputs": [
    {
     "name": "stdout",
     "output_type": "stream",
     "text": [
      "[19:16:16] WARNING: D:\\bld\\xgboost-split_1645118015404\\work\\src\\learner.cc:1115: Starting in XGBoost 1.3.0, the default evaluation metric used with the objective 'binary:logistic' was changed from 'error' to 'logloss'. Explicitly set eval_metric if you'd like to restore the old behavior.\n"
     ]
    },
    {
     "data": {
      "text/plain": [
       "XGBClassifier(base_score=0.5, booster='gbtree', colsample_bylevel=1,\n",
       "              colsample_bynode=1, colsample_bytree=1, enable_categorical=False,\n",
       "              gamma=0, gpu_id=-1, importance_type=None,\n",
       "              interaction_constraints='', learning_rate=0.300000012,\n",
       "              max_delta_step=0, max_depth=6, min_child_weight=1, missing=nan,\n",
       "              monotone_constraints='()', n_estimators=100, n_jobs=4,\n",
       "              num_parallel_tree=1, predictor='auto', random_state=0,\n",
       "              reg_alpha=0, reg_lambda=1, scale_pos_weight=1, subsample=1,\n",
       "              tree_method='exact', validate_parameters=1, verbosity=None)"
      ]
     },
     "execution_count": 78,
     "metadata": {},
     "output_type": "execute_result"
    }
   ],
   "source": [
    "modelDT_FS = DecisionTreeClassifier(criterion='gini', random_state=42)\n",
    "modelRF_FS = RandomForestClassifier(criterion='gini',random_state=42)\n",
    "modelXGB_FS = XGBClassifier()\\\n",
    "\n",
    "# modelling\n",
    "modelDT_FS.fit(x_train_fs_dt, y_train_fs_dt)\n",
    "modelRF_FS.fit(x_train_fs_rf, y_train_fs_rf)\n",
    "modelXGB_FS.fit(x_train_fs_xgb,y_train_fs_xgb)"
   ]
  },
  {
   "cell_type": "code",
   "execution_count": 79,
   "id": "d5f76fa1",
   "metadata": {},
   "outputs": [],
   "source": [
    "y_pred_dt_fs = modelDT_FS.predict(x_test_fs_dt)\n",
    "y_pred_rf_fs = modelRF_FS.predict(x_test_fs_rf)\n",
    "y_pred_xgb_fs = modelXGB_FS.predict(x_test_fs_xgb)"
   ]
  },
  {
   "cell_type": "code",
   "execution_count": 80,
   "id": "d3714134",
   "metadata": {},
   "outputs": [
    {
     "name": "stdout",
     "output_type": "stream",
     "text": [
      "Decision Tree : 64.77\n",
      "Decision Tree (undersampling) : 66.64\n",
      "Decision Tree (oversampling) : 64.18\n",
      "Decision Tree (Feature Selection) : 63.77\n",
      "----------------------------------------------------------------------------------------------------\n",
      "Random Forest : 66.86\n",
      "Random Forest (undersampling) : 69.32\n",
      "Random Forest (oversampling) : 66.41\n",
      "Random Forest (Feature Selection) : 65.91\n",
      "----------------------------------------------------------------------------------------------------\n",
      "XGBoost : 66.05\n",
      "XGBoost (undersampling) : 67.86\n",
      "XGBoost (oversampling) : 66.27\n",
      "XGBoost (Feature Selection) : 66.09\n"
     ]
    }
   ],
   "source": [
    "# score decision tree\n",
    "print('Decision Tree :', \"{:.2f}\".format(accuracy_score(y_test, y_pred_dt)*100))\n",
    "print('Decision Tree (undersampling) :', \"{:.2f}\".format(accuracy_score(y_test, y_pred_dt_us)*100))\n",
    "print('Decision Tree (oversampling) :', \"{:.2f}\".format(accuracy_score(y_test, y_pred_dt_os)*100))\n",
    "print('Decision Tree (Feature Selection) :', \"{:.2f}\".format(accuracy_score(y_test_fs_dt, y_pred_dt_fs)*100))\n",
    "print('-'*100)\n",
    "print('Random Forest :', \"{:.2f}\".format(accuracy_score(y_test, y_pred_rf)*100))\n",
    "print('Random Forest (undersampling) :', \"{:.2f}\".format(accuracy_score(y_test, y_pred_rf_us)*100))\n",
    "print('Random Forest (oversampling) :', \"{:.2f}\".format(accuracy_score(y_test, y_pred_rf_os)*100))\n",
    "print('Random Forest (Feature Selection) :', \"{:.2f}\".format(accuracy_score(y_test_fs_rf, y_pred_rf_fs)*100))\n",
    "print('-'*100)\n",
    "print('XGBoost :', \"{:.2f}\".format(accuracy_score(y_test, y_pred_xgb)*100))\n",
    "print('XGBoost (undersampling) :', \"{:.2f}\".format(accuracy_score(y_test, y_pred_xgb_us)*100))\n",
    "print('XGBoost (oversampling) :', \"{:.2f}\".format(accuracy_score(y_test, y_pred_xgb_os)*100))\n",
    "print('XGBoost (Feature Selection) :', \"{:.2f}\".format(accuracy_score(y_test_fs_xgb, y_pred_xgb_fs)*100))"
   ]
  },
  {
   "cell_type": "markdown",
   "id": "9bd6a4b5",
   "metadata": {},
   "source": [
    "### Tuning - GridSearchCV"
   ]
  },
  {
   "cell_type": "code",
   "execution_count": 81,
   "id": "2488b15a",
   "metadata": {},
   "outputs": [],
   "source": [
    "from sklearn.model_selection import GridSearchCV"
   ]
  },
  {
   "cell_type": "code",
   "execution_count": 82,
   "id": "acd33068",
   "metadata": {},
   "outputs": [],
   "source": [
    "paramsDT = {\n",
    "    'criterion' : ['gini','entropy'],\n",
    "    'splitter' : ['best','random'],\n",
    "    'max_depth' : range(1,10),\n",
    "    'max_features' : ['auto', 'sqrt, log2'],\n",
    "    'min_samples_split': range(1, 10),\n",
    "    'min_samples_leaf': range(1, 5)\n",
    "}\n",
    "\n",
    "paramsRF = {\n",
    "     'n_estimators' : [100, 200, 300, 400, 500],\n",
    "     'criterion' : ['gini','entropy'],\n",
    "     'max_depth': range(1,10),\n",
    "     'max_features' : ['auto', 'sqrt, log2'],\n",
    "}\n",
    "\n",
    "paramsXGB = {\n",
    "    'n_estimators' : [100, 200, 300, 400, 500],\n",
    "    'max_depth': range(1,10),\n",
    "}"
   ]
  },
  {
   "cell_type": "code",
   "execution_count": 83,
   "id": "e7bca2c5",
   "metadata": {},
   "outputs": [],
   "source": [
    "# modeling DT\n",
    "modelDT = GridSearchCV(DecisionTreeClassifier(),paramsDT,cv=3,verbose=1,n_jobs=-1)\n",
    "modelDT_US = GridSearchCV(DecisionTreeClassifier(),paramsDT,cv=3,verbose=1,n_jobs=-1)\n",
    "modelDT_OS = GridSearchCV(DecisionTreeClassifier(),paramsDT,cv=3,verbose=1,n_jobs=-1)\n",
    "modelDT_FS = GridSearchCV(DecisionTreeClassifier(),paramsDT,cv=3,verbose=1,n_jobs=-1)\n",
    "\n",
    "# modeling RF\n",
    "modelRF = GridSearchCV(RandomForestClassifier(),paramsRF,cv=3,verbose=1,n_jobs=-1)\n",
    "modelRF_US = GridSearchCV(RandomForestClassifier(),paramsRF,cv=3,verbose=1,n_jobs=-1)\n",
    "modelRF_OS = GridSearchCV(RandomForestClassifier(),paramsRF,cv=3,verbose=1,n_jobs=-1)\n",
    "modelRF_FS = GridSearchCV(RandomForestClassifier(),paramsRF,cv=3,verbose=1,n_jobs=-1)\n",
    "\n",
    "# modeling XGB\n",
    "modelXGB = GridSearchCV(XGBClassifier(),paramsXGB,cv=3,verbose=1,n_jobs=-1)\n",
    "modelXGB_US = GridSearchCV(XGBClassifier(),paramsXGB,cv=3,verbose=1,n_jobs=-1)\n",
    "modelXGB_OS = GridSearchCV(XGBClassifier(),paramsXGB,cv=3,verbose=1,n_jobs=-1)\n",
    "modelXGB_FS = GridSearchCV(XGBClassifier(),paramsXGB,cv=3,verbose=1,n_jobs=-1)"
   ]
  },
  {
   "cell_type": "code",
   "execution_count": 84,
   "id": "aa59d9a7",
   "metadata": {},
   "outputs": [
    {
     "name": "stdout",
     "output_type": "stream",
     "text": [
      "Fitting 3 folds for each of 2592 candidates, totalling 7776 fits\n",
      "Fitting 3 folds for each of 2592 candidates, totalling 7776 fits\n",
      "Fitting 3 folds for each of 2592 candidates, totalling 7776 fits\n",
      "Fitting 3 folds for each of 2592 candidates, totalling 7776 fits\n",
      "Fitting 3 folds for each of 180 candidates, totalling 540 fits\n",
      "Fitting 3 folds for each of 180 candidates, totalling 540 fits\n",
      "Fitting 3 folds for each of 180 candidates, totalling 540 fits\n",
      "Fitting 3 folds for each of 180 candidates, totalling 540 fits\n",
      "Fitting 3 folds for each of 45 candidates, totalling 135 fits\n",
      "[19:30:54] WARNING: D:\\bld\\xgboost-split_1645118015404\\work\\src\\learner.cc:1115: Starting in XGBoost 1.3.0, the default evaluation metric used with the objective 'binary:logistic' was changed from 'error' to 'logloss'. Explicitly set eval_metric if you'd like to restore the old behavior.\n",
      "Fitting 3 folds for each of 45 candidates, totalling 135 fits\n",
      "[19:32:34] WARNING: D:\\bld\\xgboost-split_1645118015404\\work\\src\\learner.cc:1115: Starting in XGBoost 1.3.0, the default evaluation metric used with the objective 'binary:logistic' was changed from 'error' to 'logloss'. Explicitly set eval_metric if you'd like to restore the old behavior.\n",
      "Fitting 3 folds for each of 45 candidates, totalling 135 fits\n",
      "[19:34:49] WARNING: D:\\bld\\xgboost-split_1645118015404\\work\\src\\learner.cc:1115: Starting in XGBoost 1.3.0, the default evaluation metric used with the objective 'binary:logistic' was changed from 'error' to 'logloss'. Explicitly set eval_metric if you'd like to restore the old behavior.\n",
      "Fitting 3 folds for each of 45 candidates, totalling 135 fits\n",
      "[19:35:59] WARNING: D:\\bld\\xgboost-split_1645118015404\\work\\src\\learner.cc:1115: Starting in XGBoost 1.3.0, the default evaluation metric used with the objective 'binary:logistic' was changed from 'error' to 'logloss'. Explicitly set eval_metric if you'd like to restore the old behavior.\n"
     ]
    },
    {
     "data": {
      "text/plain": [
       "GridSearchCV(cv=3,\n",
       "             estimator=XGBClassifier(base_score=None, booster=None,\n",
       "                                     colsample_bylevel=None,\n",
       "                                     colsample_bynode=None,\n",
       "                                     colsample_bytree=None,\n",
       "                                     enable_categorical=False, gamma=None,\n",
       "                                     gpu_id=None, importance_type=None,\n",
       "                                     interaction_constraints=None,\n",
       "                                     learning_rate=None, max_delta_step=None,\n",
       "                                     max_depth=None, min_child_weight=None,\n",
       "                                     missing=nan, monotone_constraints=None,\n",
       "                                     n_estimators=100, n_jobs=None,\n",
       "                                     num_parallel_tree=None, predictor=None,\n",
       "                                     random_state=None, reg_alpha=None,\n",
       "                                     reg_lambda=None, scale_pos_weight=None,\n",
       "                                     subsample=None, tree_method=None,\n",
       "                                     validate_parameters=None, verbosity=None),\n",
       "             n_jobs=-1,\n",
       "             param_grid={'max_depth': range(1, 10),\n",
       "                         'n_estimators': [100, 200, 300, 400, 500]},\n",
       "             verbose=1)"
      ]
     },
     "execution_count": 84,
     "metadata": {},
     "output_type": "execute_result"
    }
   ],
   "source": [
    "# fitting DT\n",
    "modelDT.fit(x_train,y_train)\n",
    "modelDT_US.fit(x_under,y_under)\n",
    "modelDT_OS.fit(x_smote,y_smote)\n",
    "modelDT_FS.fit(x_train_fs_dt,y_train_fs_dt)\n",
    "\n",
    "# fitting RF\n",
    "modelRF.fit(x_train,y_train)\n",
    "modelRF_US.fit(x_under,y_under)\n",
    "modelRF_OS.fit(x_smote,y_smote)\n",
    "modelRF_FS.fit(x_train_fs_rf,y_train_fs_rf)\n",
    "\n",
    "# fitting XGB\n",
    "modelXGB.fit(x_train,y_train)\n",
    "modelXGB_US.fit(x_under,y_under)\n",
    "modelXGB_OS.fit(x_smote,y_smote)\n",
    "modelXGB_FS.fit(x_train_fs_xgb,y_train_fs_xgb)\n"
   ]
  },
  {
   "cell_type": "code",
   "execution_count": 85,
   "id": "5d76dd65",
   "metadata": {},
   "outputs": [
    {
     "name": "stdout",
     "output_type": "stream",
     "text": [
      "Decision Tree - Best Params\n",
      "{'criterion': 'gini', 'max_depth': 6, 'max_features': 'auto', 'min_samples_leaf': 1, 'min_samples_split': 4, 'splitter': 'best'}\n",
      "{'criterion': 'gini', 'max_depth': 5, 'max_features': 'auto', 'min_samples_leaf': 1, 'min_samples_split': 2, 'splitter': 'best'}\n",
      "{'criterion': 'gini', 'max_depth': 5, 'max_features': 'auto', 'min_samples_leaf': 1, 'min_samples_split': 6, 'splitter': 'best'}\n",
      "{'criterion': 'entropy', 'max_depth': 5, 'max_features': 'auto', 'min_samples_leaf': 4, 'min_samples_split': 5, 'splitter': 'best'}\n",
      "------------------------------------------------------------\n",
      "Random Forest - Best Params\n",
      "{'criterion': 'entropy', 'max_depth': 6, 'max_features': 'auto', 'n_estimators': 300}\n",
      "{'criterion': 'entropy', 'max_depth': 4, 'max_features': 'auto', 'n_estimators': 200}\n",
      "{'criterion': 'entropy', 'max_depth': 5, 'max_features': 'auto', 'n_estimators': 100}\n",
      "{'criterion': 'gini', 'max_depth': 4, 'max_features': 'auto', 'n_estimators': 200}\n",
      "------------------------------------------------------------\n",
      "XGB - Best Params\n",
      "{'max_depth': 1, 'n_estimators': 100}\n",
      "{'max_depth': 1, 'n_estimators': 100}\n",
      "{'max_depth': 1, 'n_estimators': 100}\n",
      "{'max_depth': 1, 'n_estimators': 100}\n",
      "------------------------------------------------------------\n"
     ]
    }
   ],
   "source": [
    "print('Decision Tree - Best Params')\n",
    "print(modelDT.best_params_)\n",
    "print(modelDT_US.best_params_)\n",
    "print(modelDT_OS.best_params_)\n",
    "print(modelDT_FS.best_params_)\n",
    "print('-'*60)\n",
    "print('Random Forest - Best Params')\n",
    "print(modelRF.best_params_)\n",
    "print(modelRF_US.best_params_)\n",
    "print(modelRF_OS.best_params_)\n",
    "print(modelRF_FS.best_params_)\n",
    "print('-'*60)\n",
    "print('XGB - Best Params')\n",
    "print(modelXGB.best_params_)\n",
    "print(modelXGB_US.best_params_)\n",
    "print(modelXGB_OS.best_params_)\n",
    "print(modelXGB_FS.best_params_)\n",
    "print('-'*60)"
   ]
  },
  {
   "cell_type": "code",
   "execution_count": 86,
   "id": "64061da0",
   "metadata": {},
   "outputs": [
    {
     "name": "stdout",
     "output_type": "stream",
     "text": [
      "Decision Tree - Best Score\n",
      "0.6771224002727583\n",
      "0.7324202494873139\n",
      "0.7145303520166095\n",
      "0.6823502670758042\n",
      "------------------------------------------------------------\n",
      "Random Forest - Best Score\n",
      "0.6793953858393\n",
      "0.7355271753566069\n",
      "0.7310759437187903\n",
      "0.6832594613024208\n",
      "------------------------------------------------------------\n",
      "XGB - Best Score\n",
      "0.6704170928514603\n",
      "0.7300196579539935\n",
      "0.6890466421397297\n",
      "0.6670076145016478\n",
      "------------------------------------------------------------\n"
     ]
    }
   ],
   "source": [
    "print('Decision Tree - Best Score')\n",
    "print(modelDT.best_score_)\n",
    "print(modelDT_US.best_score_)\n",
    "print(modelDT_OS.best_score_)\n",
    "print(modelDT_FS.best_score_)\n",
    "print('-'*60)\n",
    "print('Random Forest - Best Score')\n",
    "print(modelRF.best_score_)\n",
    "print(modelRF_US.best_score_)\n",
    "print(modelRF_OS.best_score_)\n",
    "print(modelRF_FS.best_score_)\n",
    "print('-'*60)\n",
    "print('XGB - Best Score')\n",
    "print(modelXGB.best_score_)\n",
    "print(modelXGB_US.best_score_)\n",
    "print(modelXGB_OS.best_score_)\n",
    "print(modelXGB_FS.best_score_)\n",
    "print('-'*60)"
   ]
  },
  {
   "cell_type": "code",
   "execution_count": 87,
   "id": "817ed1b5",
   "metadata": {},
   "outputs": [
    {
     "name": "stdout",
     "output_type": "stream",
     "text": [
      "Decision Tree : 64.77\n",
      "Decision Tree (undersampling) : 66.64\n",
      "Decision Tree (oversampling) : 64.18\n",
      "Decision Tree (Feature Selection) : 63.77\n",
      "Decision Tree (Tuning): 67.71\n",
      "Decision Tree (Tuning & Undersampling): 73.24\n",
      "Decision Tree (Tuning & Oversampling): 71.45\n",
      "Decision Tree (Tuning & Feature Selection): 68.24\n",
      "----------------------------------------------------------------------------------------------------\n",
      "Random Forest : 66.86\n",
      "Random Forest (undersampling) : 69.32\n",
      "Random Forest (oversampling) : 66.41\n",
      "Random Forest (Feature Selection) : 65.91\n",
      "Random Forest (Tuning): 67.94\n",
      "Random Forest (Tuning & Undersampling): 73.55\n",
      "Random Forest (Tuning & Oversampling): 73.11\n",
      "Random Forest (Tuning & Feature Selection): 68.33\n",
      "----------------------------------------------------------------------------------------------------\n",
      "XGBoost : 66.05\n",
      "XGBoost (undersampling) : 67.86\n",
      "XGBoost (oversampling) : 66.27\n",
      "XGBoost (Feature Selection) : 66.09\n",
      "XGBoost (Tuning): 67.04\n",
      "XGBoost (Tuning & Undersampling): 73.00\n",
      "XGBoost (Tuning & Oversampling): 68.90\n",
      "XGBoost (Tuning & Feature Selection): 66.70\n"
     ]
    }
   ],
   "source": [
    "print('Decision Tree :', \"{:.2f}\".format(accuracy_score(y_test, y_pred_dt)*100))\n",
    "print('Decision Tree (undersampling) :', \"{:.2f}\".format(accuracy_score(y_test, y_pred_dt_us)*100))\n",
    "print('Decision Tree (oversampling) :', \"{:.2f}\".format(accuracy_score(y_test, y_pred_dt_os)*100))\n",
    "print('Decision Tree (Feature Selection) :', \"{:.2f}\".format(accuracy_score(y_test_fs_dt, y_pred_dt_fs)*100))\n",
    "print('Decision Tree (Tuning):', \"{:.2f}\".format(modelDT.best_score_*100))\n",
    "print('Decision Tree (Tuning & Undersampling):', \"{:.2f}\".format(modelDT_US.best_score_*100))\n",
    "print('Decision Tree (Tuning & Oversampling):', \"{:.2f}\".format(modelDT_OS.best_score_*100))\n",
    "print('Decision Tree (Tuning & Feature Selection):', \"{:.2f}\".format(modelDT_FS.best_score_*100))\n",
    "print('-'*100)\n",
    "print('Random Forest :', \"{:.2f}\".format(accuracy_score(y_test, y_pred_rf)*100))\n",
    "print('Random Forest (undersampling) :', \"{:.2f}\".format(accuracy_score(y_test, y_pred_rf_us)*100))\n",
    "print('Random Forest (oversampling) :', \"{:.2f}\".format(accuracy_score(y_test, y_pred_rf_os)*100))\n",
    "print('Random Forest (Feature Selection) :', \"{:.2f}\".format(accuracy_score(y_test_fs_rf, y_pred_rf_fs)*100))\n",
    "print('Random Forest (Tuning):', \"{:.2f}\".format(modelRF.best_score_*100))\n",
    "print('Random Forest (Tuning & Undersampling):', \"{:.2f}\".format(modelRF_US.best_score_*100))\n",
    "print('Random Forest (Tuning & Oversampling):', \"{:.2f}\".format(modelRF_OS.best_score_*100))\n",
    "print('Random Forest (Tuning & Feature Selection):', \"{:.2f}\".format(modelRF_FS.best_score_*100))\n",
    "print('-'*100)\n",
    "print('XGBoost :', \"{:.2f}\".format(accuracy_score(y_test, y_pred_xgb)*100))\n",
    "print('XGBoost (undersampling) :', \"{:.2f}\".format(accuracy_score(y_test, y_pred_xgb_us)*100))\n",
    "print('XGBoost (oversampling) :', \"{:.2f}\".format(accuracy_score(y_test, y_pred_xgb_os)*100))\n",
    "print('XGBoost (Feature Selection) :', \"{:.2f}\".format(accuracy_score(y_test_fs_xgb, y_pred_xgb_fs)*100))\n",
    "print('XGBoost (Tuning):', \"{:.2f}\".format(modelXGB.best_score_*100))\n",
    "print('XGBoost (Tuning & Undersampling):', \"{:.2f}\".format(modelXGB_US.best_score_*100))\n",
    "print('XGBoost (Tuning & Oversampling):', \"{:.2f}\".format(modelXGB_OS.best_score_*100))\n",
    "print('XGBoost (Tuning & Feature Selection):', \"{:.2f}\".format(modelXGB_FS.best_score_*100))"
   ]
  },
  {
   "cell_type": "code",
   "execution_count": null,
   "id": "da8dfbbd",
   "metadata": {},
   "outputs": [],
   "source": []
  },
  {
   "cell_type": "code",
   "execution_count": null,
   "id": "721b7048",
   "metadata": {},
   "outputs": [],
   "source": []
  },
  {
   "cell_type": "code",
   "execution_count": null,
   "id": "48159a47",
   "metadata": {},
   "outputs": [],
   "source": []
  },
  {
   "cell_type": "code",
   "execution_count": null,
   "id": "edf12ea5",
   "metadata": {},
   "outputs": [],
   "source": []
  },
  {
   "cell_type": "code",
   "execution_count": null,
   "id": "2e5a00fa",
   "metadata": {},
   "outputs": [],
   "source": []
  }
 ],
 "metadata": {
  "kernelspec": {
   "display_name": "Python 3 (ipykernel)",
   "language": "python",
   "name": "python3"
  },
  "language_info": {
   "codemirror_mode": {
    "name": "ipython",
    "version": 3
   },
   "file_extension": ".py",
   "mimetype": "text/x-python",
   "name": "python",
   "nbconvert_exporter": "python",
   "pygments_lexer": "ipython3",
   "version": "3.8.12"
  }
 },
 "nbformat": 4,
 "nbformat_minor": 5
}
