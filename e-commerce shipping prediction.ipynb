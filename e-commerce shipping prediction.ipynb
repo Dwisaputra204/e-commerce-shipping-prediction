{
 "cells": [
  {
   "cell_type": "markdown",
   "id": "a8ff7cbf",
   "metadata": {},
   "source": [
    "# Import & Read"
   ]
  },
  {
   "cell_type": "code",
   "execution_count": 1,
   "id": "a2cf5ec6",
   "metadata": {},
   "outputs": [],
   "source": [
    "# import package & library\n",
    "import pandas as pd\n",
    "import numpy as np\n",
    "import matplotlib.pyplot as plt\n",
    "import seaborn as sns\n",
    "import warnings\n",
    "\n",
    "warnings.filterwarnings('ignore')\n",
    "plt.style.use('seaborn')"
   ]
  },
  {
   "cell_type": "code",
   "execution_count": 2,
   "id": "5cab0f5e",
   "metadata": {},
   "outputs": [],
   "source": [
    "# load data set\n",
    "data = pd.read_csv('Train.csv')"
   ]
  },
  {
   "cell_type": "code",
   "execution_count": 3,
   "id": "93e11c0a",
   "metadata": {
    "scrolled": true
   },
   "outputs": [
    {
     "data": {
      "text/html": [
       "<div>\n",
       "<style scoped>\n",
       "    .dataframe tbody tr th:only-of-type {\n",
       "        vertical-align: middle;\n",
       "    }\n",
       "\n",
       "    .dataframe tbody tr th {\n",
       "        vertical-align: top;\n",
       "    }\n",
       "\n",
       "    .dataframe thead th {\n",
       "        text-align: right;\n",
       "    }\n",
       "</style>\n",
       "<table border=\"1\" class=\"dataframe\">\n",
       "  <thead>\n",
       "    <tr style=\"text-align: right;\">\n",
       "      <th></th>\n",
       "      <th>ID</th>\n",
       "      <th>Warehouse_block</th>\n",
       "      <th>Mode_of_Shipment</th>\n",
       "      <th>Customer_care_calls</th>\n",
       "      <th>Customer_rating</th>\n",
       "      <th>Cost_of_the_Product</th>\n",
       "      <th>Prior_purchases</th>\n",
       "      <th>Product_importance</th>\n",
       "      <th>Gender</th>\n",
       "      <th>Discount_offered</th>\n",
       "      <th>Weight_in_gms</th>\n",
       "      <th>Reached.on.Time_Y.N</th>\n",
       "    </tr>\n",
       "  </thead>\n",
       "  <tbody>\n",
       "    <tr>\n",
       "      <th>0</th>\n",
       "      <td>1</td>\n",
       "      <td>D</td>\n",
       "      <td>Flight</td>\n",
       "      <td>4</td>\n",
       "      <td>2</td>\n",
       "      <td>177</td>\n",
       "      <td>3</td>\n",
       "      <td>low</td>\n",
       "      <td>F</td>\n",
       "      <td>44</td>\n",
       "      <td>1233</td>\n",
       "      <td>1</td>\n",
       "    </tr>\n",
       "    <tr>\n",
       "      <th>1</th>\n",
       "      <td>2</td>\n",
       "      <td>F</td>\n",
       "      <td>Flight</td>\n",
       "      <td>4</td>\n",
       "      <td>5</td>\n",
       "      <td>216</td>\n",
       "      <td>2</td>\n",
       "      <td>low</td>\n",
       "      <td>M</td>\n",
       "      <td>59</td>\n",
       "      <td>3088</td>\n",
       "      <td>1</td>\n",
       "    </tr>\n",
       "    <tr>\n",
       "      <th>2</th>\n",
       "      <td>3</td>\n",
       "      <td>A</td>\n",
       "      <td>Flight</td>\n",
       "      <td>2</td>\n",
       "      <td>2</td>\n",
       "      <td>183</td>\n",
       "      <td>4</td>\n",
       "      <td>low</td>\n",
       "      <td>M</td>\n",
       "      <td>48</td>\n",
       "      <td>3374</td>\n",
       "      <td>1</td>\n",
       "    </tr>\n",
       "    <tr>\n",
       "      <th>3</th>\n",
       "      <td>4</td>\n",
       "      <td>B</td>\n",
       "      <td>Flight</td>\n",
       "      <td>3</td>\n",
       "      <td>3</td>\n",
       "      <td>176</td>\n",
       "      <td>4</td>\n",
       "      <td>medium</td>\n",
       "      <td>M</td>\n",
       "      <td>10</td>\n",
       "      <td>1177</td>\n",
       "      <td>1</td>\n",
       "    </tr>\n",
       "    <tr>\n",
       "      <th>4</th>\n",
       "      <td>5</td>\n",
       "      <td>C</td>\n",
       "      <td>Flight</td>\n",
       "      <td>2</td>\n",
       "      <td>2</td>\n",
       "      <td>184</td>\n",
       "      <td>3</td>\n",
       "      <td>medium</td>\n",
       "      <td>F</td>\n",
       "      <td>46</td>\n",
       "      <td>2484</td>\n",
       "      <td>1</td>\n",
       "    </tr>\n",
       "  </tbody>\n",
       "</table>\n",
       "</div>"
      ],
      "text/plain": [
       "   ID Warehouse_block Mode_of_Shipment  Customer_care_calls  Customer_rating  \\\n",
       "0   1               D           Flight                    4                2   \n",
       "1   2               F           Flight                    4                5   \n",
       "2   3               A           Flight                    2                2   \n",
       "3   4               B           Flight                    3                3   \n",
       "4   5               C           Flight                    2                2   \n",
       "\n",
       "   Cost_of_the_Product  Prior_purchases Product_importance Gender  \\\n",
       "0                  177                3                low      F   \n",
       "1                  216                2                low      M   \n",
       "2                  183                4                low      M   \n",
       "3                  176                4             medium      M   \n",
       "4                  184                3             medium      F   \n",
       "\n",
       "   Discount_offered  Weight_in_gms  Reached.on.Time_Y.N  \n",
       "0                44           1233                    1  \n",
       "1                59           3088                    1  \n",
       "2                48           3374                    1  \n",
       "3                10           1177                    1  \n",
       "4                46           2484                    1  "
      ]
     },
     "execution_count": 3,
     "metadata": {},
     "output_type": "execute_result"
    }
   ],
   "source": [
    "data.head()"
   ]
  },
  {
   "cell_type": "markdown",
   "id": "8a223add",
   "metadata": {},
   "source": [
    "1 = late; 0 = on time"
   ]
  },
  {
   "cell_type": "markdown",
   "id": "2ebf6376",
   "metadata": {},
   "source": [
    "# Data Cleaning & Preprocessing"
   ]
  },
  {
   "cell_type": "code",
   "execution_count": 4,
   "id": "f94c25c2",
   "metadata": {},
   "outputs": [],
   "source": [
    "data.rename(columns={'Reached.on.Time_Y.N':'Reached_on_time'}, inplace=True)"
   ]
  },
  {
   "cell_type": "code",
   "execution_count": 5,
   "id": "14636931",
   "metadata": {
    "scrolled": true
   },
   "outputs": [
    {
     "data": {
      "text/html": [
       "<div>\n",
       "<style scoped>\n",
       "    .dataframe tbody tr th:only-of-type {\n",
       "        vertical-align: middle;\n",
       "    }\n",
       "\n",
       "    .dataframe tbody tr th {\n",
       "        vertical-align: top;\n",
       "    }\n",
       "\n",
       "    .dataframe thead th {\n",
       "        text-align: right;\n",
       "    }\n",
       "</style>\n",
       "<table border=\"1\" class=\"dataframe\">\n",
       "  <thead>\n",
       "    <tr style=\"text-align: right;\">\n",
       "      <th></th>\n",
       "      <th>ID</th>\n",
       "      <th>Warehouse_block</th>\n",
       "      <th>Mode_of_Shipment</th>\n",
       "      <th>Customer_care_calls</th>\n",
       "      <th>Customer_rating</th>\n",
       "      <th>Cost_of_the_Product</th>\n",
       "      <th>Prior_purchases</th>\n",
       "      <th>Product_importance</th>\n",
       "      <th>Gender</th>\n",
       "      <th>Discount_offered</th>\n",
       "      <th>Weight_in_gms</th>\n",
       "      <th>Reached_on_time</th>\n",
       "    </tr>\n",
       "  </thead>\n",
       "  <tbody>\n",
       "    <tr>\n",
       "      <th>0</th>\n",
       "      <td>1</td>\n",
       "      <td>D</td>\n",
       "      <td>Flight</td>\n",
       "      <td>4</td>\n",
       "      <td>2</td>\n",
       "      <td>177</td>\n",
       "      <td>3</td>\n",
       "      <td>low</td>\n",
       "      <td>F</td>\n",
       "      <td>44</td>\n",
       "      <td>1233</td>\n",
       "      <td>1</td>\n",
       "    </tr>\n",
       "    <tr>\n",
       "      <th>1</th>\n",
       "      <td>2</td>\n",
       "      <td>F</td>\n",
       "      <td>Flight</td>\n",
       "      <td>4</td>\n",
       "      <td>5</td>\n",
       "      <td>216</td>\n",
       "      <td>2</td>\n",
       "      <td>low</td>\n",
       "      <td>M</td>\n",
       "      <td>59</td>\n",
       "      <td>3088</td>\n",
       "      <td>1</td>\n",
       "    </tr>\n",
       "    <tr>\n",
       "      <th>2</th>\n",
       "      <td>3</td>\n",
       "      <td>A</td>\n",
       "      <td>Flight</td>\n",
       "      <td>2</td>\n",
       "      <td>2</td>\n",
       "      <td>183</td>\n",
       "      <td>4</td>\n",
       "      <td>low</td>\n",
       "      <td>M</td>\n",
       "      <td>48</td>\n",
       "      <td>3374</td>\n",
       "      <td>1</td>\n",
       "    </tr>\n",
       "    <tr>\n",
       "      <th>3</th>\n",
       "      <td>4</td>\n",
       "      <td>B</td>\n",
       "      <td>Flight</td>\n",
       "      <td>3</td>\n",
       "      <td>3</td>\n",
       "      <td>176</td>\n",
       "      <td>4</td>\n",
       "      <td>medium</td>\n",
       "      <td>M</td>\n",
       "      <td>10</td>\n",
       "      <td>1177</td>\n",
       "      <td>1</td>\n",
       "    </tr>\n",
       "    <tr>\n",
       "      <th>4</th>\n",
       "      <td>5</td>\n",
       "      <td>C</td>\n",
       "      <td>Flight</td>\n",
       "      <td>2</td>\n",
       "      <td>2</td>\n",
       "      <td>184</td>\n",
       "      <td>3</td>\n",
       "      <td>medium</td>\n",
       "      <td>F</td>\n",
       "      <td>46</td>\n",
       "      <td>2484</td>\n",
       "      <td>1</td>\n",
       "    </tr>\n",
       "  </tbody>\n",
       "</table>\n",
       "</div>"
      ],
      "text/plain": [
       "   ID Warehouse_block Mode_of_Shipment  Customer_care_calls  Customer_rating  \\\n",
       "0   1               D           Flight                    4                2   \n",
       "1   2               F           Flight                    4                5   \n",
       "2   3               A           Flight                    2                2   \n",
       "3   4               B           Flight                    3                3   \n",
       "4   5               C           Flight                    2                2   \n",
       "\n",
       "   Cost_of_the_Product  Prior_purchases Product_importance Gender  \\\n",
       "0                  177                3                low      F   \n",
       "1                  216                2                low      M   \n",
       "2                  183                4                low      M   \n",
       "3                  176                4             medium      M   \n",
       "4                  184                3             medium      F   \n",
       "\n",
       "   Discount_offered  Weight_in_gms  Reached_on_time  \n",
       "0                44           1233                1  \n",
       "1                59           3088                1  \n",
       "2                48           3374                1  \n",
       "3                10           1177                1  \n",
       "4                46           2484                1  "
      ]
     },
     "execution_count": 5,
     "metadata": {},
     "output_type": "execute_result"
    }
   ],
   "source": [
    "data.head()"
   ]
  },
  {
   "cell_type": "markdown",
   "id": "e5d20a4b",
   "metadata": {},
   "source": [
    "### Detecting & Handling Missing Values"
   ]
  },
  {
   "cell_type": "code",
   "execution_count": 6,
   "id": "7fa490b8",
   "metadata": {
    "scrolled": true
   },
   "outputs": [
    {
     "data": {
      "text/plain": [
       "ID                     0\n",
       "Warehouse_block        0\n",
       "Mode_of_Shipment       0\n",
       "Customer_care_calls    0\n",
       "Customer_rating        0\n",
       "Cost_of_the_Product    0\n",
       "Prior_purchases        0\n",
       "Product_importance     0\n",
       "Gender                 0\n",
       "Discount_offered       0\n",
       "Weight_in_gms          0\n",
       "Reached_on_time        0\n",
       "dtype: int64"
      ]
     },
     "execution_count": 6,
     "metadata": {},
     "output_type": "execute_result"
    }
   ],
   "source": [
    "data.isnull().sum()"
   ]
  },
  {
   "cell_type": "code",
   "execution_count": 7,
   "id": "cb5b6c00",
   "metadata": {
    "scrolled": false
   },
   "outputs": [
    {
     "data": {
      "text/plain": [
       "ID                     0\n",
       "Warehouse_block        0\n",
       "Mode_of_Shipment       0\n",
       "Customer_care_calls    0\n",
       "Customer_rating        0\n",
       "Cost_of_the_Product    0\n",
       "Prior_purchases        0\n",
       "Product_importance     0\n",
       "Gender                 0\n",
       "Discount_offered       0\n",
       "Weight_in_gms          0\n",
       "Reached_on_time        0\n",
       "dtype: int64"
      ]
     },
     "execution_count": 7,
     "metadata": {},
     "output_type": "execute_result"
    }
   ],
   "source": [
    "data.isna().sum()"
   ]
  },
  {
   "cell_type": "markdown",
   "id": "ac8a4488",
   "metadata": {},
   "source": [
    "### Detecting & Handling Outliers"
   ]
  },
  {
   "cell_type": "code",
   "execution_count": 8,
   "id": "cfa6f76e",
   "metadata": {
    "scrolled": true
   },
   "outputs": [
    {
     "data": {
      "text/plain": [
       "Index(['ID', 'Customer_care_calls', 'Customer_rating', 'Cost_of_the_Product',\n",
       "       'Prior_purchases', 'Discount_offered', 'Weight_in_gms',\n",
       "       'Reached_on_time'],\n",
       "      dtype='object')"
      ]
     },
     "execution_count": 8,
     "metadata": {},
     "output_type": "execute_result"
    }
   ],
   "source": [
    "check_outlier = data.select_dtypes('int64')\n",
    "check_outlier.columns"
   ]
  },
  {
   "cell_type": "code",
   "execution_count": 9,
   "id": "3cd6799f",
   "metadata": {},
   "outputs": [],
   "source": [
    "# Make function to detect outlier using upper bound and lower bound\n",
    "def outlier(sample):\n",
    "    Q1=sample.quantile(0.25)\n",
    "    Q3=sample.quantile(0.75)\n",
    "    IQR=Q3-Q1\n",
    "    lower_range = Q1 -(1.5 * IQR)\n",
    "    upper_range = Q3 +(1.5 * IQR)\n",
    "    \n",
    "    number_outlier=len(sample[sample>upper_range])+len(sample[sample<lower_range])\n",
    "    print(\"- Number of Outlier From Variable {} : {}\".format(sample.name, number_outlier))\n",
    "    \n",
    "#     if number_outlier>0:\n",
    "#         print(\"  Outlier observation row:\")\n",
    "#     else:\n",
    "#         pass\n",
    "#     out_list = []\n",
    "    \n",
    "#     for i in range(len(sample)):\n",
    "#         if sample[i]<lower_range: \n",
    "#             out_list.append(i)\n",
    "#         elif sample[i]>upper_range:\n",
    "#             out_list.append(i) \n",
    "#         else:\n",
    "#             pass\n",
    "#     if out_list != []:\n",
    "#         print(' ', out_list)"
   ]
  },
  {
   "cell_type": "code",
   "execution_count": 10,
   "id": "23b50ee6",
   "metadata": {},
   "outputs": [
    {
     "name": "stdout",
     "output_type": "stream",
     "text": [
      "- Number of Outlier From Variable ID : 0\n",
      "- Number of Outlier From Variable Customer_care_calls : 0\n",
      "- Number of Outlier From Variable Customer_rating : 0\n",
      "- Number of Outlier From Variable Cost_of_the_Product : 0\n",
      "- Number of Outlier From Variable Prior_purchases : 1003\n",
      "- Number of Outlier From Variable Discount_offered : 2209\n",
      "- Number of Outlier From Variable Weight_in_gms : 0\n",
      "- Number of Outlier From Variable Reached_on_time : 0\n"
     ]
    }
   ],
   "source": [
    "for column in check_outlier.columns:\n",
    "    outlier(data[column])"
   ]
  },
  {
   "cell_type": "code",
   "execution_count": 11,
   "id": "2aace478",
   "metadata": {
    "collapsed": true
   },
   "outputs": [
    {
     "data": {
      "text/plain": [
       "<AxesSubplot:xlabel='Discount_offered'>"
      ]
     },
     "execution_count": 11,
     "metadata": {},
     "output_type": "execute_result"
    },
    {
     "data": {
      "image/png": "[encoded data removed]",
      "text/plain": [
       "<Figure size 576x396 with 1 Axes>"
      ]
     },
     "metadata": {},
     "output_type": "display_data"
    }
   ],
   "source": [
    "sns.boxplot(data['Discount_offered'])"
   ]
  },
  {
   "cell_type": "code",
   "execution_count": 12,
   "id": "211deec2",
   "metadata": {},
   "outputs": [
    {
     "data": {
      "text/plain": [
       "65"
      ]
     },
     "execution_count": 12,
     "metadata": {},
     "output_type": "execute_result"
    }
   ],
   "source": [
    "data['Discount_offered'].nunique()"
   ]
  },
  {
   "cell_type": "code",
   "execution_count": 13,
   "id": "6b833ebf",
   "metadata": {
    "scrolled": false
   },
   "outputs": [
    {
     "data": {
      "text/plain": [
       "<AxesSubplot:xlabel='Prior_purchases'>"
      ]
     },
     "execution_count": 13,
     "metadata": {},
     "output_type": "execute_result"
    },
    {
     "data": {
      "image/png": "[encoded data removed]",
      "text/plain": [
       "<Figure size 576x396 with 1 Axes>"
      ]
     },
     "metadata": {},
     "output_type": "display_data"
    }
   ],
   "source": [
    "sns.boxplot(data['Prior_purchases'])"
   ]
  },
  {
   "cell_type": "code",
   "execution_count": 14,
   "id": "a63009da",
   "metadata": {},
   "outputs": [
    {
     "data": {
      "text/plain": [
       "8"
      ]
     },
     "execution_count": 14,
     "metadata": {},
     "output_type": "execute_result"
    }
   ],
   "source": [
    "data['Prior_purchases'].nunique()"
   ]
  },
  {
   "cell_type": "markdown",
   "id": "97ac50d2",
   "metadata": {},
   "source": [
    "### Detecting & Handling Duplicates Values"
   ]
  },
  {
   "cell_type": "code",
   "execution_count": 15,
   "id": "58780d3f",
   "metadata": {
    "scrolled": true
   },
   "outputs": [
    {
     "data": {
      "text/plain": [
       "False"
      ]
     },
     "execution_count": 15,
     "metadata": {},
     "output_type": "execute_result"
    }
   ],
   "source": [
    "data.duplicated().any()"
   ]
  },
  {
   "cell_type": "markdown",
   "id": "0e01ea29",
   "metadata": {},
   "source": [
    "### Detecting & Handling Imbalance Data"
   ]
  },
  {
   "cell_type": "code",
   "execution_count": 16,
   "id": "36e516a3",
   "metadata": {
    "scrolled": true
   },
   "outputs": [
    {
     "data": {
      "text/plain": [
       "1    6563\n",
       "0    4436\n",
       "Name: Reached_on_time, dtype: int64"
      ]
     },
     "execution_count": 16,
     "metadata": {},
     "output_type": "execute_result"
    }
   ],
   "source": [
    "data['Reached_on_time'].value_counts()"
   ]
  },
  {
   "cell_type": "code",
   "execution_count": 17,
   "id": "29e37d64",
   "metadata": {},
   "outputs": [
    {
     "data": {
      "text/plain": [
       "<AxesSubplot:>"
      ]
     },
     "execution_count": 17,
     "metadata": {},
     "output_type": "execute_result"
    },
    {
     "data": {
      "image/png": "[encoded data removed]",
      "text/plain": [
       "<Figure size 576x396 with 1 Axes>"
      ]
     },
     "metadata": {},
     "output_type": "display_data"
    }
   ],
   "source": [
    "data['Reached_on_time'].value_counts().plot(kind='bar')"
   ]
  },
  {
   "cell_type": "markdown",
   "id": "66006ad6",
   "metadata": {},
   "source": [
    "## Exploratory Data Analysis (EDA)"
   ]
  },
  {
   "cell_type": "code",
   "execution_count": 18,
   "id": "cc57b31e",
   "metadata": {
    "scrolled": false
   },
   "outputs": [
    {
     "name": "stdout",
     "output_type": "stream",
     "text": [
      "<class 'pandas.core.frame.DataFrame'>\n",
      "RangeIndex: 10999 entries, 0 to 10998\n",
      "Data columns (total 12 columns):\n",
      " #   Column               Non-Null Count  Dtype \n",
      "---  ------               --------------  ----- \n",
      " 0   ID                   10999 non-null  int64 \n",
      " 1   Warehouse_block      10999 non-null  object\n",
      " 2   Mode_of_Shipment     10999 non-null  object\n",
      " 3   Customer_care_calls  10999 non-null  int64 \n",
      " 4   Customer_rating      10999 non-null  int64 \n",
      " 5   Cost_of_the_Product  10999 non-null  int64 \n",
      " 6   Prior_purchases      10999 non-null  int64 \n",
      " 7   Product_importance   10999 non-null  object\n",
      " 8   Gender               10999 non-null  object\n",
      " 9   Discount_offered     10999 non-null  int64 \n",
      " 10  Weight_in_gms        10999 non-null  int64 \n",
      " 11  Reached_on_time      10999 non-null  int64 \n",
      "dtypes: int64(8), object(4)\n",
      "memory usage: 1.0+ MB\n"
     ]
    }
   ],
   "source": [
    "data.info()"
   ]
  },
  {
   "cell_type": "code",
   "execution_count": 19,
   "id": "0e511ec7",
   "metadata": {
    "scrolled": true
   },
   "outputs": [
    {
     "data": {
      "text/html": [
       "<div>\n",
       "<style scoped>\n",
       "    .dataframe tbody tr th:only-of-type {\n",
       "        vertical-align: middle;\n",
       "    }\n",
       "\n",
       "    .dataframe tbody tr th {\n",
       "        vertical-align: top;\n",
       "    }\n",
       "\n",
       "    .dataframe thead th {\n",
       "        text-align: right;\n",
       "    }\n",
       "</style>\n",
       "<table border=\"1\" class=\"dataframe\">\n",
       "  <thead>\n",
       "    <tr style=\"text-align: right;\">\n",
       "      <th></th>\n",
       "      <th>ID</th>\n",
       "      <th>Customer_care_calls</th>\n",
       "      <th>Customer_rating</th>\n",
       "      <th>Cost_of_the_Product</th>\n",
       "      <th>Prior_purchases</th>\n",
       "      <th>Discount_offered</th>\n",
       "      <th>Weight_in_gms</th>\n",
       "      <th>Reached_on_time</th>\n",
       "    </tr>\n",
       "  </thead>\n",
       "  <tbody>\n",
       "    <tr>\n",
       "      <th>count</th>\n",
       "      <td>10999.00000</td>\n",
       "      <td>10999.000000</td>\n",
       "      <td>10999.000000</td>\n",
       "      <td>10999.000000</td>\n",
       "      <td>10999.000000</td>\n",
       "      <td>10999.000000</td>\n",
       "      <td>10999.000000</td>\n",
       "      <td>10999.000000</td>\n",
       "    </tr>\n",
       "    <tr>\n",
       "      <th>mean</th>\n",
       "      <td>5500.00000</td>\n",
       "      <td>4.054459</td>\n",
       "      <td>2.990545</td>\n",
       "      <td>210.196836</td>\n",
       "      <td>3.567597</td>\n",
       "      <td>13.373216</td>\n",
       "      <td>3634.016729</td>\n",
       "      <td>0.596691</td>\n",
       "    </tr>\n",
       "    <tr>\n",
       "      <th>std</th>\n",
       "      <td>3175.28214</td>\n",
       "      <td>1.141490</td>\n",
       "      <td>1.413603</td>\n",
       "      <td>48.063272</td>\n",
       "      <td>1.522860</td>\n",
       "      <td>16.205527</td>\n",
       "      <td>1635.377251</td>\n",
       "      <td>0.490584</td>\n",
       "    </tr>\n",
       "    <tr>\n",
       "      <th>min</th>\n",
       "      <td>1.00000</td>\n",
       "      <td>2.000000</td>\n",
       "      <td>1.000000</td>\n",
       "      <td>96.000000</td>\n",
       "      <td>2.000000</td>\n",
       "      <td>1.000000</td>\n",
       "      <td>1001.000000</td>\n",
       "      <td>0.000000</td>\n",
       "    </tr>\n",
       "    <tr>\n",
       "      <th>25%</th>\n",
       "      <td>2750.50000</td>\n",
       "      <td>3.000000</td>\n",
       "      <td>2.000000</td>\n",
       "      <td>169.000000</td>\n",
       "      <td>3.000000</td>\n",
       "      <td>4.000000</td>\n",
       "      <td>1839.500000</td>\n",
       "      <td>0.000000</td>\n",
       "    </tr>\n",
       "    <tr>\n",
       "      <th>50%</th>\n",
       "      <td>5500.00000</td>\n",
       "      <td>4.000000</td>\n",
       "      <td>3.000000</td>\n",
       "      <td>214.000000</td>\n",
       "      <td>3.000000</td>\n",
       "      <td>7.000000</td>\n",
       "      <td>4149.000000</td>\n",
       "      <td>1.000000</td>\n",
       "    </tr>\n",
       "    <tr>\n",
       "      <th>75%</th>\n",
       "      <td>8249.50000</td>\n",
       "      <td>5.000000</td>\n",
       "      <td>4.000000</td>\n",
       "      <td>251.000000</td>\n",
       "      <td>4.000000</td>\n",
       "      <td>10.000000</td>\n",
       "      <td>5050.000000</td>\n",
       "      <td>1.000000</td>\n",
       "    </tr>\n",
       "    <tr>\n",
       "      <th>max</th>\n",
       "      <td>10999.00000</td>\n",
       "      <td>7.000000</td>\n",
       "      <td>5.000000</td>\n",
       "      <td>310.000000</td>\n",
       "      <td>10.000000</td>\n",
       "      <td>65.000000</td>\n",
       "      <td>7846.000000</td>\n",
       "      <td>1.000000</td>\n",
       "    </tr>\n",
       "  </tbody>\n",
       "</table>\n",
       "</div>"
      ],
      "text/plain": [
       "                ID  Customer_care_calls  Customer_rating  Cost_of_the_Product  \\\n",
       "count  10999.00000         10999.000000     10999.000000         10999.000000   \n",
       "mean    5500.00000             4.054459         2.990545           210.196836   \n",
       "std     3175.28214             1.141490         1.413603            48.063272   \n",
       "min        1.00000             2.000000         1.000000            96.000000   \n",
       "25%     2750.50000             3.000000         2.000000           169.000000   \n",
       "50%     5500.00000             4.000000         3.000000           214.000000   \n",
       "75%     8249.50000             5.000000         4.000000           251.000000   \n",
       "max    10999.00000             7.000000         5.000000           310.000000   \n",
       "\n",
       "       Prior_purchases  Discount_offered  Weight_in_gms  Reached_on_time  \n",
       "count     10999.000000      10999.000000   10999.000000     10999.000000  \n",
       "mean          3.567597         13.373216    3634.016729         0.596691  \n",
       "std           1.522860         16.205527    1635.377251         0.490584  \n",
       "min           2.000000          1.000000    1001.000000         0.000000  \n",
       "25%           3.000000          4.000000    1839.500000         0.000000  \n",
       "50%           3.000000          7.000000    4149.000000         1.000000  \n",
       "75%           4.000000         10.000000    5050.000000         1.000000  \n",
       "max          10.000000         65.000000    7846.000000         1.000000  "
      ]
     },
     "execution_count": 19,
     "metadata": {},
     "output_type": "execute_result"
    }
   ],
   "source": [
    "data.describe()"
   ]
  },
  {
   "cell_type": "code",
   "execution_count": 20,
   "id": "751888fd",
   "metadata": {
    "scrolled": true
   },
   "outputs": [
    {
     "data": {
      "text/html": [
       "<div>\n",
       "<style scoped>\n",
       "    .dataframe tbody tr th:only-of-type {\n",
       "        vertical-align: middle;\n",
       "    }\n",
       "\n",
       "    .dataframe tbody tr th {\n",
       "        vertical-align: top;\n",
       "    }\n",
       "\n",
       "    .dataframe thead th {\n",
       "        text-align: right;\n",
       "    }\n",
       "</style>\n",
       "<table border=\"1\" class=\"dataframe\">\n",
       "  <thead>\n",
       "    <tr style=\"text-align: right;\">\n",
       "      <th></th>\n",
       "      <th>ID</th>\n",
       "      <th>Warehouse_block</th>\n",
       "      <th>Mode_of_Shipment</th>\n",
       "      <th>Customer_care_calls</th>\n",
       "      <th>Customer_rating</th>\n",
       "      <th>Cost_of_the_Product</th>\n",
       "      <th>Prior_purchases</th>\n",
       "      <th>Product_importance</th>\n",
       "      <th>Gender</th>\n",
       "      <th>Discount_offered</th>\n",
       "      <th>Weight_in_gms</th>\n",
       "      <th>Reached_on_time</th>\n",
       "    </tr>\n",
       "  </thead>\n",
       "  <tbody>\n",
       "    <tr>\n",
       "      <th>0</th>\n",
       "      <td>1</td>\n",
       "      <td>D</td>\n",
       "      <td>Flight</td>\n",
       "      <td>4</td>\n",
       "      <td>2</td>\n",
       "      <td>177</td>\n",
       "      <td>3</td>\n",
       "      <td>low</td>\n",
       "      <td>F</td>\n",
       "      <td>44</td>\n",
       "      <td>1233</td>\n",
       "      <td>1</td>\n",
       "    </tr>\n",
       "    <tr>\n",
       "      <th>1</th>\n",
       "      <td>2</td>\n",
       "      <td>F</td>\n",
       "      <td>Flight</td>\n",
       "      <td>4</td>\n",
       "      <td>5</td>\n",
       "      <td>216</td>\n",
       "      <td>2</td>\n",
       "      <td>low</td>\n",
       "      <td>M</td>\n",
       "      <td>59</td>\n",
       "      <td>3088</td>\n",
       "      <td>1</td>\n",
       "    </tr>\n",
       "    <tr>\n",
       "      <th>2</th>\n",
       "      <td>3</td>\n",
       "      <td>A</td>\n",
       "      <td>Flight</td>\n",
       "      <td>2</td>\n",
       "      <td>2</td>\n",
       "      <td>183</td>\n",
       "      <td>4</td>\n",
       "      <td>low</td>\n",
       "      <td>M</td>\n",
       "      <td>48</td>\n",
       "      <td>3374</td>\n",
       "      <td>1</td>\n",
       "    </tr>\n",
       "    <tr>\n",
       "      <th>3</th>\n",
       "      <td>4</td>\n",
       "      <td>B</td>\n",
       "      <td>Flight</td>\n",
       "      <td>3</td>\n",
       "      <td>3</td>\n",
       "      <td>176</td>\n",
       "      <td>4</td>\n",
       "      <td>medium</td>\n",
       "      <td>M</td>\n",
       "      <td>10</td>\n",
       "      <td>1177</td>\n",
       "      <td>1</td>\n",
       "    </tr>\n",
       "    <tr>\n",
       "      <th>4</th>\n",
       "      <td>5</td>\n",
       "      <td>C</td>\n",
       "      <td>Flight</td>\n",
       "      <td>2</td>\n",
       "      <td>2</td>\n",
       "      <td>184</td>\n",
       "      <td>3</td>\n",
       "      <td>medium</td>\n",
       "      <td>F</td>\n",
       "      <td>46</td>\n",
       "      <td>2484</td>\n",
       "      <td>1</td>\n",
       "    </tr>\n",
       "  </tbody>\n",
       "</table>\n",
       "</div>"
      ],
      "text/plain": [
       "   ID Warehouse_block Mode_of_Shipment  Customer_care_calls  Customer_rating  \\\n",
       "0   1               D           Flight                    4                2   \n",
       "1   2               F           Flight                    4                5   \n",
       "2   3               A           Flight                    2                2   \n",
       "3   4               B           Flight                    3                3   \n",
       "4   5               C           Flight                    2                2   \n",
       "\n",
       "   Cost_of_the_Product  Prior_purchases Product_importance Gender  \\\n",
       "0                  177                3                low      F   \n",
       "1                  216                2                low      M   \n",
       "2                  183                4                low      M   \n",
       "3                  176                4             medium      M   \n",
       "4                  184                3             medium      F   \n",
       "\n",
       "   Discount_offered  Weight_in_gms  Reached_on_time  \n",
       "0                44           1233                1  \n",
       "1                59           3088                1  \n",
       "2                48           3374                1  \n",
       "3                10           1177                1  \n",
       "4                46           2484                1  "
      ]
     },
     "execution_count": 20,
     "metadata": {},
     "output_type": "execute_result"
    }
   ],
   "source": [
    "data.head()"
   ]
  },
  {
   "cell_type": "code",
   "execution_count": 21,
   "id": "c76eb610",
   "metadata": {},
   "outputs": [
    {
     "data": {
      "text/plain": [
       "(10999, 12)"
      ]
     },
     "execution_count": 21,
     "metadata": {},
     "output_type": "execute_result"
    }
   ],
   "source": [
    "data.shape"
   ]
  },
  {
   "cell_type": "code",
   "execution_count": 22,
   "id": "e15b5c2a",
   "metadata": {
    "scrolled": true
   },
   "outputs": [
    {
     "data": {
      "text/plain": [
       "1    6563\n",
       "0    4436\n",
       "Name: Reached_on_time, dtype: int64"
      ]
     },
     "execution_count": 22,
     "metadata": {},
     "output_type": "execute_result"
    }
   ],
   "source": [
    "data['Reached_on_time'].value_counts()"
   ]
  },
  {
   "cell_type": "code",
   "execution_count": 23,
   "id": "9d805f3e",
   "metadata": {
    "scrolled": true
   },
   "outputs": [
    {
     "name": "stdout",
     "output_type": "stream",
     "text": [
      "Count unique data of ID : 10999\n",
      "Count unique data of Warehouse_block : 5\n",
      "Count unique data of Mode_of_Shipment : 3\n",
      "Count unique data of Customer_care_calls : 6\n",
      "Count unique data of Customer_rating : 5\n",
      "Count unique data of Cost_of_the_Product : 215\n",
      "Count unique data of Prior_purchases : 8\n",
      "Count unique data of Product_importance : 3\n",
      "Count unique data of Gender : 2\n",
      "Count unique data of Discount_offered : 65\n",
      "Count unique data of Weight_in_gms : 4034\n",
      "Count unique data of Reached_on_time : 2\n"
     ]
    }
   ],
   "source": [
    "for column in data.columns:\n",
    "    print('Count unique data of {} : {}'.format(column,data[column].nunique()))"
   ]
  },
  {
   "cell_type": "code",
   "execution_count": 24,
   "id": "bcffbed5",
   "metadata": {},
   "outputs": [
    {
     "name": "stdout",
     "output_type": "stream",
     "text": [
      "numerical :  ['ID', 'Cost_of_the_Product', 'Discount_offered', 'Weight_in_gms']\n",
      "\n",
      "categorical:  ['Warehouse_block', 'Mode_of_Shipment', 'Customer_care_calls', 'Customer_rating', 'Prior_purchases', 'Product_importance', 'Gender', 'Reached_on_time']\n"
     ]
    }
   ],
   "source": [
    "numerical = []\n",
    "categorical = []\n",
    "\n",
    "for column in data.columns:\n",
    "    if data[column].nunique() > 10:\n",
    "        numerical.append(column)\n",
    "    else:\n",
    "        categorical.append(column)\n",
    "\n",
    "print('numerical : ', numerical)\n",
    "print()\n",
    "print('categorical: ', categorical)\n"
   ]
  },
  {
   "cell_type": "code",
   "execution_count": 25,
   "id": "c194fafc",
   "metadata": {},
   "outputs": [
    {
     "data": {
      "text/plain": [
       "<matplotlib.legend.Legend at 0x16756b0dca0>"
      ]
     },
     "execution_count": 25,
     "metadata": {},
     "output_type": "execute_result"
    },
    {
     "data": {
      "image/png": "[encoded data removed]",
      "text/plain": [
       "<Figure size 1080x504 with 1 Axes>"
      ]
     },
     "metadata": {},
     "output_type": "display_data"
    }
   ],
   "source": [
    "plt.figure(figsize=(15,7))\n",
    "sns.distplot(data.Cost_of_the_Product[data['Reached_on_time'] == 1],color='r',label='late')\n",
    "sns.distplot(data.Cost_of_the_Product[data['Reached_on_time'] == 0],color='b', label='on time')\n",
    "plt.legend()"
   ]
  },
  {
   "cell_type": "code",
   "execution_count": 26,
   "id": "ba981078",
   "metadata": {},
   "outputs": [
    {
     "data": {
      "text/plain": [
       "<matplotlib.legend.Legend at 0x16757097f40>"
      ]
     },
     "execution_count": 26,
     "metadata": {},
     "output_type": "execute_result"
    },
    {
     "data": {
      "image/png": "[encoded data removed]",
      "text/plain": [
       "<Figure size 1080x504 with 1 Axes>"
      ]
     },
     "metadata": {},
     "output_type": "display_data"
    }
   ],
   "source": [
    "plt.figure(figsize=(15,7))\n",
    "sns.distplot(data.Discount_offered[data['Reached_on_time'] == 1],color='r',label='late')\n",
    "sns.distplot(data.Discount_offered[data['Reached_on_time'] == 0],color='b', label='on time')\n",
    "plt.legend()"
   ]
  },
  {
   "cell_type": "code",
   "execution_count": 27,
   "id": "977c7963",
   "metadata": {
    "scrolled": false
   },
   "outputs": [
    {
     "data": {
      "text/plain": [
       "<matplotlib.legend.Legend at 0x167570a3f10>"
      ]
     },
     "execution_count": 27,
     "metadata": {},
     "output_type": "execute_result"
    },
    {
     "data": {
      "image/png": "[encoded data removed]",
      "text/plain": [
       "<Figure size 1080x504 with 1 Axes>"
      ]
     },
     "metadata": {},
     "output_type": "display_data"
    }
   ],
   "source": [
    "plt.figure(figsize=(15,7))\n",
    "sns.distplot(data.Weight_in_gms[data['Reached_on_time'] == 1],color='r',label='late')\n",
    "sns.distplot(data.Weight_in_gms[data['Reached_on_time'] == 0],color='b', label='on time')\n",
    "plt.legend()"
   ]
  },
  {
   "cell_type": "code",
   "execution_count": 28,
   "id": "9d2e51a8",
   "metadata": {},
   "outputs": [],
   "source": [
    "# cek berat produk 2000 - 4000"
   ]
  },
  {
   "cell_type": "code",
   "execution_count": 29,
   "id": "db3dc036",
   "metadata": {
    "scrolled": false
   },
   "outputs": [
    {
     "data": {
      "image/png": "[encoded data removed]",
      "text/plain": [
       "<Figure size 1080x1800 with 9 Axes>"
      ]
     },
     "metadata": {},
     "output_type": "display_data"
    }
   ],
   "source": [
    "fig, ax = plt.subplots(3,3,figsize=(15,25))\n",
    "\n",
    "for var, ax in zip(categorical,ax.flatten()):\n",
    "    sns.countplot(var, data=data, hue='Reached_on_time', ax=ax)"
   ]
  },
  {
   "cell_type": "code",
   "execution_count": 30,
   "id": "7befa4dc",
   "metadata": {
    "scrolled": false
   },
   "outputs": [
    {
     "data": {
      "text/html": [
       "<div>\n",
       "<style scoped>\n",
       "    .dataframe tbody tr th:only-of-type {\n",
       "        vertical-align: middle;\n",
       "    }\n",
       "\n",
       "    .dataframe tbody tr th {\n",
       "        vertical-align: top;\n",
       "    }\n",
       "\n",
       "    .dataframe thead th {\n",
       "        text-align: right;\n",
       "    }\n",
       "</style>\n",
       "<table border=\"1\" class=\"dataframe\">\n",
       "  <thead>\n",
       "    <tr style=\"text-align: right;\">\n",
       "      <th></th>\n",
       "      <th>ID</th>\n",
       "      <th>Customer_care_calls</th>\n",
       "      <th>Customer_rating</th>\n",
       "      <th>Cost_of_the_Product</th>\n",
       "      <th>Prior_purchases</th>\n",
       "      <th>Discount_offered</th>\n",
       "      <th>Weight_in_gms</th>\n",
       "      <th>Reached_on_time</th>\n",
       "    </tr>\n",
       "  </thead>\n",
       "  <tbody>\n",
       "    <tr>\n",
       "      <th>ID</th>\n",
       "      <td>1.000000</td>\n",
       "      <td>0.188998</td>\n",
       "      <td>-0.005722</td>\n",
       "      <td>0.196791</td>\n",
       "      <td>0.145369</td>\n",
       "      <td>-0.598278</td>\n",
       "      <td>0.278312</td>\n",
       "      <td>-0.411822</td>\n",
       "    </tr>\n",
       "    <tr>\n",
       "      <th>Customer_care_calls</th>\n",
       "      <td>0.188998</td>\n",
       "      <td>1.000000</td>\n",
       "      <td>0.012209</td>\n",
       "      <td>0.323182</td>\n",
       "      <td>0.180771</td>\n",
       "      <td>-0.130750</td>\n",
       "      <td>-0.276615</td>\n",
       "      <td>-0.067126</td>\n",
       "    </tr>\n",
       "    <tr>\n",
       "      <th>Customer_rating</th>\n",
       "      <td>-0.005722</td>\n",
       "      <td>0.012209</td>\n",
       "      <td>1.000000</td>\n",
       "      <td>0.009270</td>\n",
       "      <td>0.013179</td>\n",
       "      <td>-0.003124</td>\n",
       "      <td>-0.001897</td>\n",
       "      <td>0.013119</td>\n",
       "    </tr>\n",
       "    <tr>\n",
       "      <th>Cost_of_the_Product</th>\n",
       "      <td>0.196791</td>\n",
       "      <td>0.323182</td>\n",
       "      <td>0.009270</td>\n",
       "      <td>1.000000</td>\n",
       "      <td>0.123676</td>\n",
       "      <td>-0.138312</td>\n",
       "      <td>-0.132604</td>\n",
       "      <td>-0.073587</td>\n",
       "    </tr>\n",
       "    <tr>\n",
       "      <th>Prior_purchases</th>\n",
       "      <td>0.145369</td>\n",
       "      <td>0.180771</td>\n",
       "      <td>0.013179</td>\n",
       "      <td>0.123676</td>\n",
       "      <td>1.000000</td>\n",
       "      <td>-0.082769</td>\n",
       "      <td>-0.168213</td>\n",
       "      <td>-0.055515</td>\n",
       "    </tr>\n",
       "    <tr>\n",
       "      <th>Discount_offered</th>\n",
       "      <td>-0.598278</td>\n",
       "      <td>-0.130750</td>\n",
       "      <td>-0.003124</td>\n",
       "      <td>-0.138312</td>\n",
       "      <td>-0.082769</td>\n",
       "      <td>1.000000</td>\n",
       "      <td>-0.376067</td>\n",
       "      <td>0.397108</td>\n",
       "    </tr>\n",
       "    <tr>\n",
       "      <th>Weight_in_gms</th>\n",
       "      <td>0.278312</td>\n",
       "      <td>-0.276615</td>\n",
       "      <td>-0.001897</td>\n",
       "      <td>-0.132604</td>\n",
       "      <td>-0.168213</td>\n",
       "      <td>-0.376067</td>\n",
       "      <td>1.000000</td>\n",
       "      <td>-0.268793</td>\n",
       "    </tr>\n",
       "    <tr>\n",
       "      <th>Reached_on_time</th>\n",
       "      <td>-0.411822</td>\n",
       "      <td>-0.067126</td>\n",
       "      <td>0.013119</td>\n",
       "      <td>-0.073587</td>\n",
       "      <td>-0.055515</td>\n",
       "      <td>0.397108</td>\n",
       "      <td>-0.268793</td>\n",
       "      <td>1.000000</td>\n",
       "    </tr>\n",
       "  </tbody>\n",
       "</table>\n",
       "</div>"
      ],
      "text/plain": [
       "                           ID  Customer_care_calls  Customer_rating  \\\n",
       "ID                   1.000000             0.188998        -0.005722   \n",
       "Customer_care_calls  0.188998             1.000000         0.012209   \n",
       "Customer_rating     -0.005722             0.012209         1.000000   \n",
       "Cost_of_the_Product  0.196791             0.323182         0.009270   \n",
       "Prior_purchases      0.145369             0.180771         0.013179   \n",
       "Discount_offered    -0.598278            -0.130750        -0.003124   \n",
       "Weight_in_gms        0.278312            -0.276615        -0.001897   \n",
       "Reached_on_time     -0.411822            -0.067126         0.013119   \n",
       "\n",
       "                     Cost_of_the_Product  Prior_purchases  Discount_offered  \\\n",
       "ID                              0.196791         0.145369         -0.598278   \n",
       "Customer_care_calls             0.323182         0.180771         -0.130750   \n",
       "Customer_rating                 0.009270         0.013179         -0.003124   \n",
       "Cost_of_the_Product             1.000000         0.123676         -0.138312   \n",
       "Prior_purchases                 0.123676         1.000000         -0.082769   \n",
       "Discount_offered               -0.138312        -0.082769          1.000000   \n",
       "Weight_in_gms                  -0.132604        -0.168213         -0.376067   \n",
       "Reached_on_time                -0.073587        -0.055515          0.397108   \n",
       "\n",
       "                     Weight_in_gms  Reached_on_time  \n",
       "ID                        0.278312        -0.411822  \n",
       "Customer_care_calls      -0.276615        -0.067126  \n",
       "Customer_rating          -0.001897         0.013119  \n",
       "Cost_of_the_Product      -0.132604        -0.073587  \n",
       "Prior_purchases          -0.168213        -0.055515  \n",
       "Discount_offered         -0.376067         0.397108  \n",
       "Weight_in_gms             1.000000        -0.268793  \n",
       "Reached_on_time          -0.268793         1.000000  "
      ]
     },
     "execution_count": 30,
     "metadata": {},
     "output_type": "execute_result"
    }
   ],
   "source": [
    "data.corr()"
   ]
  },
  {
   "cell_type": "code",
   "execution_count": 31,
   "id": "1ccc90e8",
   "metadata": {
    "scrolled": false
   },
   "outputs": [
    {
     "data": {
      "text/plain": [
       "<AxesSubplot:>"
      ]
     },
     "execution_count": 31,
     "metadata": {},
     "output_type": "execute_result"
    },
    {
     "data": {
      "image/png": "[encoded data removed]",
      "text/plain": [
       "<Figure size 288x864 with 2 Axes>"
      ]
     },
     "metadata": {},
     "output_type": "display_data"
    }
   ],
   "source": [
    "plt.figure(figsize=(4,12))\n",
    "sns.heatmap(data.corr()[['Reached_on_time']], annot=True)"
   ]
  },
  {
   "cell_type": "markdown",
   "id": "9b2d03ce",
   "metadata": {},
   "source": [
    "# Data Preparation"
   ]
  },
  {
   "cell_type": "code",
   "execution_count": 32,
   "id": "229d65a4",
   "metadata": {},
   "outputs": [],
   "source": [
    "data = data.drop(columns=['ID'])"
   ]
  },
  {
   "cell_type": "markdown",
   "id": "43e3d372",
   "metadata": {},
   "source": [
    "### Encoding"
   ]
  },
  {
   "cell_type": "code",
   "execution_count": 33,
   "id": "9d56d899",
   "metadata": {},
   "outputs": [],
   "source": [
    "encode_columns = list(data.select_dtypes('object').columns)\n",
    "encode_le = []\n",
    "encode_ohe = []"
   ]
  },
  {
   "cell_type": "code",
   "execution_count": 34,
   "id": "79b73ae7",
   "metadata": {},
   "outputs": [],
   "source": [
    "for column in encode_columns:\n",
    "    if data[column].nunique() > 2:\n",
    "        encode_ohe.append(column)\n",
    "    else:\n",
    "        encode_le.append(column)"
   ]
  },
  {
   "cell_type": "code",
   "execution_count": 35,
   "id": "897ad245",
   "metadata": {
    "scrolled": true
   },
   "outputs": [
    {
     "name": "stdout",
     "output_type": "stream",
     "text": [
      "['Gender']\n",
      "['Warehouse_block', 'Mode_of_Shipment', 'Product_importance']\n"
     ]
    }
   ],
   "source": [
    "print(encode_le)\n",
    "print(encode_ohe)"
   ]
  },
  {
   "cell_type": "code",
   "execution_count": 36,
   "id": "dac61862",
   "metadata": {},
   "outputs": [],
   "source": [
    "from sklearn.preprocessing import LabelEncoder\n",
    "\n",
    "le = LabelEncoder()\n",
    "\n",
    "for column in encode_le:\n",
    "    data[column] = le.fit_transform(data[column])"
   ]
  },
  {
   "cell_type": "code",
   "execution_count": 37,
   "id": "272532b2",
   "metadata": {},
   "outputs": [],
   "source": [
    "data = pd.get_dummies(data, columns=encode_ohe)"
   ]
  },
  {
   "cell_type": "code",
   "execution_count": 38,
   "id": "0e9766b1",
   "metadata": {},
   "outputs": [
    {
     "data": {
      "text/html": [
       "<div>\n",
       "<style scoped>\n",
       "    .dataframe tbody tr th:only-of-type {\n",
       "        vertical-align: middle;\n",
       "    }\n",
       "\n",
       "    .dataframe tbody tr th {\n",
       "        vertical-align: top;\n",
       "    }\n",
       "\n",
       "    .dataframe thead th {\n",
       "        text-align: right;\n",
       "    }\n",
       "</style>\n",
       "<table border=\"1\" class=\"dataframe\">\n",
       "  <thead>\n",
       "    <tr style=\"text-align: right;\">\n",
       "      <th></th>\n",
       "      <th>Customer_care_calls</th>\n",
       "      <th>Customer_rating</th>\n",
       "      <th>Cost_of_the_Product</th>\n",
       "      <th>Prior_purchases</th>\n",
       "      <th>Gender</th>\n",
       "      <th>Discount_offered</th>\n",
       "      <th>Weight_in_gms</th>\n",
       "      <th>Reached_on_time</th>\n",
       "      <th>Warehouse_block_A</th>\n",
       "      <th>Warehouse_block_B</th>\n",
       "      <th>Warehouse_block_C</th>\n",
       "      <th>Warehouse_block_D</th>\n",
       "      <th>Warehouse_block_F</th>\n",
       "      <th>Mode_of_Shipment_Flight</th>\n",
       "      <th>Mode_of_Shipment_Road</th>\n",
       "      <th>Mode_of_Shipment_Ship</th>\n",
       "      <th>Product_importance_high</th>\n",
       "      <th>Product_importance_low</th>\n",
       "      <th>Product_importance_medium</th>\n",
       "    </tr>\n",
       "  </thead>\n",
       "  <tbody>\n",
       "    <tr>\n",
       "      <th>0</th>\n",
       "      <td>4</td>\n",
       "      <td>2</td>\n",
       "      <td>177</td>\n",
       "      <td>3</td>\n",
       "      <td>0</td>\n",
       "      <td>44</td>\n",
       "      <td>1233</td>\n",
       "      <td>1</td>\n",
       "      <td>0</td>\n",
       "      <td>0</td>\n",
       "      <td>0</td>\n",
       "      <td>1</td>\n",
       "      <td>0</td>\n",
       "      <td>1</td>\n",
       "      <td>0</td>\n",
       "      <td>0</td>\n",
       "      <td>0</td>\n",
       "      <td>1</td>\n",
       "      <td>0</td>\n",
       "    </tr>\n",
       "    <tr>\n",
       "      <th>1</th>\n",
       "      <td>4</td>\n",
       "      <td>5</td>\n",
       "      <td>216</td>\n",
       "      <td>2</td>\n",
       "      <td>1</td>\n",
       "      <td>59</td>\n",
       "      <td>3088</td>\n",
       "      <td>1</td>\n",
       "      <td>0</td>\n",
       "      <td>0</td>\n",
       "      <td>0</td>\n",
       "      <td>0</td>\n",
       "      <td>1</td>\n",
       "      <td>1</td>\n",
       "      <td>0</td>\n",
       "      <td>0</td>\n",
       "      <td>0</td>\n",
       "      <td>1</td>\n",
       "      <td>0</td>\n",
       "    </tr>\n",
       "    <tr>\n",
       "      <th>2</th>\n",
       "      <td>2</td>\n",
       "      <td>2</td>\n",
       "      <td>183</td>\n",
       "      <td>4</td>\n",
       "      <td>1</td>\n",
       "      <td>48</td>\n",
       "      <td>3374</td>\n",
       "      <td>1</td>\n",
       "      <td>1</td>\n",
       "      <td>0</td>\n",
       "      <td>0</td>\n",
       "      <td>0</td>\n",
       "      <td>0</td>\n",
       "      <td>1</td>\n",
       "      <td>0</td>\n",
       "      <td>0</td>\n",
       "      <td>0</td>\n",
       "      <td>1</td>\n",
       "      <td>0</td>\n",
       "    </tr>\n",
       "    <tr>\n",
       "      <th>3</th>\n",
       "      <td>3</td>\n",
       "      <td>3</td>\n",
       "      <td>176</td>\n",
       "      <td>4</td>\n",
       "      <td>1</td>\n",
       "      <td>10</td>\n",
       "      <td>1177</td>\n",
       "      <td>1</td>\n",
       "      <td>0</td>\n",
       "      <td>1</td>\n",
       "      <td>0</td>\n",
       "      <td>0</td>\n",
       "      <td>0</td>\n",
       "      <td>1</td>\n",
       "      <td>0</td>\n",
       "      <td>0</td>\n",
       "      <td>0</td>\n",
       "      <td>0</td>\n",
       "      <td>1</td>\n",
       "    </tr>\n",
       "    <tr>\n",
       "      <th>4</th>\n",
       "      <td>2</td>\n",
       "      <td>2</td>\n",
       "      <td>184</td>\n",
       "      <td>3</td>\n",
       "      <td>0</td>\n",
       "      <td>46</td>\n",
       "      <td>2484</td>\n",
       "      <td>1</td>\n",
       "      <td>0</td>\n",
       "      <td>0</td>\n",
       "      <td>1</td>\n",
       "      <td>0</td>\n",
       "      <td>0</td>\n",
       "      <td>1</td>\n",
       "      <td>0</td>\n",
       "      <td>0</td>\n",
       "      <td>0</td>\n",
       "      <td>0</td>\n",
       "      <td>1</td>\n",
       "    </tr>\n",
       "  </tbody>\n",
       "</table>\n",
       "</div>"
      ],
      "text/plain": [
       "   Customer_care_calls  Customer_rating  Cost_of_the_Product  Prior_purchases  \\\n",
       "0                    4                2                  177                3   \n",
       "1                    4                5                  216                2   \n",
       "2                    2                2                  183                4   \n",
       "3                    3                3                  176                4   \n",
       "4                    2                2                  184                3   \n",
       "\n",
       "   Gender  Discount_offered  Weight_in_gms  Reached_on_time  \\\n",
       "0       0                44           1233                1   \n",
       "1       1                59           3088                1   \n",
       "2       1                48           3374                1   \n",
       "3       1                10           1177                1   \n",
       "4       0                46           2484                1   \n",
       "\n",
       "   Warehouse_block_A  Warehouse_block_B  Warehouse_block_C  Warehouse_block_D  \\\n",
       "0                  0                  0                  0                  1   \n",
       "1                  0                  0                  0                  0   \n",
       "2                  1                  0                  0                  0   \n",
       "3                  0                  1                  0                  0   \n",
       "4                  0                  0                  1                  0   \n",
       "\n",
       "   Warehouse_block_F  Mode_of_Shipment_Flight  Mode_of_Shipment_Road  \\\n",
       "0                  0                        1                      0   \n",
       "1                  1                        1                      0   \n",
       "2                  0                        1                      0   \n",
       "3                  0                        1                      0   \n",
       "4                  0                        1                      0   \n",
       "\n",
       "   Mode_of_Shipment_Ship  Product_importance_high  Product_importance_low  \\\n",
       "0                      0                        0                       1   \n",
       "1                      0                        0                       1   \n",
       "2                      0                        0                       1   \n",
       "3                      0                        0                       0   \n",
       "4                      0                        0                       0   \n",
       "\n",
       "   Product_importance_medium  \n",
       "0                          0  \n",
       "1                          0  \n",
       "2                          0  \n",
       "3                          1  \n",
       "4                          1  "
      ]
     },
     "execution_count": 38,
     "metadata": {},
     "output_type": "execute_result"
    }
   ],
   "source": [
    "data.head()"
   ]
  },
  {
   "cell_type": "markdown",
   "id": "670e7f43",
   "metadata": {},
   "source": [
    "# Model & Evaluation"
   ]
  },
  {
   "cell_type": "code",
   "execution_count": 39,
   "id": "0dfc9893",
   "metadata": {},
   "outputs": [],
   "source": [
    "x = data.drop(['Reached_on_time'], axis=1) # features\n",
    "y = data['Reached_on_time'] # target"
   ]
  },
  {
   "cell_type": "code",
   "execution_count": 121,
   "id": "4545755e",
   "metadata": {},
   "outputs": [],
   "source": [
    "from sklearn.model_selection import train_test_split\n",
    "x_train, x_test, y_train, y_test = train_test_split(x,y, test_size=0.2, random_state=42)"
   ]
  },
  {
   "cell_type": "markdown",
   "id": "919fb37e",
   "metadata": {},
   "source": [
    "Model - Decision Tree"
   ]
  },
  {
   "cell_type": "code",
   "execution_count": 122,
   "id": "d6bd54ba",
   "metadata": {},
   "outputs": [
    {
     "data": {
      "text/plain": [
       "DecisionTreeClassifier(random_state=42)"
      ]
     },
     "execution_count": 122,
     "metadata": {},
     "output_type": "execute_result"
    }
   ],
   "source": [
    "# import model Decision Tree\n",
    "from sklearn.tree import DecisionTreeClassifier\n",
    "modelDT = DecisionTreeClassifier(criterion='gini', random_state=42)\n",
    "\n",
    "# modelling\n",
    "modelDT.fit(x_train, y_train)"
   ]
  },
  {
   "cell_type": "code",
   "execution_count": 123,
   "id": "9e80f662",
   "metadata": {},
   "outputs": [],
   "source": [
    "y_pred_dt = modelDT.predict(x_test)"
   ]
  },
  {
   "cell_type": "markdown",
   "id": "9b0028a7",
   "metadata": {},
   "source": [
    "Model - Random Forest"
   ]
  },
  {
   "cell_type": "code",
   "execution_count": 124,
   "id": "6be063e5",
   "metadata": {},
   "outputs": [],
   "source": [
    "from sklearn.ensemble import RandomForestClassifier"
   ]
  },
  {
   "cell_type": "code",
   "execution_count": 125,
   "id": "75a5a295",
   "metadata": {},
   "outputs": [
    {
     "data": {
      "text/plain": [
       "RandomForestClassifier(random_state=42)"
      ]
     },
     "execution_count": 125,
     "metadata": {},
     "output_type": "execute_result"
    }
   ],
   "source": [
    "modelRF = RandomForestClassifier(criterion='gini',random_state=42)\n",
    "\n",
    "#modelling\n",
    "modelRF.fit(x_train,y_train)"
   ]
  },
  {
   "cell_type": "code",
   "execution_count": 126,
   "id": "689de143",
   "metadata": {},
   "outputs": [],
   "source": [
    "y_pred_rf = modelRF.predict(x_test)"
   ]
  },
  {
   "cell_type": "markdown",
   "id": "2f4ccea6",
   "metadata": {},
   "source": [
    "Model - XGBoost"
   ]
  },
  {
   "cell_type": "code",
   "execution_count": 127,
   "id": "caec102e",
   "metadata": {},
   "outputs": [],
   "source": [
    "from xgboost import XGBClassifier"
   ]
  },
  {
   "cell_type": "code",
   "execution_count": 128,
   "id": "8ad386cd",
   "metadata": {},
   "outputs": [
    {
     "name": "stdout",
     "output_type": "stream",
     "text": [
      "[06:28:47] WARNING: D:\\bld\\xgboost-split_1645118015404\\work\\src\\learner.cc:1115: Starting in XGBoost 1.3.0, the default evaluation metric used with the objective 'binary:logistic' was changed from 'error' to 'logloss'. Explicitly set eval_metric if you'd like to restore the old behavior.\n"
     ]
    },
    {
     "data": {
      "text/plain": [
       "XGBClassifier(base_score=0.5, booster='gbtree', colsample_bylevel=1,\n",
       "              colsample_bynode=1, colsample_bytree=1, enable_categorical=False,\n",
       "              gamma=0, gpu_id=-1, importance_type=None,\n",
       "              interaction_constraints='', learning_rate=0.300000012,\n",
       "              max_delta_step=0, max_depth=6, min_child_weight=1, missing=nan,\n",
       "              monotone_constraints='()', n_estimators=100, n_jobs=4,\n",
       "              num_parallel_tree=1, predictor='auto', random_state=0,\n",
       "              reg_alpha=0, reg_lambda=1, scale_pos_weight=1, subsample=1,\n",
       "              tree_method='exact', validate_parameters=1, verbosity=None)"
      ]
     },
     "execution_count": 128,
     "metadata": {},
     "output_type": "execute_result"
    }
   ],
   "source": [
    "modelXGB = XGBClassifier()\n",
    "modelXGB.fit(x_train,y_train)"
   ]
  },
  {
   "cell_type": "code",
   "execution_count": 129,
   "id": "035aefa3",
   "metadata": {},
   "outputs": [],
   "source": [
    "y_pred_xgb = modelXGB.predict(x_test)"
   ]
  },
  {
   "cell_type": "markdown",
   "id": "a16f45c7",
   "metadata": {},
   "source": [
    "Compare"
   ]
  },
  {
   "cell_type": "code",
   "execution_count": 130,
   "id": "94c097b0",
   "metadata": {},
   "outputs": [
    {
     "data": {
      "text/html": [
       "<div>\n",
       "<style scoped>\n",
       "    .dataframe tbody tr th:only-of-type {\n",
       "        vertical-align: middle;\n",
       "    }\n",
       "\n",
       "    .dataframe tbody tr th {\n",
       "        vertical-align: top;\n",
       "    }\n",
       "\n",
       "    .dataframe thead th {\n",
       "        text-align: right;\n",
       "    }\n",
       "</style>\n",
       "<table border=\"1\" class=\"dataframe\">\n",
       "  <thead>\n",
       "    <tr style=\"text-align: right;\">\n",
       "      <th></th>\n",
       "      <th>index</th>\n",
       "      <th>Actual</th>\n",
       "      <th>Prediction DT</th>\n",
       "      <th>Prediction RF</th>\n",
       "      <th>Prediction XGB</th>\n",
       "    </tr>\n",
       "  </thead>\n",
       "  <tbody>\n",
       "    <tr>\n",
       "      <th>0</th>\n",
       "      <td>107</td>\n",
       "      <td>1</td>\n",
       "      <td>1</td>\n",
       "      <td>1</td>\n",
       "      <td>1</td>\n",
       "    </tr>\n",
       "    <tr>\n",
       "      <th>1</th>\n",
       "      <td>5594</td>\n",
       "      <td>1</td>\n",
       "      <td>1</td>\n",
       "      <td>0</td>\n",
       "      <td>1</td>\n",
       "    </tr>\n",
       "    <tr>\n",
       "      <th>2</th>\n",
       "      <td>6997</td>\n",
       "      <td>0</td>\n",
       "      <td>1</td>\n",
       "      <td>1</td>\n",
       "      <td>1</td>\n",
       "    </tr>\n",
       "    <tr>\n",
       "      <th>3</th>\n",
       "      <td>3984</td>\n",
       "      <td>0</td>\n",
       "      <td>0</td>\n",
       "      <td>0</td>\n",
       "      <td>1</td>\n",
       "    </tr>\n",
       "    <tr>\n",
       "      <th>4</th>\n",
       "      <td>3111</td>\n",
       "      <td>1</td>\n",
       "      <td>1</td>\n",
       "      <td>1</td>\n",
       "      <td>1</td>\n",
       "    </tr>\n",
       "  </tbody>\n",
       "</table>\n",
       "</div>"
      ],
      "text/plain": [
       "   index  Actual  Prediction DT  Prediction RF  Prediction XGB\n",
       "0    107       1              1              1               1\n",
       "1   5594       1              1              0               1\n",
       "2   6997       0              1              1               1\n",
       "3   3984       0              0              0               1\n",
       "4   3111       1              1              1               1"
      ]
     },
     "execution_count": 130,
     "metadata": {},
     "output_type": "execute_result"
    }
   ],
   "source": [
    "# bandingkan data actual dan prediksi\n",
    "compare = pd.DataFrame({\n",
    "    'Actual' : y_test,\n",
    "    'Prediction DT' : y_pred_dt,\n",
    "    'Prediction RF' : y_pred_rf,\n",
    "    'Prediction XGB' : y_pred_xgb\n",
    "}).reset_index()\n",
    "compare.head()"
   ]
  },
  {
   "cell_type": "markdown",
   "id": "e08e64ef",
   "metadata": {},
   "source": [
    "## Evaluation"
   ]
  },
  {
   "cell_type": "code",
   "execution_count": 131,
   "id": "bbeff1da",
   "metadata": {},
   "outputs": [],
   "source": [
    "from sklearn.metrics import confusion_matrix, classification_report, accuracy_score"
   ]
  },
  {
   "cell_type": "markdown",
   "id": "30cf89e5",
   "metadata": {},
   "source": [
    "Evaluation - Confussion Matrix"
   ]
  },
  {
   "cell_type": "code",
   "execution_count": 132,
   "id": "ea01ca5b",
   "metadata": {},
   "outputs": [
    {
     "name": "stdout",
     "output_type": "stream",
     "text": [
      "[[512 383]\n",
      " [392 913]]\n"
     ]
    }
   ],
   "source": [
    "# cm decision tree\n",
    "print(confusion_matrix(y_test,y_pred_dt))"
   ]
  },
  {
   "cell_type": "code",
   "execution_count": 133,
   "id": "814f9389",
   "metadata": {},
   "outputs": [
    {
     "name": "stdout",
     "output_type": "stream",
     "text": [
      "[[625 270]\n",
      " [459 846]]\n"
     ]
    }
   ],
   "source": [
    "# cm random forest\n",
    "print(confusion_matrix(y_test,y_pred_rf))"
   ]
  },
  {
   "cell_type": "code",
   "execution_count": 134,
   "id": "08d2be3e",
   "metadata": {},
   "outputs": [
    {
     "name": "stdout",
     "output_type": "stream",
     "text": [
      "[[581 314]\n",
      " [433 872]]\n"
     ]
    }
   ],
   "source": [
    "# cm xgboost\n",
    "print(confusion_matrix(y_test,y_pred_xgb))"
   ]
  },
  {
   "cell_type": "code",
   "execution_count": 135,
   "id": "a689c557",
   "metadata": {},
   "outputs": [
    {
     "data": {
      "text/plain": [
       "Text(0.5, 29.5, 'Prediction')"
      ]
     },
     "execution_count": 135,
     "metadata": {},
     "output_type": "execute_result"
    },
    {
     "data": {
      "image/png": "[encoded data removed]",
      "text/plain": [
       "<Figure size 576x396 with 2 Axes>"
      ]
     },
     "metadata": {},
     "output_type": "display_data"
    }
   ],
   "source": [
    "# visualisasi cm decision tree\n",
    "sns.heatmap(confusion_matrix(y_test,y_pred_dt),annot=True, fmt='.3g')\n",
    "plt.ylabel('Actual')\n",
    "plt.xlabel('Prediction')"
   ]
  },
  {
   "cell_type": "code",
   "execution_count": 136,
   "id": "0cc43bbc",
   "metadata": {},
   "outputs": [
    {
     "data": {
      "text/plain": [
       "Text(0.5, 29.5, 'Prediction')"
      ]
     },
     "execution_count": 136,
     "metadata": {},
     "output_type": "execute_result"
    },
    {
     "data": {
      "image/png": "[encoded data removed]",
      "text/plain": [
       "<Figure size 576x396 with 2 Axes>"
      ]
     },
     "metadata": {},
     "output_type": "display_data"
    }
   ],
   "source": [
    "# visualisasi cm random forest\n",
    "sns.heatmap(confusion_matrix(y_test,y_pred_rf),annot=True, fmt='.3g')\n",
    "plt.ylabel('Actual')\n",
    "plt.xlabel('Prediction')"
   ]
  },
  {
   "cell_type": "code",
   "execution_count": 137,
   "id": "b21e4106",
   "metadata": {},
   "outputs": [
    {
     "data": {
      "text/plain": [
       "Text(0.5, 29.5, 'Prediction')"
      ]
     },
     "execution_count": 137,
     "metadata": {},
     "output_type": "execute_result"
    },
    {
     "data": {
      "image/png": "[encoded data removed]",
      "text/plain": [
       "<Figure size 576x396 with 2 Axes>"
      ]
     },
     "metadata": {},
     "output_type": "display_data"
    }
   ],
   "source": [
    "# visualisasi cm xgbooost\n",
    "sns.heatmap(confusion_matrix(y_test,y_pred_xgb),annot=True, fmt='.3g')\n",
    "plt.ylabel('Actual')\n",
    "plt.xlabel('Prediction')"
   ]
  },
  {
   "cell_type": "markdown",
   "id": "574c2c52",
   "metadata": {},
   "source": [
    "Evaluation - Classification Report"
   ]
  },
  {
   "cell_type": "code",
   "execution_count": 138,
   "id": "654f08b9",
   "metadata": {},
   "outputs": [
    {
     "name": "stdout",
     "output_type": "stream",
     "text": [
      "              precision    recall  f1-score   support\n",
      "\n",
      "           0       0.57      0.57      0.57       895\n",
      "           1       0.70      0.70      0.70      1305\n",
      "\n",
      "    accuracy                           0.65      2200\n",
      "   macro avg       0.64      0.64      0.64      2200\n",
      "weighted avg       0.65      0.65      0.65      2200\n",
      "\n"
     ]
    }
   ],
   "source": [
    "# cr decision tree\n",
    "print(classification_report(y_test,y_pred_dt))"
   ]
  },
  {
   "cell_type": "code",
   "execution_count": 139,
   "id": "03f1a5f2",
   "metadata": {},
   "outputs": [
    {
     "name": "stdout",
     "output_type": "stream",
     "text": [
      "              precision    recall  f1-score   support\n",
      "\n",
      "           0       0.58      0.70      0.63       895\n",
      "           1       0.76      0.65      0.70      1305\n",
      "\n",
      "    accuracy                           0.67      2200\n",
      "   macro avg       0.67      0.67      0.67      2200\n",
      "weighted avg       0.68      0.67      0.67      2200\n",
      "\n"
     ]
    }
   ],
   "source": [
    "# cr random forest\n",
    "print(classification_report(y_test,y_pred_rf))"
   ]
  },
  {
   "cell_type": "code",
   "execution_count": 140,
   "id": "712f0880",
   "metadata": {},
   "outputs": [
    {
     "name": "stdout",
     "output_type": "stream",
     "text": [
      "              precision    recall  f1-score   support\n",
      "\n",
      "           0       0.57      0.65      0.61       895\n",
      "           1       0.74      0.67      0.70      1305\n",
      "\n",
      "    accuracy                           0.66      2200\n",
      "   macro avg       0.65      0.66      0.65      2200\n",
      "weighted avg       0.67      0.66      0.66      2200\n",
      "\n"
     ]
    }
   ],
   "source": [
    "# cr xgboost\n",
    "print(classification_report(y_test,y_pred_xgb))"
   ]
  },
  {
   "cell_type": "markdown",
   "id": "85704974",
   "metadata": {},
   "source": [
    "Evaluation - Accuracy Score"
   ]
  },
  {
   "cell_type": "code",
   "execution_count": 141,
   "id": "ff98431f",
   "metadata": {},
   "outputs": [
    {
     "name": "stdout",
     "output_type": "stream",
     "text": [
      "64.77272727272727\n"
     ]
    }
   ],
   "source": [
    "# score decision tree\n",
    "print(accuracy_score(y_test, y_pred_dt)*100)"
   ]
  },
  {
   "cell_type": "code",
   "execution_count": 142,
   "id": "1c7b3934",
   "metadata": {},
   "outputs": [
    {
     "name": "stdout",
     "output_type": "stream",
     "text": [
      "66.86363636363636\n"
     ]
    }
   ],
   "source": [
    "# score random forest\n",
    "print(accuracy_score(y_test, y_pred_rf)*100)"
   ]
  },
  {
   "cell_type": "code",
   "execution_count": 143,
   "id": "0d14537e",
   "metadata": {},
   "outputs": [
    {
     "name": "stdout",
     "output_type": "stream",
     "text": [
      "66.04545454545455\n"
     ]
    }
   ],
   "source": [
    "# score xgboost\n",
    "print(accuracy_score(y_test, y_pred_xgb)*100)"
   ]
  },
  {
   "cell_type": "markdown",
   "id": "e095c57c",
   "metadata": {},
   "source": [
    "# Tuning"
   ]
  },
  {
   "cell_type": "code",
   "execution_count": 144,
   "id": "afc25636",
   "metadata": {},
   "outputs": [],
   "source": [
    "from sklearn.model_selection import GridSearchCV"
   ]
  },
  {
   "cell_type": "markdown",
   "id": "9d34f377",
   "metadata": {},
   "source": [
    "Tuning - DecisionTree"
   ]
  },
  {
   "cell_type": "code",
   "execution_count": 145,
   "id": "344e3bd0",
   "metadata": {},
   "outputs": [
    {
     "name": "stdout",
     "output_type": "stream",
     "text": [
      "Fitting 3 folds for each of 2916 candidates, totalling 8748 fits\n"
     ]
    },
    {
     "data": {
      "text/plain": [
       "GridSearchCV(cv=3, estimator=DecisionTreeClassifier(), n_jobs=-1,\n",
       "             param_grid={'criterion': ['gini', 'entropy'],\n",
       "                         'max_depth': range(1, 10),\n",
       "                         'min_samples_leaf': range(1, 10),\n",
       "                         'min_samples_split': range(1, 10),\n",
       "                         'splitter': ['best', 'random']},\n",
       "             verbose=1)"
      ]
     },
     "execution_count": 145,
     "metadata": {},
     "output_type": "execute_result"
    }
   ],
   "source": [
    "params = {\n",
    "    'criterion' : ['gini','entropy'],\n",
    "    'splitter' : ['best','random'],\n",
    "    'max_depth' : range(1,10),\n",
    "    'min_samples_split' : range(1,10),\n",
    "    'min_samples_leaf' : range(1,10)\n",
    "}\n",
    "\n",
    "model = GridSearchCV(DecisionTreeClassifier(),params,cv=3,verbose=1,n_jobs=-1)\n",
    "model.fit(x_train,y_train)"
   ]
  },
  {
   "cell_type": "code",
   "execution_count": 146,
   "id": "5d76dd65",
   "metadata": {},
   "outputs": [
    {
     "data": {
      "text/plain": [
       "{'criterion': 'entropy',\n",
       " 'max_depth': 5,\n",
       " 'min_samples_leaf': 2,\n",
       " 'min_samples_split': 3,\n",
       " 'splitter': 'best'}"
      ]
     },
     "execution_count": 146,
     "metadata": {},
     "output_type": "execute_result"
    }
   ],
   "source": [
    "model.best_params_"
   ]
  },
  {
   "cell_type": "code",
   "execution_count": 147,
   "id": "64061da0",
   "metadata": {},
   "outputs": [
    {
     "data": {
      "text/plain": [
       "0.6822366177974771"
      ]
     },
     "execution_count": 147,
     "metadata": {},
     "output_type": "execute_result"
    }
   ],
   "source": [
    "model.best_score_"
   ]
  },
  {
   "cell_type": "markdown",
   "id": "0575a360",
   "metadata": {},
   "source": [
    "Tuning - Random Forest"
   ]
  },
  {
   "cell_type": "code",
   "execution_count": 148,
   "id": "d24c521c",
   "metadata": {},
   "outputs": [
    {
     "name": "stdout",
     "output_type": "stream",
     "text": [
      "Fitting 3 folds for each of 52488 candidates, totalling 157464 fits\n"
     ]
    },
    {
     "data": {
      "text/plain": [
       "GridSearchCV(cv=3, estimator=RandomForestClassifier(), n_jobs=-1,\n",
       "             param_grid={'bootstrap': [True, False],\n",
       "                         'criterion': ['gini', 'entropy'],\n",
       "                         'max_depth': range(1, 10),\n",
       "                         'max_features': ['auto', 'sqrt'],\n",
       "                         'min_samples_leaf': range(1, 10),\n",
       "                         'min_samples_split': range(1, 10),\n",
       "                         'n_estimators': range(1, 10)},\n",
       "             verbose=1)"
      ]
     },
     "execution_count": 148,
     "metadata": {},
     "output_type": "execute_result"
    }
   ],
   "source": [
    "params = {\n",
    "     'criterion' : ['gini','entropy'],\n",
    "     'bootstrap': [True, False],\n",
    "     'max_depth': range(1,10),\n",
    "     'max_features': ['auto', 'sqrt'],\n",
    "     'min_samples_leaf': range(1,10),\n",
    "     'min_samples_split': range(1,10),\n",
    "     'n_estimators': range(1,10)\n",
    "}\n",
    "\n",
    "model = GridSearchCV(RandomForestClassifier(),params,cv=3,verbose=1,n_jobs=-1)\n",
    "model.fit(x_train,y_train)"
   ]
  },
  {
   "cell_type": "code",
   "execution_count": 149,
   "id": "cc5a26bf",
   "metadata": {},
   "outputs": [
    {
     "data": {
      "text/plain": [
       "{'bootstrap': False,\n",
       " 'criterion': 'gini',\n",
       " 'max_depth': 5,\n",
       " 'max_features': 'sqrt',\n",
       " 'min_samples_leaf': 1,\n",
       " 'min_samples_split': 8,\n",
       " 'n_estimators': 9}"
      ]
     },
     "execution_count": 149,
     "metadata": {},
     "output_type": "execute_result"
    }
   ],
   "source": [
    "model.best_params_"
   ]
  },
  {
   "cell_type": "code",
   "execution_count": 150,
   "id": "1c945696",
   "metadata": {},
   "outputs": [
    {
     "data": {
      "text/plain": [
       "0.6829185134674395"
      ]
     },
     "execution_count": 150,
     "metadata": {},
     "output_type": "execute_result"
    }
   ],
   "source": [
    "model.best_score_"
   ]
  },
  {
   "cell_type": "markdown",
   "id": "ccfbd38f",
   "metadata": {},
   "source": [
    "Tuning - xgboost"
   ]
  },
  {
   "cell_type": "code",
   "execution_count": null,
   "id": "65b18407",
   "metadata": {},
   "outputs": [
    {
     "name": "stdout",
     "output_type": "stream",
     "text": [
      "Fitting 3 folds for each of 405 candidates, totalling 1215 fits\n"
     ]
    }
   ],
   "source": [
    "params = {\n",
    "    'min_child_weight': [1, 5, 10],\n",
    "    'gamma': [0.5, 1, 1.5, 2, 5],\n",
    "    'subsample': [0.6, 0.8, 1.0],\n",
    "    'colsample_bytree': [0.6, 0.8, 1.0],\n",
    "    'max_depth': [3, 4, 5]\n",
    "}\n",
    "\n",
    "model = GridSearchCV(XGBClassifier(),params,cv=3,verbose=1,n_jobs=-1)\n",
    "model.fit(x_train,y_train)"
   ]
  },
  {
   "cell_type": "code",
   "execution_count": null,
   "id": "c7e312ed",
   "metadata": {},
   "outputs": [],
   "source": [
    "model.best_params_"
   ]
  },
  {
   "cell_type": "code",
   "execution_count": null,
   "id": "ceb24159",
   "metadata": {},
   "outputs": [],
   "source": [
    "model.best_score_"
   ]
  },
  {
   "cell_type": "code",
   "execution_count": null,
   "id": "103cf731",
   "metadata": {},
   "outputs": [],
   "source": []
  },
  {
   "cell_type": "code",
   "execution_count": null,
   "id": "817ed1b5",
   "metadata": {},
   "outputs": [],
   "source": []
  },
  {
   "cell_type": "code",
   "execution_count": null,
   "id": "da8dfbbd",
   "metadata": {},
   "outputs": [],
   "source": []
  },
  {
   "cell_type": "code",
   "execution_count": null,
   "id": "721b7048",
   "metadata": {},
   "outputs": [],
   "source": []
  }
 ],
 "metadata": {
  "kernelspec": {
   "display_name": "Python 3 (ipykernel)",
   "language": "python",
   "name": "python3"
  },
  "language_info": {
   "codemirror_mode": {
    "name": "ipython",
    "version": 3
   },
   "file_extension": ".py",
   "mimetype": "text/x-python",
   "name": "python",
   "nbconvert_exporter": "python",
   "pygments_lexer": "ipython3",
   "version": "3.8.12"
  }
 },
 "nbformat": 4,
 "nbformat_minor": 5
}
